{
 "cells": [
  {
   "cell_type": "markdown",
   "metadata": {},
   "source": [
    "# Setup"
   ]
  },
  {
   "cell_type": "code",
   "execution_count": 1,
   "metadata": {},
   "outputs": [],
   "source": [
    "import duckdb\n",
    "import pandas as pd\n",
    "import numpy as np\n",
    "import matplotlib.pyplot as plt\n",
    "import seaborn as sns\n",
    "from pyspark.sql import SparkSession,Window\n",
    "import pyspark.sql.functions as F\n",
    "import os\n",
    "from pathlib import Path\n",
    "\n",
    "initial_path = 'C:/Users/Mateus Santos Rochas/Desktop/Estudos/07. Doutorado - Matemática aplicada/Pesquisa/Dados R2'\n",
    "bronze_path = os.path.join(initial_path,'1. bronze')\n",
    "prata_path = os.path.join(initial_path,'2. prata')\n",
    "ouro_path = os.path.join(initial_path,'3. ouro')\n",
    "\n",
    "spark = SparkSession.builder.appName(\"Mateus\") \\\n",
    "    .config(\"spark.sql.shuffle.partitions\", \"100\") \\\n",
    "    .config(\"spark.sql.files.maxPartitionBytes\", \"128MB\") \\\n",
    "    .config(\"spark.sql.files.openCostInBytes\", \"4MB\")  \\\n",
    "    .config(\"spark.driver.maxResultSize\", \"4g\") \\\n",
    "    .config(\"spark.driver.memory\", \"16g\")  \\\n",
    "    .config(\"spark.executor.cores\", \"4\") \\\n",
    "    .config(\"spark.executor.memory\", \"8g\") \\\n",
    "    .config(\"spark.sql.execution.arrow.enabled\", \"true\") \\\n",
    "    .config(\"spark.sql.execution.arrow.pyspark.enabled\", \"true\") \\\n",
    "    .config(\"spark.dynamicAllocation.enabled\", \"true\") \\\n",
    "    .config(\"spark.dynamicAllocation.minExecutors\", \"1\") \\\n",
    "    .config(\"spark.dynamicAllocation.maxExecutors\", \"4\")  \\\n",
    "    .getOrCreate()\n",
    "\n",
    "conn = duckdb.connect('r2_prata.duckdb')\n",
    "conn.execute(\"ATTACH 'r2_ouro.duckdb' AS r2_ouro\")\n",
    "\n",
    "\n",
    "def sql(query,conn=conn):\n",
    "    return conn.execute(query).fetch_df()\n",
    "\n",
    "show_tables_prata_query = \"\"\" SELECT DISTINCT table_name FROM information_schema.tables WHERE table_catalog = 'r2_prata' \"\"\"\n",
    "\n",
    "\n",
    "show_tables_ouro_query = \"\"\" SELECT DISTINCT table_name FROM information_schema.tables WHERE table_catalog = 'r2_ouro' \"\"\""
   ]
  },
  {
   "cell_type": "markdown",
   "metadata": {},
   "source": [
    "# Protótipos"
   ]
  },
  {
   "cell_type": "code",
   "execution_count": 2,
   "metadata": {},
   "outputs": [],
   "source": [
    "from pyspark.sql.types import TimestampType,LongType,DoubleType,FloatType,StringType,StructField,StructType,IntegerType\n",
    "\n",
    "# Auxiliar functions\n",
    "def equivalent_type(f):\n",
    "    if f == 'datetime64[ns]': return TimestampType()\n",
    "    elif f == 'int64': return LongType()\n",
    "    elif f == 'int32': return IntegerType()\n",
    "    elif f == 'float64': return DoubleType()\n",
    "    elif f == 'float32': return FloatType()\n",
    "    else: return StringType()\n",
    "\n",
    "def define_structure(string, format_type):\n",
    "    try: typo = equivalent_type(format_type)\n",
    "    except: typo = StringType()\n",
    "    return StructField(string, typo)\n",
    "\n",
    "# Given pandas dataframe, it will return a spark's dataframe.\n",
    "def pandas_to_spark(pandas_df):\n",
    "    columns = list(pandas_df.columns)\n",
    "    types = list(pandas_df.dtypes)\n",
    "    struct_list = []\n",
    "    for column, typo in zip(columns, types): \n",
    "      struct_list.append(define_structure(column, typo))\n",
    "    p_schema = StructType(struct_list)\n",
    "    return spark.createDataFrame(pandas_df, p_schema)\n",
    "\n",
    "# Funções para preenchimento de dados faltantes usando estações próximas\n",
    "def preencher_com_vizinha(row,medida,cols_vizinhas):\n",
    "    if pd.notnull(row[f'vl_{medida}']):\n",
    "        return row[f'vl_{medida}']\n",
    "    # Itera sobre as temperaturas vizinhas e retorna o primeiro valor não nulo\n",
    "    return next((row[col] for col in cols_vizinhas if pd.notnull(row[col])), np.nan)\n",
    "\n",
    "def fill_na_estacoes_vizinhas(abt,medida):\n",
    "    cols_vizinhas = [f'vl_{medida}_vizinha_{i}' for i in range(1, 13)]\n",
    "    return abt.apply(preencher_com_vizinha,medida=medida,cols_vizinhas=cols_vizinhas, axis=1)\n",
    "\n",
    "def construir_abt_primaria(n_estacoes_vizinhas):\n",
    "    # Importando a ABT Bruta pronta do database\n",
    "    abt_bruto = sql(\"SELECT * FROM r2_ouro.abt_bruto\")\n",
    "\n",
    "    # Substituindo os dados -9999 por NaN, já que representam erros de medição\n",
    "    abt = abt_bruto.replace(-9999,np.nan)\n",
    "\n",
    "    # Preenchendo os valores nulos de temperatura e umidade com a estação vizinha mais próxima o possível\n",
    "    for medida in ['temperatura_minima','temperatura_media','temperatura_maxima','umidade_relativa_minima','umidade_relativa_media']:\n",
    "        abt[f'vl_{medida}'] = fill_na_estacoes_vizinhas(abt,medida)\n",
    "\n",
    "    # Retirando as colunas auxiliares de temperatura e umidade das estações vizinhas\n",
    "    abt = abt.drop([f'vl_{medida}_vizinha_{i}' for i in range(1,13) for medida in ['temperatura_minima','temperatura_media','temperatura_maxima','umidade_relativa_minima','umidade_relativa_media']]+[c for c in abt.columns if 'umidade_relativa_maxima' in c],axis=1)\n",
    "\n",
    "    # Inserindo as informações de lat-lon\n",
    "    dim_estacoes = sql(\"SELECT id_estacao,lat AS lat_estacao, lon AS lon_estacao FROM r2_prata.dim_estacoes\")\n",
    "    abt = abt.merge(dim_estacoes,on='id_estacao',how='inner')\n",
    "\n",
    "    # Reordenando as colunas\n",
    "    abt = abt[\n",
    "        ['id_estacao','dt_medicao','lat_estacao','lon_estacao',\n",
    "        'vl_temperatura_minima','vl_temperatura_media','vl_temperatura_maxima',\n",
    "        'vl_umidade_relativa_minima','vl_umidade_relativa_media']+\n",
    "        [item for i in range(1, n_estacoes_vizinhas+1) for item in (f'id_estacao_vizinha_{i}', f'vl_precipitacao_vizinha_{i}')]+\n",
    "        ['vl_precipitacao']]\n",
    "\n",
    "    # Corrigindo um bug de colunas duplicadas\n",
    "    abt = abt.loc[:, ~abt.columns.duplicated()]\n",
    "\n",
    "    return abt"
   ]
  },
  {
   "cell_type": "code",
   "execution_count": 4,
   "metadata": {},
   "outputs": [],
   "source": [
    "abt_pandas = construir_abt_primaria(n_estacoes_vizinhas=12)"
   ]
  },
  {
   "cell_type": "code",
   "execution_count": 8,
   "metadata": {},
   "outputs": [],
   "source": [
    "abt_pandas.to_csv(os.path.join(ouro_path,'abt_primaria_12_estacoes.csv'),index=False)"
   ]
  },
  {
   "cell_type": "markdown",
   "metadata": {},
   "source": [
    "# ABT com Satélite"
   ]
  },
  {
   "cell_type": "markdown",
   "metadata": {},
   "source": [
    "## Importando a ABT no Spark"
   ]
  },
  {
   "cell_type": "code",
   "execution_count": 3,
   "metadata": {},
   "outputs": [],
   "source": [
    "abt = spark.read.format('csv').option('header','true').option('inferSchema','true').load(os.path.join(ouro_path,'abt_primaria_12_estacoes.csv'))"
   ]
  },
  {
   "cell_type": "markdown",
   "metadata": {},
   "source": [
    "## Join com satélites"
   ]
  },
  {
   "cell_type": "code",
   "execution_count": 4,
   "metadata": {},
   "outputs": [],
   "source": [
    "def get_single_csv(satelite, folder,db):\n",
    "    file_path = os.path.join(f'{folder}',f'{db}_fato_{satelite}.csv',[f for f in os.listdir(os.path.join(folder,f'{db}_fato_{satelite}.csv')) if f.endswith('.csv')][0])\n",
    "    return str(Path(file_path).resolve())\n",
    "\n",
    "satelites = ['AgCFSR','AgMERRA','CHIRPS','CPC','GL','GPM_Final_Run', 'GPM_Late_Run','PERSIANN_CDR','POWER','TRMM']"
   ]
  },
  {
   "cell_type": "code",
   "execution_count": 5,
   "metadata": {},
   "outputs": [],
   "source": [
    "satelite_dict = {satelite:spark.read.format('csv').option('header','true').option('inferSchema','true').load(get_single_csv(satelite,'2. prata','prata')) for satelite in satelites}\n",
    "\n",
    "for satelite_name,df in satelite_dict.items():\n",
    "    for column in df.columns:\n",
    "        if not column in ['dt_medicao','lat','lon']:\n",
    "            df = df.withColumnRenamed(column,f'{column}_{satelite_name}')\n",
    "    satelite_dict[satelite_name] = df"
   ]
  },
  {
   "cell_type": "code",
   "execution_count": 31,
   "metadata": {},
   "outputs": [],
   "source": [
    "delta_dict = {\n",
    "    'AgCFSR':0.5,\n",
    "    'AgMERRA':0.5,\n",
    "    'CHIRPS':0.1,\n",
    "    'CPC':0.1,\n",
    "    'GL':0.2,\n",
    "    'GPM_Final_Run':0.2,\n",
    "    'GPM_Late_Run':0.2,\n",
    "    'PERSIANN_CDR':0.5,\n",
    "    'POWER':1,\n",
    "    'TRMM':0.5\n",
    "}\n",
    "\n",
    "window_spec = Window.partitionBy(\"id_estacao\", \"dt_medicao\").orderBy(\"lat\")\n",
    "\n",
    "joined_df = {}\n",
    "for satelite_name, df in satelite_dict.items():\n",
    "    alias_df = df.withColumnRenamed('dt_medicao','dt_medicao_satelite')\n",
    "\n",
    "    joined_df[satelite_name] = abt.join(\n",
    "        alias_df,\n",
    "        on=[\n",
    "            (abt.dt_medicao == alias_df.dt_medicao_satelite) &\n",
    "            (F.abs(abt.lat_estacao-alias_df.lat)<=delta_dict[satelite_name]/4) &\n",
    "            (F.abs(abt.lon_estacao-alias_df.lon)<=delta_dict[satelite_name]/4)\n",
    "        ],\n",
    "        how='left') \\\n",
    "        .withColumn(\"rank\", F.row_number().over(window_spec)) \\\n",
    "        .filter(F.col(\"rank\") == 1).drop(\"rank\") \\\n",
    "        .drop('rank')"
   ]
  },
  {
   "cell_type": "code",
   "execution_count": 32,
   "metadata": {},
   "outputs": [],
   "source": [
    "for satelite_name, df in satelite_dict.items():    \n",
    "    joined_df[satelite_name] \\\n",
    "            .drop('dt_medicao_satelite','lat','lon') \\\n",
    "            .coalesce(1) \\\n",
    "            .write \\\n",
    "            .option(\"header\",True) \\\n",
    "            .option(\"delimiter\",\",\") \\\n",
    "            .mode(\"overwrite\") \\\n",
    "            .csv(os.path.join(ouro_path, f'ouro_ABT_{satelite_name}.csv'))"
   ]
  },
  {
   "cell_type": "markdown",
   "metadata": {},
   "source": [
    "## Salvando no DB"
   ]
  },
  {
   "cell_type": "code",
   "execution_count": 33,
   "metadata": {},
   "outputs": [],
   "source": [
    "def get_single_csv_abt(satelite, folder,db):\n",
    "    file_path = os.path.join(f'{folder}',f'{db}_ABT_{satelite}.csv',[f for f in os.listdir(os.path.join(folder,f'{db}_ABT_{satelite}.csv')) if f.endswith('.csv')][0])\n",
    "    return str(Path(file_path).resolve())\n",
    "\n",
    "for satelite in satelite_dict.keys():\n",
    "    conn.execute(f\"\"\"\n",
    "    CREATE OR REPLACE TABLE\n",
    "                r2_ouro.ABT_satelite_{satelite} AS \n",
    "    SELECT * FROM read_csv_auto(\n",
    "    '{get_single_csv_abt(satelite, '3. ouro','ouro')}'\n",
    "    )\"\"\")"
   ]
  },
  {
   "cell_type": "code",
   "execution_count": 34,
   "metadata": {},
   "outputs": [],
   "source": [
    "abt_satelite = {satelite:sql(f\"SELECT * FROM r2_ouro.ABT_satelite_{satelite}\") for satelite in satelites}"
   ]
  },
  {
   "cell_type": "code",
   "execution_count": 35,
   "metadata": {},
   "outputs": [
    {
     "name": "stdout",
     "output_type": "stream",
     "text": [
      "ABT: 2268306\n",
      "ABT_AgCFSR: 2268306\n",
      "ABT_AgMERRA: 2268306\n",
      "ABT_CHIRPS: 2268306\n",
      "ABT_CPC: 2268306\n",
      "ABT_GL: 2268306\n",
      "ABT_GPM_Final_Run: 2268306\n",
      "ABT_GPM_Late_Run: 2268306\n",
      "ABT_PERSIANN_CDR: 2268306\n",
      "ABT_POWER: 2268306\n",
      "ABT_TRMM: 2268306\n"
     ]
    }
   ],
   "source": [
    "print(f\"ABT: {abt.count()}\")\n",
    "for satelite,df in abt_satelite.items():\n",
    "    print(f\"ABT_{satelite}: {len(df)}\")"
   ]
  },
  {
   "cell_type": "markdown",
   "metadata": {},
   "source": [
    "## Join final dos satélites"
   ]
  },
  {
   "cell_type": "code",
   "execution_count": 36,
   "metadata": {},
   "outputs": [
    {
     "data": {
      "text/html": [
       "<div>\n",
       "<style scoped>\n",
       "    .dataframe tbody tr th:only-of-type {\n",
       "        vertical-align: middle;\n",
       "    }\n",
       "\n",
       "    .dataframe tbody tr th {\n",
       "        vertical-align: top;\n",
       "    }\n",
       "\n",
       "    .dataframe thead th {\n",
       "        text-align: right;\n",
       "    }\n",
       "</style>\n",
       "<table border=\"1\" class=\"dataframe\">\n",
       "  <thead>\n",
       "    <tr style=\"text-align: right;\">\n",
       "      <th></th>\n",
       "      <th>table_name</th>\n",
       "    </tr>\n",
       "  </thead>\n",
       "  <tbody>\n",
       "    <tr>\n",
       "      <th>0</th>\n",
       "      <td>ABT_satelite_AgCFSR</td>\n",
       "    </tr>\n",
       "    <tr>\n",
       "      <th>1</th>\n",
       "      <td>ABT_satelite_AgMERRA</td>\n",
       "    </tr>\n",
       "    <tr>\n",
       "      <th>2</th>\n",
       "      <td>ABT_satelite_all</td>\n",
       "    </tr>\n",
       "    <tr>\n",
       "      <th>3</th>\n",
       "      <td>ABT_satelite_CHIRPS</td>\n",
       "    </tr>\n",
       "    <tr>\n",
       "      <th>4</th>\n",
       "      <td>ABT_satelite_CPC</td>\n",
       "    </tr>\n",
       "    <tr>\n",
       "      <th>5</th>\n",
       "      <td>ABT_satelite_GL</td>\n",
       "    </tr>\n",
       "    <tr>\n",
       "      <th>6</th>\n",
       "      <td>ABT_satelite_GPM_Final_Run</td>\n",
       "    </tr>\n",
       "    <tr>\n",
       "      <th>7</th>\n",
       "      <td>ABT_satelite_GPM_Late_Run</td>\n",
       "    </tr>\n",
       "    <tr>\n",
       "      <th>8</th>\n",
       "      <td>ABT_satelite_PERSIANN_CDR</td>\n",
       "    </tr>\n",
       "    <tr>\n",
       "      <th>9</th>\n",
       "      <td>ABT_satelite_POWER</td>\n",
       "    </tr>\n",
       "    <tr>\n",
       "      <th>10</th>\n",
       "      <td>ABT_satelite_TRMM</td>\n",
       "    </tr>\n",
       "  </tbody>\n",
       "</table>\n",
       "</div>"
      ],
      "text/plain": [
       "                    table_name\n",
       "0          ABT_satelite_AgCFSR\n",
       "1         ABT_satelite_AgMERRA\n",
       "2             ABT_satelite_all\n",
       "3          ABT_satelite_CHIRPS\n",
       "4             ABT_satelite_CPC\n",
       "5              ABT_satelite_GL\n",
       "6   ABT_satelite_GPM_Final_Run\n",
       "7    ABT_satelite_GPM_Late_Run\n",
       "8    ABT_satelite_PERSIANN_CDR\n",
       "9           ABT_satelite_POWER\n",
       "10           ABT_satelite_TRMM"
      ]
     },
     "execution_count": 36,
     "metadata": {},
     "output_type": "execute_result"
    }
   ],
   "source": [
    "sql(\"SELECT table_name FROM information_schema.tables WHERE table_name LIKE '%satelite%' AND table_name LIKE '%ABT%'\")"
   ]
  },
  {
   "cell_type": "code",
   "execution_count": 37,
   "metadata": {},
   "outputs": [],
   "source": [
    "satelites = ['AgCFSR','AgMERRA','CHIRPS','CPC','GL','GPM_Final_Run', 'GPM_Late_Run','PERSIANN_CDR','POWER','TRMM']\n",
    "string_columns_satelite = {\n",
    "    ','+','.join([f'{satelite}.{col}' for col in list(sql(f\"SELECT * FROM r2_ouro.ABT_satelite_{satelite} LIMIT 1\").columns[34:])])\n",
    "    for satelite in satelites\n",
    "    if satelite != 'AgCFSR'}"
   ]
  },
  {
   "cell_type": "code",
   "execution_count": 38,
   "metadata": {},
   "outputs": [],
   "source": [
    "abt_satelite_join_all = sql(\n",
    "f\"\"\"\n",
    "SELECT\n",
    "    AgCFSR.*\n",
    "    {''.join(string_columns_satelite)}\n",
    "FROM r2_ouro.ABT_satelite_AgCFSR AS AgCFSR\n",
    "\n",
    "{' '.join({\n",
    "    f\"JOIN r2_ouro.ABT_satelite_{satelite} AS {satelite} ON AgCFSR.id_estacao = {satelite}.id_estacao AND AgCFSR.dt_medicao = {satelite}.dt_medicao\"\n",
    "    for satelite in satelites\n",
    "    if satelite != 'AgCFSR'})}\n",
    "\"\"\"\n",
    ")"
   ]
  },
  {
   "cell_type": "code",
   "execution_count": 39,
   "metadata": {},
   "outputs": [
    {
     "data": {
      "text/html": [
       "<div>\n",
       "<style scoped>\n",
       "    .dataframe tbody tr th:only-of-type {\n",
       "        vertical-align: middle;\n",
       "    }\n",
       "\n",
       "    .dataframe tbody tr th {\n",
       "        vertical-align: top;\n",
       "    }\n",
       "\n",
       "    .dataframe thead th {\n",
       "        text-align: right;\n",
       "    }\n",
       "</style>\n",
       "<table border=\"1\" class=\"dataframe\">\n",
       "  <thead>\n",
       "    <tr style=\"text-align: right;\">\n",
       "      <th></th>\n",
       "      <th>Count</th>\n",
       "    </tr>\n",
       "  </thead>\n",
       "  <tbody>\n",
       "    <tr>\n",
       "      <th>0</th>\n",
       "      <td>2268306</td>\n",
       "    </tr>\n",
       "  </tbody>\n",
       "</table>\n",
       "</div>"
      ],
      "text/plain": [
       "     Count\n",
       "0  2268306"
      ]
     },
     "execution_count": 39,
     "metadata": {},
     "output_type": "execute_result"
    }
   ],
   "source": [
    "sql(\"CREATE OR REPLACE TABLE r2_ouro.ABT_satelite_all AS (SELECT * FROM abt_satelite_join_all)\")"
   ]
  },
  {
   "cell_type": "code",
   "execution_count": 40,
   "metadata": {},
   "outputs": [],
   "source": [
    "conn.close()"
   ]
  }
 ],
 "metadata": {
  "kernelspec": {
   "display_name": "Python 3",
   "language": "python",
   "name": "python3"
  },
  "language_info": {
   "codemirror_mode": {
    "name": "ipython",
    "version": 3
   },
   "file_extension": ".py",
   "mimetype": "text/x-python",
   "name": "python",
   "nbconvert_exporter": "python",
   "pygments_lexer": "ipython3",
   "version": "3.11.9"
  }
 },
 "nbformat": 4,
 "nbformat_minor": 2
}
