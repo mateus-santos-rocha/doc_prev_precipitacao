{
 "cells": [
  {
   "cell_type": "code",
   "execution_count": 1,
   "metadata": {},
   "outputs": [],
   "source": [
    "import pandas as pd\n",
    "import duckdb"
   ]
  },
  {
   "cell_type": "code",
   "execution_count": 2,
   "metadata": {},
   "outputs": [],
   "source": [
    "conn = duckdb.connect('r2_prata.duckdb')\n",
    "conn.execute(\"ATTACH 'r2_ouro.duckdb' AS r2_ouro\")\n",
    "\n",
    "def sql(query):\n",
    "    return conn.execute(query).fetch_df()\n",
    "\n",
    "show_tables_prata_query = \"\"\" SELECT DISTINCT table_name FROM information_schema.tables WHERE table_catalog = 'r2_prata' \"\"\"\n",
    "\n",
    "\n",
    "show_tables_ouro_query = \"\"\" SELECT DISTINCT table_name FROM information_schema.tables WHERE table_catalog = 'r2_ouro' \"\"\"\n"
   ]
  },
  {
   "cell_type": "code",
   "execution_count": 68,
   "metadata": {},
   "outputs": [
    {
     "data": {
      "text/html": [
       "<div>\n",
       "<style scoped>\n",
       "    .dataframe tbody tr th:only-of-type {\n",
       "        vertical-align: middle;\n",
       "    }\n",
       "\n",
       "    .dataframe tbody tr th {\n",
       "        vertical-align: top;\n",
       "    }\n",
       "\n",
       "    .dataframe thead th {\n",
       "        text-align: right;\n",
       "    }\n",
       "</style>\n",
       "<table border=\"1\" class=\"dataframe\">\n",
       "  <thead>\n",
       "    <tr style=\"text-align: right;\">\n",
       "      <th></th>\n",
       "      <th>table_name</th>\n",
       "    </tr>\n",
       "  </thead>\n",
       "  <tbody>\n",
       "    <tr>\n",
       "      <th>0</th>\n",
       "      <td>fato_estacao_CEMADEN</td>\n",
       "    </tr>\n",
       "    <tr>\n",
       "      <th>1</th>\n",
       "      <td>fato_estacao_UNESP</td>\n",
       "    </tr>\n",
       "    <tr>\n",
       "      <th>2</th>\n",
       "      <td>fato_estacao_INMET</td>\n",
       "    </tr>\n",
       "    <tr>\n",
       "      <th>3</th>\n",
       "      <td>fato_estacao_CEMIG</td>\n",
       "    </tr>\n",
       "    <tr>\n",
       "      <th>4</th>\n",
       "      <td>fato_estacao_IAC</td>\n",
       "    </tr>\n",
       "    <tr>\n",
       "      <th>5</th>\n",
       "      <td>fato_estacao_INMET_AGRI</td>\n",
       "    </tr>\n",
       "    <tr>\n",
       "      <th>6</th>\n",
       "      <td>fato_estacao_ANA</td>\n",
       "    </tr>\n",
       "  </tbody>\n",
       "</table>\n",
       "</div>"
      ],
      "text/plain": [
       "                table_name\n",
       "0     fato_estacao_CEMADEN\n",
       "1       fato_estacao_UNESP\n",
       "2       fato_estacao_INMET\n",
       "3       fato_estacao_CEMIG\n",
       "4         fato_estacao_IAC\n",
       "5  fato_estacao_INMET_AGRI\n",
       "6         fato_estacao_ANA"
      ]
     },
     "execution_count": 68,
     "metadata": {},
     "output_type": "execute_result"
    }
   ],
   "source": [
    "sql(show_tables_prata_query+\" AND table_name LIKE 'fato_estacao%'\")"
   ]
  },
  {
   "cell_type": "code",
   "execution_count": 110,
   "metadata": {},
   "outputs": [
    {
     "data": {
      "text/html": [
       "<div>\n",
       "<style scoped>\n",
       "    .dataframe tbody tr th:only-of-type {\n",
       "        vertical-align: middle;\n",
       "    }\n",
       "\n",
       "    .dataframe tbody tr th {\n",
       "        vertical-align: top;\n",
       "    }\n",
       "\n",
       "    .dataframe thead th {\n",
       "        text-align: right;\n",
       "    }\n",
       "</style>\n",
       "<table border=\"1\" class=\"dataframe\">\n",
       "  <thead>\n",
       "    <tr style=\"text-align: right;\">\n",
       "      <th></th>\n",
       "      <th>table_name</th>\n",
       "    </tr>\n",
       "  </thead>\n",
       "  <tbody>\n",
       "    <tr>\n",
       "      <th>0</th>\n",
       "      <td>estacoes_distancias</td>\n",
       "    </tr>\n",
       "    <tr>\n",
       "      <th>1</th>\n",
       "      <td>fato_estacoes_precipitacao</td>\n",
       "    </tr>\n",
       "    <tr>\n",
       "      <th>2</th>\n",
       "      <td>fato_estacoes_temperatura_maxima</td>\n",
       "    </tr>\n",
       "    <tr>\n",
       "      <th>3</th>\n",
       "      <td>fato_estacoes_umidade_relativa_maxima</td>\n",
       "    </tr>\n",
       "    <tr>\n",
       "      <th>4</th>\n",
       "      <td>fato_estacoes_umidade_relativa_media</td>\n",
       "    </tr>\n",
       "    <tr>\n",
       "      <th>5</th>\n",
       "      <td>fato_estacoes_temperatura_minima</td>\n",
       "    </tr>\n",
       "    <tr>\n",
       "      <th>6</th>\n",
       "      <td>fato_estacoes_umidade_relativa_minima</td>\n",
       "    </tr>\n",
       "    <tr>\n",
       "      <th>7</th>\n",
       "      <td>dim_estacoes_escolha_vizinha</td>\n",
       "    </tr>\n",
       "    <tr>\n",
       "      <th>8</th>\n",
       "      <td>fato_estacoes_temperatura_media</td>\n",
       "    </tr>\n",
       "  </tbody>\n",
       "</table>\n",
       "</div>"
      ],
      "text/plain": [
       "                              table_name\n",
       "0                    estacoes_distancias\n",
       "1             fato_estacoes_precipitacao\n",
       "2       fato_estacoes_temperatura_maxima\n",
       "3  fato_estacoes_umidade_relativa_maxima\n",
       "4   fato_estacoes_umidade_relativa_media\n",
       "5       fato_estacoes_temperatura_minima\n",
       "6  fato_estacoes_umidade_relativa_minima\n",
       "7           dim_estacoes_escolha_vizinha\n",
       "8        fato_estacoes_temperatura_media"
      ]
     },
     "execution_count": 110,
     "metadata": {},
     "output_type": "execute_result"
    }
   ],
   "source": [
    "sql(show_tables_ouro_query)"
   ]
  },
  {
   "cell_type": "markdown",
   "metadata": {},
   "source": [
    "# fato_estacoes_{column}"
   ]
  },
  {
   "cell_type": "code",
   "execution_count": 102,
   "metadata": {},
   "outputs": [],
   "source": [
    "def construir_tabela_fato(estacoes,column):\n",
    "    estacoes_selecionadas = {estacao:df for estacao,df in estacoes.items() if any(column in c for c in df.columns)}\n",
    "    fato = None\n",
    "    for estacao,df in estacoes_selecionadas.items():\n",
    "        if fato is None:\n",
    "            fato = df[['id_estacao','dt_medicao',column]].copy()\n",
    "            fato['nm_grupo_estacao'] = estacao\n",
    "        else:\n",
    "            new_df = df[['id_estacao','dt_medicao',column]].copy()\n",
    "            new_df['nm_grupo_estacao'] = estacao\n",
    "            fato = pd.concat([fato,new_df])\n",
    "\n",
    "    return fato"
   ]
  },
  {
   "cell_type": "code",
   "execution_count": 103,
   "metadata": {},
   "outputs": [],
   "source": [
    "estacoes_list = sql(show_tables_prata_query+\" AND table_name LIKE 'fato_estacao%'\")['table_name'].to_list()\n",
    "estacoes = {estacao.split(\"_\")[-1]:sql(f\"SELECT * FROM r2_prata.{estacao}\") for estacao in estacoes_list}"
   ]
  },
  {
   "cell_type": "code",
   "execution_count": 104,
   "metadata": {},
   "outputs": [],
   "source": [
    "fato_estacoes_temperatura_minima = construir_tabela_fato(estacoes,'vl_temperatura_minima')\n",
    "fato_estacoes_temperatura_media = construir_tabela_fato(estacoes,'vl_temperatura_media')\n",
    "fato_estacoes_temperatura_maxima = construir_tabela_fato(estacoes,'vl_temperatura_maxima')\n",
    "fato_estacoes_umidade_relativa_minima = construir_tabela_fato(estacoes,'vl_umidade_relativa_minima')\n",
    "fato_estacoes_umidade_relativa_media = construir_tabela_fato(estacoes,'vl_umidade_relativa_media')\n",
    "fato_estacoes_umidade_relativa_maxima = construir_tabela_fato(estacoes,'vl_umidade_relativa_maxima')\n",
    "fato_estacoes_precipitacao = construir_tabela_fato(estacoes,'vl_precipitacao')"
   ]
  },
  {
   "cell_type": "code",
   "execution_count": 109,
   "metadata": {},
   "outputs": [],
   "source": [
    "columns = ['vl_temperatura_minima','vl_temperatura_media','vl_temperatura_maxima','vl_umidade_relativa_minima','vl_umidade_relativa_media','vl_umidade_relativa_maxima','vl_precipitacao']\n",
    "for column in columns:\n",
    "    sql(\n",
    "    f\"\"\"\n",
    "    CREATE TABLE IF NOT EXISTS r2_ouro.fato_estacoes_{column[3:]} AS SELECT * FROM fato_estacoes_{column[3:]}\n",
    "    \"\"\"\n",
    "    )"
   ]
  },
  {
   "cell_type": "markdown",
   "metadata": {},
   "source": [
    "# dim_estacoes_escolha_vizinha"
   ]
  },
  {
   "cell_type": "code",
   "execution_count": 6,
   "metadata": {},
   "outputs": [
    {
     "data": {
      "text/html": [
       "<div>\n",
       "<style scoped>\n",
       "    .dataframe tbody tr th:only-of-type {\n",
       "        vertical-align: middle;\n",
       "    }\n",
       "\n",
       "    .dataframe tbody tr th {\n",
       "        vertical-align: top;\n",
       "    }\n",
       "\n",
       "    .dataframe thead th {\n",
       "        text-align: right;\n",
       "    }\n",
       "</style>\n",
       "<table border=\"1\" class=\"dataframe\">\n",
       "  <thead>\n",
       "    <tr style=\"text-align: right;\">\n",
       "      <th></th>\n",
       "      <th>Count</th>\n",
       "    </tr>\n",
       "  </thead>\n",
       "  <tbody>\n",
       "  </tbody>\n",
       "</table>\n",
       "</div>"
      ],
      "text/plain": [
       "Empty DataFrame\n",
       "Columns: [Count]\n",
       "Index: []"
      ]
     },
     "execution_count": 6,
     "metadata": {},
     "output_type": "execute_result"
    }
   ],
   "source": [
    "sql(\n",
    "f\"\"\"\n",
    "CREATE TABLE IF NOT EXISTS r2_ouro.dim_estacoes_escolha_vizinha AS (\n",
    "WITH enriquecimento AS (\n",
    "    SELECT\n",
    "        t1.id_estacao AS id_estacao_base\n",
    "        ,t1.dt_medicao\n",
    "        ,t2.id_estacao AS id_estacao_vizinha\n",
    "        ,CASE\n",
    "            WHEN t2.vl_precipitacao IS NULL THEN 0\n",
    "            ELSE 1\n",
    "        END AS fl_enriquecimento   \n",
    "\n",
    "    FROM r2_ouro.fato_estacoes_precipitacao AS t1\n",
    "\n",
    "    LEFT JOIN r2_ouro.fato_estacoes_precipitacao AS t2\n",
    "        ON t1.dt_medicao = t2.dt_medicao\n",
    "        AND t2.id_estacao <> t1.id_estacao\n",
    "\n",
    "    WHERE 1=1\n",
    "        AND t1.vl_precipitacao IS NOT NULL\n",
    "        AND t2.id_estacao IS NOT NULL)\n",
    "\n",
    "SELECT\n",
    "    enriquecimento.id_estacao_base\n",
    "    ,enriquecimento.id_estacao_vizinha\n",
    "    ,1-SUM(enriquecimento.fl_enriquecimento)/COUNT(enriquecimento.fl_enriquecimento) AS pct_dados_faltantes_intersecao\n",
    "    ,distancias.distancia_km\n",
    "FROM enriquecimento\n",
    "\n",
    "JOIN r2_ouro.estacoes_distancias AS distancias\n",
    "    ON distancias.id_estacao_1 = enriquecimento.id_estacao_base\n",
    "    AND distancias.id_estacao_2 = enriquecimento.id_estacao_vizinha\n",
    "\n",
    "GROUP BY\n",
    "    enriquecimento.id_estacao_base\n",
    "    ,enriquecimento.id_estacao_vizinha\n",
    "    ,distancias.distancia_km)\n",
    "\"\"\")"
   ]
  },
  {
   "cell_type": "code",
   "execution_count": 111,
   "metadata": {},
   "outputs": [],
   "source": [
    "conn.close()"
   ]
  }
 ],
 "metadata": {
  "kernelspec": {
   "display_name": "Python 3",
   "language": "python",
   "name": "python3"
  },
  "language_info": {
   "codemirror_mode": {
    "name": "ipython",
    "version": 3
   },
   "file_extension": ".py",
   "mimetype": "text/x-python",
   "name": "python",
   "nbconvert_exporter": "python",
   "pygments_lexer": "ipython3",
   "version": "3.11.9"
  }
 },
 "nbformat": 4,
 "nbformat_minor": 2
}
