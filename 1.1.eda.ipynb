{
 "cells": [
  {
   "cell_type": "code",
   "execution_count": 4,
   "metadata": {},
   "outputs": [],
   "source": [
    "import pandas as pd\n",
    "from pyspark.sql import SparkSession\n",
    "import pyspark.sql.functions as F\n",
    "import seaborn as sns\n",
    "import os"
   ]
  },
  {
   "cell_type": "code",
   "execution_count": 5,
   "metadata": {},
   "outputs": [],
   "source": [
    "def groupby_nan_percent(df,key_column,value_column):\n",
    "    return (df.groupby(key_column,dropna=False)[value_column].apply(lambda x: x.isnull().sum())/df.fillna(0).groupby(key_column,dropna=False)[value_column].count()).round(4)*100\n",
    "\n",
    "def satelites_join_medidas(df_dict):\n",
    "    joined_df = None\n",
    "    for df in df_dict.values():\n",
    "        if joined_df is None:\n",
    "            joined_df = df\n",
    "        else:\n",
    "            joined_df = joined_df.join(df,['data','lat','lon'],'outer')\n",
    "    return joined_df\n",
    "\n",
    "def statistical_description(df):\n",
    "    vl_columns = [c for c in df.columns if c.startswith('vl')]\n",
    "    print(\"Descrição estatística das colunas\")\n",
    "    len_df = df.count()\n",
    "    print(f\"Número de linhas: {len_df}\")\n",
    "    print(f\"Datas: De {df.select(F.min('data')).collect()[0][0]} até {df.select(F.max('data')).collect()[0][0]}\")\n",
    "    df.describe().select(['summary']+[F.round(F.col(c),2).alias(c) for c in vl_columns]).filter(F.col('summary')!='count').show()\n",
    "    print(\"Quantidade de valores nulos por coluna:\")\n",
    "    for c in vl_columns:\n",
    "        print(f'Coluna {c}: {df.filter(F.col(c).isNull()).count()}')\n"
   ]
  },
  {
   "cell_type": "code",
   "execution_count": 6,
   "metadata": {},
   "outputs": [
    {
     "ename": "KeyboardInterrupt",
     "evalue": "",
     "output_type": "error",
     "traceback": [
      "\u001b[1;31m---------------------------------------------------------------------------\u001b[0m",
      "\u001b[1;31mKeyboardInterrupt\u001b[0m                         Traceback (most recent call last)",
      "Cell \u001b[1;32mIn[6], line 14\u001b[0m\n\u001b[0;32m      1\u001b[0m spark \u001b[38;5;241m=\u001b[39m \u001b[43mSparkSession\u001b[49m\u001b[38;5;241;43m.\u001b[39;49m\u001b[43mbuilder\u001b[49m\u001b[38;5;241;43m.\u001b[39;49m\u001b[43mappName\u001b[49m\u001b[43m(\u001b[49m\u001b[38;5;124;43m\"\u001b[39;49m\u001b[38;5;124;43mMateus\u001b[39;49m\u001b[38;5;124;43m\"\u001b[39;49m\u001b[43m)\u001b[49m\u001b[43m \u001b[49m\u001b[43m\\\u001b[49m\n\u001b[0;32m      2\u001b[0m \u001b[43m    \u001b[49m\u001b[38;5;241;43m.\u001b[39;49m\u001b[43mconfig\u001b[49m\u001b[43m(\u001b[49m\u001b[38;5;124;43m\"\u001b[39;49m\u001b[38;5;124;43mspark.sql.shuffle.partitions\u001b[39;49m\u001b[38;5;124;43m\"\u001b[39;49m\u001b[43m,\u001b[49m\u001b[43m \u001b[49m\u001b[38;5;124;43m\"\u001b[39;49m\u001b[38;5;124;43m100\u001b[39;49m\u001b[38;5;124;43m\"\u001b[39;49m\u001b[43m)\u001b[49m\u001b[43m \u001b[49m\u001b[43m\\\u001b[49m\n\u001b[0;32m      3\u001b[0m \u001b[43m    \u001b[49m\u001b[38;5;241;43m.\u001b[39;49m\u001b[43mconfig\u001b[49m\u001b[43m(\u001b[49m\u001b[38;5;124;43m\"\u001b[39;49m\u001b[38;5;124;43mspark.sql.files.maxPartitionBytes\u001b[39;49m\u001b[38;5;124;43m\"\u001b[39;49m\u001b[43m,\u001b[49m\u001b[43m \u001b[49m\u001b[38;5;124;43m\"\u001b[39;49m\u001b[38;5;124;43m128MB\u001b[39;49m\u001b[38;5;124;43m\"\u001b[39;49m\u001b[43m)\u001b[49m\u001b[43m \u001b[49m\u001b[43m\\\u001b[49m\n\u001b[0;32m      4\u001b[0m \u001b[43m    \u001b[49m\u001b[38;5;241;43m.\u001b[39;49m\u001b[43mconfig\u001b[49m\u001b[43m(\u001b[49m\u001b[38;5;124;43m\"\u001b[39;49m\u001b[38;5;124;43mspark.sql.files.openCostInBytes\u001b[39;49m\u001b[38;5;124;43m\"\u001b[39;49m\u001b[43m,\u001b[49m\u001b[43m \u001b[49m\u001b[38;5;124;43m\"\u001b[39;49m\u001b[38;5;124;43m4MB\u001b[39;49m\u001b[38;5;124;43m\"\u001b[39;49m\u001b[43m)\u001b[49m\u001b[43m  \u001b[49m\u001b[43m\\\u001b[49m\n\u001b[0;32m      5\u001b[0m \u001b[43m    \u001b[49m\u001b[38;5;241;43m.\u001b[39;49m\u001b[43mconfig\u001b[49m\u001b[43m(\u001b[49m\u001b[38;5;124;43m\"\u001b[39;49m\u001b[38;5;124;43mspark.driver.maxResultSize\u001b[39;49m\u001b[38;5;124;43m\"\u001b[39;49m\u001b[43m,\u001b[49m\u001b[43m \u001b[49m\u001b[38;5;124;43m\"\u001b[39;49m\u001b[38;5;124;43m4g\u001b[39;49m\u001b[38;5;124;43m\"\u001b[39;49m\u001b[43m)\u001b[49m\u001b[43m \u001b[49m\u001b[43m\\\u001b[49m\n\u001b[0;32m      6\u001b[0m \u001b[43m    \u001b[49m\u001b[38;5;241;43m.\u001b[39;49m\u001b[43mconfig\u001b[49m\u001b[43m(\u001b[49m\u001b[38;5;124;43m\"\u001b[39;49m\u001b[38;5;124;43mspark.driver.memory\u001b[39;49m\u001b[38;5;124;43m\"\u001b[39;49m\u001b[43m,\u001b[49m\u001b[43m \u001b[49m\u001b[38;5;124;43m\"\u001b[39;49m\u001b[38;5;124;43m16g\u001b[39;49m\u001b[38;5;124;43m\"\u001b[39;49m\u001b[43m)\u001b[49m\u001b[43m  \u001b[49m\u001b[43m\\\u001b[49m\n\u001b[0;32m      7\u001b[0m \u001b[43m    \u001b[49m\u001b[38;5;241;43m.\u001b[39;49m\u001b[43mconfig\u001b[49m\u001b[43m(\u001b[49m\u001b[38;5;124;43m\"\u001b[39;49m\u001b[38;5;124;43mspark.executor.cores\u001b[39;49m\u001b[38;5;124;43m\"\u001b[39;49m\u001b[43m,\u001b[49m\u001b[43m \u001b[49m\u001b[38;5;124;43m\"\u001b[39;49m\u001b[38;5;124;43m4\u001b[39;49m\u001b[38;5;124;43m\"\u001b[39;49m\u001b[43m)\u001b[49m\u001b[43m \u001b[49m\u001b[43m\\\u001b[49m\n\u001b[0;32m      8\u001b[0m \u001b[43m    \u001b[49m\u001b[38;5;241;43m.\u001b[39;49m\u001b[43mconfig\u001b[49m\u001b[43m(\u001b[49m\u001b[38;5;124;43m\"\u001b[39;49m\u001b[38;5;124;43mspark.executor.memory\u001b[39;49m\u001b[38;5;124;43m\"\u001b[39;49m\u001b[43m,\u001b[49m\u001b[43m \u001b[49m\u001b[38;5;124;43m\"\u001b[39;49m\u001b[38;5;124;43m8g\u001b[39;49m\u001b[38;5;124;43m\"\u001b[39;49m\u001b[43m)\u001b[49m\u001b[43m \u001b[49m\u001b[43m\\\u001b[49m\n\u001b[0;32m      9\u001b[0m \u001b[43m    \u001b[49m\u001b[38;5;241;43m.\u001b[39;49m\u001b[43mconfig\u001b[49m\u001b[43m(\u001b[49m\u001b[38;5;124;43m\"\u001b[39;49m\u001b[38;5;124;43mspark.sql.execution.arrow.enabled\u001b[39;49m\u001b[38;5;124;43m\"\u001b[39;49m\u001b[43m,\u001b[49m\u001b[43m \u001b[49m\u001b[38;5;124;43m\"\u001b[39;49m\u001b[38;5;124;43mtrue\u001b[39;49m\u001b[38;5;124;43m\"\u001b[39;49m\u001b[43m)\u001b[49m\u001b[43m \u001b[49m\u001b[43m\\\u001b[49m\n\u001b[0;32m     10\u001b[0m \u001b[43m    \u001b[49m\u001b[38;5;241;43m.\u001b[39;49m\u001b[43mconfig\u001b[49m\u001b[43m(\u001b[49m\u001b[38;5;124;43m\"\u001b[39;49m\u001b[38;5;124;43mspark.sql.execution.arrow.pyspark.enabled\u001b[39;49m\u001b[38;5;124;43m\"\u001b[39;49m\u001b[43m,\u001b[49m\u001b[43m \u001b[49m\u001b[38;5;124;43m\"\u001b[39;49m\u001b[38;5;124;43mtrue\u001b[39;49m\u001b[38;5;124;43m\"\u001b[39;49m\u001b[43m)\u001b[49m\u001b[43m \u001b[49m\u001b[43m\\\u001b[49m\n\u001b[0;32m     11\u001b[0m \u001b[43m    \u001b[49m\u001b[38;5;241;43m.\u001b[39;49m\u001b[43mconfig\u001b[49m\u001b[43m(\u001b[49m\u001b[38;5;124;43m\"\u001b[39;49m\u001b[38;5;124;43mspark.dynamicAllocation.enabled\u001b[39;49m\u001b[38;5;124;43m\"\u001b[39;49m\u001b[43m,\u001b[49m\u001b[43m \u001b[49m\u001b[38;5;124;43m\"\u001b[39;49m\u001b[38;5;124;43mtrue\u001b[39;49m\u001b[38;5;124;43m\"\u001b[39;49m\u001b[43m)\u001b[49m\u001b[43m \u001b[49m\u001b[43m\\\u001b[49m\n\u001b[0;32m     12\u001b[0m \u001b[43m    \u001b[49m\u001b[38;5;241;43m.\u001b[39;49m\u001b[43mconfig\u001b[49m\u001b[43m(\u001b[49m\u001b[38;5;124;43m\"\u001b[39;49m\u001b[38;5;124;43mspark.dynamicAllocation.minExecutors\u001b[39;49m\u001b[38;5;124;43m\"\u001b[39;49m\u001b[43m,\u001b[49m\u001b[43m \u001b[49m\u001b[38;5;124;43m\"\u001b[39;49m\u001b[38;5;124;43m1\u001b[39;49m\u001b[38;5;124;43m\"\u001b[39;49m\u001b[43m)\u001b[49m\u001b[43m \u001b[49m\u001b[43m\\\u001b[49m\n\u001b[0;32m     13\u001b[0m \u001b[43m    \u001b[49m\u001b[38;5;241;43m.\u001b[39;49m\u001b[43mconfig\u001b[49m\u001b[43m(\u001b[49m\u001b[38;5;124;43m\"\u001b[39;49m\u001b[38;5;124;43mspark.dynamicAllocation.maxExecutors\u001b[39;49m\u001b[38;5;124;43m\"\u001b[39;49m\u001b[43m,\u001b[49m\u001b[43m \u001b[49m\u001b[38;5;124;43m\"\u001b[39;49m\u001b[38;5;124;43m4\u001b[39;49m\u001b[38;5;124;43m\"\u001b[39;49m\u001b[43m)\u001b[49m\u001b[43m  \u001b[49m\u001b[43m\\\u001b[49m\n\u001b[1;32m---> 14\u001b[0m \u001b[43m    \u001b[49m\u001b[38;5;241;43m.\u001b[39;49m\u001b[43mgetOrCreate\u001b[49m\u001b[43m(\u001b[49m\u001b[43m)\u001b[49m\n",
      "File \u001b[1;32m~\\AppData\\Local\\Packages\\PythonSoftwareFoundation.Python.3.11_qbz5n2kfra8p0\\LocalCache\\local-packages\\Python311\\site-packages\\pyspark\\sql\\session.py:497\u001b[0m, in \u001b[0;36mSparkSession.Builder.getOrCreate\u001b[1;34m(self)\u001b[0m\n\u001b[0;32m    495\u001b[0m     sparkConf\u001b[38;5;241m.\u001b[39mset(key, value)\n\u001b[0;32m    496\u001b[0m \u001b[38;5;66;03m# This SparkContext may be an existing one.\u001b[39;00m\n\u001b[1;32m--> 497\u001b[0m sc \u001b[38;5;241m=\u001b[39m \u001b[43mSparkContext\u001b[49m\u001b[38;5;241;43m.\u001b[39;49m\u001b[43mgetOrCreate\u001b[49m\u001b[43m(\u001b[49m\u001b[43msparkConf\u001b[49m\u001b[43m)\u001b[49m\n\u001b[0;32m    498\u001b[0m \u001b[38;5;66;03m# Do not update `SparkConf` for existing `SparkContext`, as it's shared\u001b[39;00m\n\u001b[0;32m    499\u001b[0m \u001b[38;5;66;03m# by all sessions.\u001b[39;00m\n\u001b[0;32m    500\u001b[0m session \u001b[38;5;241m=\u001b[39m SparkSession(sc, options\u001b[38;5;241m=\u001b[39m\u001b[38;5;28mself\u001b[39m\u001b[38;5;241m.\u001b[39m_options)\n",
      "File \u001b[1;32m~\\AppData\\Local\\Packages\\PythonSoftwareFoundation.Python.3.11_qbz5n2kfra8p0\\LocalCache\\local-packages\\Python311\\site-packages\\pyspark\\context.py:515\u001b[0m, in \u001b[0;36mSparkContext.getOrCreate\u001b[1;34m(cls, conf)\u001b[0m\n\u001b[0;32m    513\u001b[0m \u001b[38;5;28;01mwith\u001b[39;00m SparkContext\u001b[38;5;241m.\u001b[39m_lock:\n\u001b[0;32m    514\u001b[0m     \u001b[38;5;28;01mif\u001b[39;00m SparkContext\u001b[38;5;241m.\u001b[39m_active_spark_context \u001b[38;5;129;01mis\u001b[39;00m \u001b[38;5;28;01mNone\u001b[39;00m:\n\u001b[1;32m--> 515\u001b[0m         \u001b[43mSparkContext\u001b[49m\u001b[43m(\u001b[49m\u001b[43mconf\u001b[49m\u001b[38;5;241;43m=\u001b[39;49m\u001b[43mconf\u001b[49m\u001b[43m \u001b[49m\u001b[38;5;129;43;01mor\u001b[39;49;00m\u001b[43m \u001b[49m\u001b[43mSparkConf\u001b[49m\u001b[43m(\u001b[49m\u001b[43m)\u001b[49m\u001b[43m)\u001b[49m\n\u001b[0;32m    516\u001b[0m     \u001b[38;5;28;01massert\u001b[39;00m SparkContext\u001b[38;5;241m.\u001b[39m_active_spark_context \u001b[38;5;129;01mis\u001b[39;00m \u001b[38;5;129;01mnot\u001b[39;00m \u001b[38;5;28;01mNone\u001b[39;00m\n\u001b[0;32m    517\u001b[0m     \u001b[38;5;28;01mreturn\u001b[39;00m SparkContext\u001b[38;5;241m.\u001b[39m_active_spark_context\n",
      "File \u001b[1;32m~\\AppData\\Local\\Packages\\PythonSoftwareFoundation.Python.3.11_qbz5n2kfra8p0\\LocalCache\\local-packages\\Python311\\site-packages\\pyspark\\context.py:201\u001b[0m, in \u001b[0;36mSparkContext.__init__\u001b[1;34m(self, master, appName, sparkHome, pyFiles, environment, batchSize, serializer, conf, gateway, jsc, profiler_cls, udf_profiler_cls, memory_profiler_cls)\u001b[0m\n\u001b[0;32m    195\u001b[0m \u001b[38;5;28;01mif\u001b[39;00m gateway \u001b[38;5;129;01mis\u001b[39;00m \u001b[38;5;129;01mnot\u001b[39;00m \u001b[38;5;28;01mNone\u001b[39;00m \u001b[38;5;129;01mand\u001b[39;00m gateway\u001b[38;5;241m.\u001b[39mgateway_parameters\u001b[38;5;241m.\u001b[39mauth_token \u001b[38;5;129;01mis\u001b[39;00m \u001b[38;5;28;01mNone\u001b[39;00m:\n\u001b[0;32m    196\u001b[0m     \u001b[38;5;28;01mraise\u001b[39;00m \u001b[38;5;167;01mValueError\u001b[39;00m(\n\u001b[0;32m    197\u001b[0m         \u001b[38;5;124m\"\u001b[39m\u001b[38;5;124mYou are trying to pass an insecure Py4j gateway to Spark. This\u001b[39m\u001b[38;5;124m\"\u001b[39m\n\u001b[0;32m    198\u001b[0m         \u001b[38;5;124m\"\u001b[39m\u001b[38;5;124m is not allowed as it is a security risk.\u001b[39m\u001b[38;5;124m\"\u001b[39m\n\u001b[0;32m    199\u001b[0m     )\n\u001b[1;32m--> 201\u001b[0m \u001b[43mSparkContext\u001b[49m\u001b[38;5;241;43m.\u001b[39;49m\u001b[43m_ensure_initialized\u001b[49m\u001b[43m(\u001b[49m\u001b[38;5;28;43mself\u001b[39;49m\u001b[43m,\u001b[49m\u001b[43m \u001b[49m\u001b[43mgateway\u001b[49m\u001b[38;5;241;43m=\u001b[39;49m\u001b[43mgateway\u001b[49m\u001b[43m,\u001b[49m\u001b[43m \u001b[49m\u001b[43mconf\u001b[49m\u001b[38;5;241;43m=\u001b[39;49m\u001b[43mconf\u001b[49m\u001b[43m)\u001b[49m\n\u001b[0;32m    202\u001b[0m \u001b[38;5;28;01mtry\u001b[39;00m:\n\u001b[0;32m    203\u001b[0m     \u001b[38;5;28mself\u001b[39m\u001b[38;5;241m.\u001b[39m_do_init(\n\u001b[0;32m    204\u001b[0m         master,\n\u001b[0;32m    205\u001b[0m         appName,\n\u001b[1;32m   (...)\u001b[0m\n\u001b[0;32m    215\u001b[0m         memory_profiler_cls,\n\u001b[0;32m    216\u001b[0m     )\n",
      "File \u001b[1;32m~\\AppData\\Local\\Packages\\PythonSoftwareFoundation.Python.3.11_qbz5n2kfra8p0\\LocalCache\\local-packages\\Python311\\site-packages\\pyspark\\context.py:436\u001b[0m, in \u001b[0;36mSparkContext._ensure_initialized\u001b[1;34m(cls, instance, gateway, conf)\u001b[0m\n\u001b[0;32m    434\u001b[0m \u001b[38;5;28;01mwith\u001b[39;00m SparkContext\u001b[38;5;241m.\u001b[39m_lock:\n\u001b[0;32m    435\u001b[0m     \u001b[38;5;28;01mif\u001b[39;00m \u001b[38;5;129;01mnot\u001b[39;00m SparkContext\u001b[38;5;241m.\u001b[39m_gateway:\n\u001b[1;32m--> 436\u001b[0m         SparkContext\u001b[38;5;241m.\u001b[39m_gateway \u001b[38;5;241m=\u001b[39m gateway \u001b[38;5;129;01mor\u001b[39;00m \u001b[43mlaunch_gateway\u001b[49m\u001b[43m(\u001b[49m\u001b[43mconf\u001b[49m\u001b[43m)\u001b[49m\n\u001b[0;32m    437\u001b[0m         SparkContext\u001b[38;5;241m.\u001b[39m_jvm \u001b[38;5;241m=\u001b[39m SparkContext\u001b[38;5;241m.\u001b[39m_gateway\u001b[38;5;241m.\u001b[39mjvm\n\u001b[0;32m    439\u001b[0m     \u001b[38;5;28;01mif\u001b[39;00m instance:\n",
      "File \u001b[1;32m~\\AppData\\Local\\Packages\\PythonSoftwareFoundation.Python.3.11_qbz5n2kfra8p0\\LocalCache\\local-packages\\Python311\\site-packages\\pyspark\\java_gateway.py:104\u001b[0m, in \u001b[0;36mlaunch_gateway\u001b[1;34m(conf, popen_kwargs)\u001b[0m\n\u001b[0;32m    102\u001b[0m \u001b[38;5;66;03m# Wait for the file to appear, or for the process to exit, whichever happens first.\u001b[39;00m\n\u001b[0;32m    103\u001b[0m \u001b[38;5;28;01mwhile\u001b[39;00m \u001b[38;5;129;01mnot\u001b[39;00m proc\u001b[38;5;241m.\u001b[39mpoll() \u001b[38;5;129;01mand\u001b[39;00m \u001b[38;5;129;01mnot\u001b[39;00m os\u001b[38;5;241m.\u001b[39mpath\u001b[38;5;241m.\u001b[39misfile(conn_info_file):\n\u001b[1;32m--> 104\u001b[0m     time\u001b[38;5;241m.\u001b[39msleep(\u001b[38;5;241m0.1\u001b[39m)\n\u001b[0;32m    106\u001b[0m \u001b[38;5;28;01mif\u001b[39;00m \u001b[38;5;129;01mnot\u001b[39;00m os\u001b[38;5;241m.\u001b[39mpath\u001b[38;5;241m.\u001b[39misfile(conn_info_file):\n\u001b[0;32m    107\u001b[0m     \u001b[38;5;28;01mraise\u001b[39;00m PySparkRuntimeError(\n\u001b[0;32m    108\u001b[0m         error_class\u001b[38;5;241m=\u001b[39m\u001b[38;5;124m\"\u001b[39m\u001b[38;5;124mJAVA_GATEWAY_EXITED\u001b[39m\u001b[38;5;124m\"\u001b[39m,\n\u001b[0;32m    109\u001b[0m         message_parameters\u001b[38;5;241m=\u001b[39m{},\n\u001b[0;32m    110\u001b[0m     )\n",
      "\u001b[1;31mKeyboardInterrupt\u001b[0m: "
     ]
    }
   ],
   "source": [
    "spark = SparkSession.builder.appName(\"Mateus\") \\\n",
    "    .config(\"spark.sql.shuffle.partitions\", \"100\") \\\n",
    "    .config(\"spark.sql.files.maxPartitionBytes\", \"128MB\") \\\n",
    "    .config(\"spark.sql.files.openCostInBytes\", \"4MB\")  \\\n",
    "    .config(\"spark.driver.maxResultSize\", \"4g\") \\\n",
    "    .config(\"spark.driver.memory\", \"16g\")  \\\n",
    "    .config(\"spark.executor.cores\", \"4\") \\\n",
    "    .config(\"spark.executor.memory\", \"8g\") \\\n",
    "    .config(\"spark.sql.execution.arrow.enabled\", \"true\") \\\n",
    "    .config(\"spark.sql.execution.arrow.pyspark.enabled\", \"true\") \\\n",
    "    .config(\"spark.dynamicAllocation.enabled\", \"true\") \\\n",
    "    .config(\"spark.dynamicAllocation.minExecutors\", \"1\") \\\n",
    "    .config(\"spark.dynamicAllocation.maxExecutors\", \"4\")  \\\n",
    "    .getOrCreate()"
   ]
  },
  {
   "cell_type": "code",
   "execution_count": null,
   "metadata": {},
   "outputs": [],
   "source": [
    "initial_path = 'C:/Users/Mateus Santos Rochas/Desktop/Estudos/07. Doutorado - Matemática aplicada/Pesquisa/Dados R2'\n",
    "bronze_path = os.path.join(initial_path,'1. bronze')"
   ]
  },
  {
   "cell_type": "markdown",
   "metadata": {},
   "source": [
    "# 2. Estações"
   ]
  },
  {
   "cell_type": "markdown",
   "metadata": {},
   "source": [
    "## 2.1. ANA"
   ]
  },
  {
   "cell_type": "code",
   "execution_count": null,
   "metadata": {},
   "outputs": [
    {
     "data": {
      "text/html": [
       "<div>\n",
       "<style scoped>\n",
       "    .dataframe tbody tr th:only-of-type {\n",
       "        vertical-align: middle;\n",
       "    }\n",
       "\n",
       "    .dataframe tbody tr th {\n",
       "        vertical-align: top;\n",
       "    }\n",
       "\n",
       "    .dataframe thead th {\n",
       "        text-align: right;\n",
       "    }\n",
       "</style>\n",
       "<table border=\"1\" class=\"dataframe\">\n",
       "  <thead>\n",
       "    <tr style=\"text-align: right;\">\n",
       "      <th></th>\n",
       "      <th>id_estacao</th>\n",
       "      <th>lat</th>\n",
       "      <th>lon</th>\n",
       "      <th>data</th>\n",
       "      <th>tmin</th>\n",
       "      <th>tmed</th>\n",
       "      <th>tmax</th>\n",
       "      <th>prec</th>\n",
       "      <th>urmin</th>\n",
       "      <th>urmed</th>\n",
       "      <th>urmax</th>\n",
       "    </tr>\n",
       "  </thead>\n",
       "  <tbody>\n",
       "    <tr>\n",
       "      <th>0</th>\n",
       "      <td>574937</td>\n",
       "      <td>-22.5283</td>\n",
       "      <td>-43.2029</td>\n",
       "      <td>2021-11-19</td>\n",
       "      <td>NaN</td>\n",
       "      <td>NaN</td>\n",
       "      <td>NaN</td>\n",
       "      <td>32.0</td>\n",
       "      <td>NaN</td>\n",
       "      <td>NaN</td>\n",
       "      <td>NaN</td>\n",
       "    </tr>\n",
       "    <tr>\n",
       "      <th>1</th>\n",
       "      <td>574937</td>\n",
       "      <td>-22.5283</td>\n",
       "      <td>-43.2029</td>\n",
       "      <td>2021-11-20</td>\n",
       "      <td>NaN</td>\n",
       "      <td>NaN</td>\n",
       "      <td>NaN</td>\n",
       "      <td>64.2</td>\n",
       "      <td>NaN</td>\n",
       "      <td>NaN</td>\n",
       "      <td>NaN</td>\n",
       "    </tr>\n",
       "    <tr>\n",
       "      <th>2</th>\n",
       "      <td>574937</td>\n",
       "      <td>-22.5283</td>\n",
       "      <td>-43.2029</td>\n",
       "      <td>2021-11-21</td>\n",
       "      <td>NaN</td>\n",
       "      <td>NaN</td>\n",
       "      <td>NaN</td>\n",
       "      <td>5.4</td>\n",
       "      <td>NaN</td>\n",
       "      <td>NaN</td>\n",
       "      <td>NaN</td>\n",
       "    </tr>\n",
       "    <tr>\n",
       "      <th>3</th>\n",
       "      <td>574937</td>\n",
       "      <td>-22.5283</td>\n",
       "      <td>-43.2029</td>\n",
       "      <td>2021-11-22</td>\n",
       "      <td>NaN</td>\n",
       "      <td>NaN</td>\n",
       "      <td>NaN</td>\n",
       "      <td>NaN</td>\n",
       "      <td>NaN</td>\n",
       "      <td>NaN</td>\n",
       "      <td>NaN</td>\n",
       "    </tr>\n",
       "    <tr>\n",
       "      <th>4</th>\n",
       "      <td>574937</td>\n",
       "      <td>-22.5283</td>\n",
       "      <td>-43.2029</td>\n",
       "      <td>2021-11-23</td>\n",
       "      <td>NaN</td>\n",
       "      <td>NaN</td>\n",
       "      <td>NaN</td>\n",
       "      <td>NaN</td>\n",
       "      <td>NaN</td>\n",
       "      <td>NaN</td>\n",
       "      <td>NaN</td>\n",
       "    </tr>\n",
       "  </tbody>\n",
       "</table>\n",
       "</div>"
      ],
      "text/plain": [
       "   id_estacao      lat      lon        data  tmin  tmed  tmax  prec  urmin  \\\n",
       "0      574937 -22.5283 -43.2029  2021-11-19   NaN   NaN   NaN  32.0    NaN   \n",
       "1      574937 -22.5283 -43.2029  2021-11-20   NaN   NaN   NaN  64.2    NaN   \n",
       "2      574937 -22.5283 -43.2029  2021-11-21   NaN   NaN   NaN   5.4    NaN   \n",
       "3      574937 -22.5283 -43.2029  2021-11-22   NaN   NaN   NaN   NaN    NaN   \n",
       "4      574937 -22.5283 -43.2029  2021-11-23   NaN   NaN   NaN   NaN    NaN   \n",
       "\n",
       "   urmed  urmax  \n",
       "0    NaN    NaN  \n",
       "1    NaN    NaN  \n",
       "2    NaN    NaN  \n",
       "3    NaN    NaN  \n",
       "4    NaN    NaN  "
      ]
     },
     "execution_count": 7,
     "metadata": {},
     "output_type": "execute_result"
    }
   ],
   "source": [
    "ana = pd.read_csv(os.path.join(bronze_path,'ana.csv'))\n",
    "ana.head()"
   ]
  },
  {
   "cell_type": "code",
   "execution_count": null,
   "metadata": {},
   "outputs": [
    {
     "name": "stdout",
     "output_type": "stream",
     "text": [
      "Estações ANA possuem apenas dados de precipitação\n",
      "\n",
      "~~~~~~~~ PRECIPITAÇÃO ~~~~~~~~\n",
      "Porcentagem de registros nulos geral: 54.74%\n",
      "\n",
      "Porcentagem de registros nulos por estação:\n",
      "id_estacao\n",
      "574937    89.62\n",
      "575953    27.76\n",
      "577468    91.89\n",
      "Name: prec, dtype: float64\n",
      "\n",
      "Descrição dos dados da coluna de precipitação registrados:\n"
     ]
    },
    {
     "data": {
      "text/plain": [
       "count    2704.000000\n",
       "mean       54.661056\n",
       "std       276.374147\n",
       "min         0.000000\n",
       "25%         0.000000\n",
       "50%         0.000000\n",
       "75%         1.600000\n",
       "max      1819.600000\n",
       "Name: prec, dtype: float64"
      ]
     },
     "execution_count": 8,
     "metadata": {},
     "output_type": "execute_result"
    }
   ],
   "source": [
    "print(\"Estações ANA possuem apenas dados de precipitação\")\n",
    "print()\n",
    "print(\"~~~~~~~~ PRECIPITAÇÃO ~~~~~~~~\")\n",
    "\n",
    "print(f\"Porcentagem de registros nulos geral: {round(len(ana.loc[ana['prec'].isna()])*100/len(ana),2)}%\")\n",
    "print()\n",
    "print(f\"Porcentagem de registros nulos por estação:\")\n",
    "print(groupby_nan_percent(ana,'id_estacao','prec'))\n",
    "print()\n",
    "print(\"Descrição dos dados da coluna de precipitação registrados:\")\n",
    "ana['prec'].dropna().describe()\n"
   ]
  },
  {
   "cell_type": "markdown",
   "metadata": {},
   "source": [
    "## 2.2. CEMADEN"
   ]
  },
  {
   "cell_type": "code",
   "execution_count": null,
   "metadata": {},
   "outputs": [
    {
     "data": {
      "text/html": [
       "<div>\n",
       "<style scoped>\n",
       "    .dataframe tbody tr th:only-of-type {\n",
       "        vertical-align: middle;\n",
       "    }\n",
       "\n",
       "    .dataframe tbody tr th {\n",
       "        vertical-align: top;\n",
       "    }\n",
       "\n",
       "    .dataframe thead th {\n",
       "        text-align: right;\n",
       "    }\n",
       "</style>\n",
       "<table border=\"1\" class=\"dataframe\">\n",
       "  <thead>\n",
       "    <tr style=\"text-align: right;\">\n",
       "      <th></th>\n",
       "      <th>id_estacao</th>\n",
       "      <th>lat</th>\n",
       "      <th>lon</th>\n",
       "      <th>data</th>\n",
       "      <th>tmin</th>\n",
       "      <th>tmed</th>\n",
       "      <th>tmax</th>\n",
       "      <th>prec</th>\n",
       "      <th>urmin</th>\n",
       "      <th>urmed</th>\n",
       "      <th>urmax</th>\n",
       "    </tr>\n",
       "  </thead>\n",
       "  <tbody>\n",
       "    <tr>\n",
       "      <th>0</th>\n",
       "      <td>574937</td>\n",
       "      <td>-22.5283</td>\n",
       "      <td>-43.2029</td>\n",
       "      <td>2021-11-19</td>\n",
       "      <td>NaN</td>\n",
       "      <td>NaN</td>\n",
       "      <td>NaN</td>\n",
       "      <td>32.0</td>\n",
       "      <td>NaN</td>\n",
       "      <td>NaN</td>\n",
       "      <td>NaN</td>\n",
       "    </tr>\n",
       "    <tr>\n",
       "      <th>1</th>\n",
       "      <td>574937</td>\n",
       "      <td>-22.5283</td>\n",
       "      <td>-43.2029</td>\n",
       "      <td>2021-11-20</td>\n",
       "      <td>NaN</td>\n",
       "      <td>NaN</td>\n",
       "      <td>NaN</td>\n",
       "      <td>64.2</td>\n",
       "      <td>NaN</td>\n",
       "      <td>NaN</td>\n",
       "      <td>NaN</td>\n",
       "    </tr>\n",
       "    <tr>\n",
       "      <th>2</th>\n",
       "      <td>574937</td>\n",
       "      <td>-22.5283</td>\n",
       "      <td>-43.2029</td>\n",
       "      <td>2021-11-21</td>\n",
       "      <td>NaN</td>\n",
       "      <td>NaN</td>\n",
       "      <td>NaN</td>\n",
       "      <td>5.4</td>\n",
       "      <td>NaN</td>\n",
       "      <td>NaN</td>\n",
       "      <td>NaN</td>\n",
       "    </tr>\n",
       "    <tr>\n",
       "      <th>3</th>\n",
       "      <td>574937</td>\n",
       "      <td>-22.5283</td>\n",
       "      <td>-43.2029</td>\n",
       "      <td>2021-11-22</td>\n",
       "      <td>NaN</td>\n",
       "      <td>NaN</td>\n",
       "      <td>NaN</td>\n",
       "      <td>NaN</td>\n",
       "      <td>NaN</td>\n",
       "      <td>NaN</td>\n",
       "      <td>NaN</td>\n",
       "    </tr>\n",
       "    <tr>\n",
       "      <th>4</th>\n",
       "      <td>574937</td>\n",
       "      <td>-22.5283</td>\n",
       "      <td>-43.2029</td>\n",
       "      <td>2021-11-23</td>\n",
       "      <td>NaN</td>\n",
       "      <td>NaN</td>\n",
       "      <td>NaN</td>\n",
       "      <td>NaN</td>\n",
       "      <td>NaN</td>\n",
       "      <td>NaN</td>\n",
       "      <td>NaN</td>\n",
       "    </tr>\n",
       "  </tbody>\n",
       "</table>\n",
       "</div>"
      ],
      "text/plain": [
       "   id_estacao      lat      lon          data  tmin  tmed  tmax  prec  urmin  \\\n",
       "0      574937 -22.5283 -43.2029   2021-11-19    NaN   NaN   NaN  32.0    NaN   \n",
       "1      574937 -22.5283 -43.2029   2021-11-20    NaN   NaN   NaN  64.2    NaN   \n",
       "2      574937 -22.5283 -43.2029   2021-11-21    NaN   NaN   NaN   5.4    NaN   \n",
       "3      574937 -22.5283 -43.2029   2021-11-22    NaN   NaN   NaN   NaN    NaN   \n",
       "4      574937 -22.5283 -43.2029   2021-11-23    NaN   NaN   NaN   NaN    NaN   \n",
       "\n",
       "   urmed  urmax  \n",
       "0    NaN    NaN  \n",
       "1    NaN    NaN  \n",
       "2    NaN    NaN  \n",
       "3    NaN    NaN  \n",
       "4    NaN    NaN  "
      ]
     },
     "execution_count": 9,
     "metadata": {},
     "output_type": "execute_result"
    }
   ],
   "source": [
    "cemaden = pd.read_csv(os.path.join(bronze_path,'cemaden.csv'))\n",
    "cemaden.head()"
   ]
  },
  {
   "cell_type": "code",
   "execution_count": null,
   "metadata": {},
   "outputs": [
    {
     "name": "stdout",
     "output_type": "stream",
     "text": [
      "Os dados de CEMADEN estão idênticos ao Ana!\n"
     ]
    }
   ],
   "source": [
    "print(\"Os dados de CEMADEN estão idênticos ao Ana!\")\n",
    "# print()\n",
    "# print(\"~~~~~~~~ PRECIPITAÇÃO ~~~~~~~~\")\n",
    "\n",
    "# print(f\"Porcentagem de registros nulos geral: {round(len(cemaden.loc[cemaden['prec'].isna()])*100/len(cemaden),2)}%\")\n",
    "# print()\n",
    "# print(f\"Porcentagem de registros nulos por estação:\")\n",
    "# print(groupby_nan_percent(cemaden,'id_estacao','prec'))\n",
    "# print()\n",
    "# print(\"Data minima por estação:\")\n",
    "# print(ana.groupby('id_estacao')['data'].min())\n",
    "# print()\n",
    "# print(\"Descrição dos dados da coluna de precipitação registrados:\")\n",
    "# cemaden['prec'].dropna().describe()"
   ]
  },
  {
   "cell_type": "markdown",
   "metadata": {},
   "source": [
    "## 2.3. CEMIG"
   ]
  },
  {
   "cell_type": "code",
   "execution_count": null,
   "metadata": {},
   "outputs": [
    {
     "data": {
      "text/html": [
       "<div>\n",
       "<style scoped>\n",
       "    .dataframe tbody tr th:only-of-type {\n",
       "        vertical-align: middle;\n",
       "    }\n",
       "\n",
       "    .dataframe tbody tr th {\n",
       "        vertical-align: top;\n",
       "    }\n",
       "\n",
       "    .dataframe thead th {\n",
       "        text-align: right;\n",
       "    }\n",
       "</style>\n",
       "<table border=\"1\" class=\"dataframe\">\n",
       "  <thead>\n",
       "    <tr style=\"text-align: right;\">\n",
       "      <th></th>\n",
       "      <th>id_estacao</th>\n",
       "      <th>lat</th>\n",
       "      <th>lon</th>\n",
       "      <th>data</th>\n",
       "      <th>tmin</th>\n",
       "      <th>tmed</th>\n",
       "      <th>tmax</th>\n",
       "      <th>prec</th>\n",
       "      <th>urmin</th>\n",
       "      <th>urmed</th>\n",
       "      <th>urmax</th>\n",
       "    </tr>\n",
       "  </thead>\n",
       "  <tbody>\n",
       "    <tr>\n",
       "      <th>0</th>\n",
       "      <td>1173</td>\n",
       "      <td>-20.7102</td>\n",
       "      <td>-46.6413</td>\n",
       "      <td>1992-08-24</td>\n",
       "      <td>12.0</td>\n",
       "      <td>15.0</td>\n",
       "      <td>18.0</td>\n",
       "      <td>NaN</td>\n",
       "      <td>NaN</td>\n",
       "      <td>NaN</td>\n",
       "      <td>NaN</td>\n",
       "    </tr>\n",
       "    <tr>\n",
       "      <th>1</th>\n",
       "      <td>1173</td>\n",
       "      <td>-20.7102</td>\n",
       "      <td>-46.6413</td>\n",
       "      <td>1992-08-25</td>\n",
       "      <td>8.0</td>\n",
       "      <td>15.5</td>\n",
       "      <td>23.0</td>\n",
       "      <td>NaN</td>\n",
       "      <td>NaN</td>\n",
       "      <td>NaN</td>\n",
       "      <td>NaN</td>\n",
       "    </tr>\n",
       "    <tr>\n",
       "      <th>2</th>\n",
       "      <td>1173</td>\n",
       "      <td>-20.7102</td>\n",
       "      <td>-46.6413</td>\n",
       "      <td>1992-08-26</td>\n",
       "      <td>8.0</td>\n",
       "      <td>17.0</td>\n",
       "      <td>26.0</td>\n",
       "      <td>NaN</td>\n",
       "      <td>NaN</td>\n",
       "      <td>NaN</td>\n",
       "      <td>NaN</td>\n",
       "    </tr>\n",
       "    <tr>\n",
       "      <th>3</th>\n",
       "      <td>1173</td>\n",
       "      <td>-20.7102</td>\n",
       "      <td>-46.6413</td>\n",
       "      <td>1992-08-27</td>\n",
       "      <td>11.0</td>\n",
       "      <td>20.5</td>\n",
       "      <td>30.0</td>\n",
       "      <td>NaN</td>\n",
       "      <td>NaN</td>\n",
       "      <td>NaN</td>\n",
       "      <td>NaN</td>\n",
       "    </tr>\n",
       "    <tr>\n",
       "      <th>4</th>\n",
       "      <td>1173</td>\n",
       "      <td>-20.7102</td>\n",
       "      <td>-46.6413</td>\n",
       "      <td>1992-08-28</td>\n",
       "      <td>15.0</td>\n",
       "      <td>22.5</td>\n",
       "      <td>30.0</td>\n",
       "      <td>NaN</td>\n",
       "      <td>NaN</td>\n",
       "      <td>NaN</td>\n",
       "      <td>NaN</td>\n",
       "    </tr>\n",
       "  </tbody>\n",
       "</table>\n",
       "</div>"
      ],
      "text/plain": [
       "   id_estacao      lat      lon        data  tmin  tmed  tmax  prec  urmin  \\\n",
       "0        1173 -20.7102 -46.6413  1992-08-24  12.0  15.0  18.0   NaN    NaN   \n",
       "1        1173 -20.7102 -46.6413  1992-08-25   8.0  15.5  23.0   NaN    NaN   \n",
       "2        1173 -20.7102 -46.6413  1992-08-26   8.0  17.0  26.0   NaN    NaN   \n",
       "3        1173 -20.7102 -46.6413  1992-08-27  11.0  20.5  30.0   NaN    NaN   \n",
       "4        1173 -20.7102 -46.6413  1992-08-28  15.0  22.5  30.0   NaN    NaN   \n",
       "\n",
       "   urmed  urmax  \n",
       "0    NaN    NaN  \n",
       "1    NaN    NaN  \n",
       "2    NaN    NaN  \n",
       "3    NaN    NaN  \n",
       "4    NaN    NaN  "
      ]
     },
     "execution_count": 11,
     "metadata": {},
     "output_type": "execute_result"
    }
   ],
   "source": [
    "cemig = pd.read_csv(os.path.join(bronze_path,'cemig.csv'))\n",
    "cemig.head()"
   ]
  },
  {
   "cell_type": "code",
   "execution_count": null,
   "metadata": {},
   "outputs": [
    {
     "name": "stdout",
     "output_type": "stream",
     "text": [
      "Os dados do CEMIG só não possuem a coluna urmed (Umidade Relativa Média)\n",
      "\n",
      "~~~~~~~~ DATAS MÍNIMAS DE MEDIÇÃO POR ESTAÇÃO ~~~~~~~~\n",
      "count    1970-01-01\n",
      "mean     2001-04-04\n",
      "min      1967-01-01\n",
      "25%      1999-04-29\n",
      "50%      2002-01-01\n",
      "75%      2009-10-01\n",
      "max      2017-05-08\n",
      "Name: data, dtype: object\n",
      "\n",
      "~~~~~~~~ PRECIPITAÇÃO ~~~~~~~~\n",
      "Porcentagem de dados faltantes: 21.54%\n",
      "count    764710.00\n",
      "mean          3.47\n",
      "std          16.58\n",
      "min           0.00\n",
      "25%           0.00\n",
      "50%           0.00\n",
      "75%           1.38\n",
      "max        7029.00\n",
      "Name: prec, dtype: float64\n",
      "\n",
      "~~~~~~~~ TEMPERATURA ~~~~~~~~\n",
      "Porcentagem de dados faltantes: ~ 21%\n",
      "\n",
      "~~~~~~~~ UMIDADE ~~~~~~~~\n",
      "Porcentagem de dados faltantes: ~ 89%\n"
     ]
    }
   ],
   "source": [
    "print(\"Os dados do CEMIG só não possuem a coluna urmed (Umidade Relativa Média)\")\n",
    "print()\n",
    "print(\"~~~~~~~~ DATAS MÍNIMAS DE MEDIÇÃO POR ESTAÇÃO ~~~~~~~~\")\n",
    "print(pd.to_datetime(pd.to_datetime(cemig.groupby('id_estacao')['data'].min()).describe()).dt.date)\n",
    "print()\n",
    "\n",
    "print(\"~~~~~~~~ PRECIPITAÇÃO ~~~~~~~~\")\n",
    "print(f\"Porcentagem de dados faltantes: {round(len(cemig.loc[cemig['prec'].isna()])*100/len(cemig),2)}%\")\n",
    "print(cemig['prec'].describe().round(2))\n",
    "print()\n",
    "\n",
    "print(\"~~~~~~~~ TEMPERATURA ~~~~~~~~\")\n",
    "print(f\"Porcentagem de dados faltantes: ~ {round(len(cemig.loc[cemig['tmin'].isna()])*100/len(cemig))}%\")\n",
    "print()\n",
    "\n",
    "print(\"~~~~~~~~ UMIDADE ~~~~~~~~\")\n",
    "print(f\"Porcentagem de dados faltantes: ~ {round(len(cemig.loc[cemig['urmin'].isna()])*100/len(cemig))}%\")"
   ]
  },
  {
   "cell_type": "markdown",
   "metadata": {},
   "source": [
    "## 2.4. IAC - Instituto Agronômico de Campinas"
   ]
  },
  {
   "cell_type": "code",
   "execution_count": null,
   "metadata": {},
   "outputs": [
    {
     "data": {
      "text/html": [
       "<div>\n",
       "<style scoped>\n",
       "    .dataframe tbody tr th:only-of-type {\n",
       "        vertical-align: middle;\n",
       "    }\n",
       "\n",
       "    .dataframe tbody tr th {\n",
       "        vertical-align: top;\n",
       "    }\n",
       "\n",
       "    .dataframe thead th {\n",
       "        text-align: right;\n",
       "    }\n",
       "</style>\n",
       "<table border=\"1\" class=\"dataframe\">\n",
       "  <thead>\n",
       "    <tr style=\"text-align: right;\">\n",
       "      <th></th>\n",
       "      <th>id_estacao</th>\n",
       "      <th>lat</th>\n",
       "      <th>lon</th>\n",
       "      <th>data</th>\n",
       "      <th>tmin</th>\n",
       "      <th>tmed</th>\n",
       "      <th>tmax</th>\n",
       "      <th>prec</th>\n",
       "      <th>urmin</th>\n",
       "      <th>urmed</th>\n",
       "      <th>urmax</th>\n",
       "    </tr>\n",
       "  </thead>\n",
       "  <tbody>\n",
       "    <tr>\n",
       "      <th>0</th>\n",
       "      <td>1</td>\n",
       "      <td>-23.5</td>\n",
       "      <td>-47.45</td>\n",
       "      <td>1994-11-01</td>\n",
       "      <td>21.0</td>\n",
       "      <td>24.10</td>\n",
       "      <td>27.2</td>\n",
       "      <td>0.0</td>\n",
       "      <td>NaN</td>\n",
       "      <td>NaN</td>\n",
       "      <td>NaN</td>\n",
       "    </tr>\n",
       "    <tr>\n",
       "      <th>1</th>\n",
       "      <td>1</td>\n",
       "      <td>-23.5</td>\n",
       "      <td>-47.45</td>\n",
       "      <td>1994-11-02</td>\n",
       "      <td>24.0</td>\n",
       "      <td>26.50</td>\n",
       "      <td>29.0</td>\n",
       "      <td>0.0</td>\n",
       "      <td>NaN</td>\n",
       "      <td>NaN</td>\n",
       "      <td>NaN</td>\n",
       "    </tr>\n",
       "    <tr>\n",
       "      <th>2</th>\n",
       "      <td>1</td>\n",
       "      <td>-23.5</td>\n",
       "      <td>-47.45</td>\n",
       "      <td>1994-11-03</td>\n",
       "      <td>26.0</td>\n",
       "      <td>28.50</td>\n",
       "      <td>31.0</td>\n",
       "      <td>0.0</td>\n",
       "      <td>NaN</td>\n",
       "      <td>NaN</td>\n",
       "      <td>NaN</td>\n",
       "    </tr>\n",
       "    <tr>\n",
       "      <th>3</th>\n",
       "      <td>1</td>\n",
       "      <td>-23.5</td>\n",
       "      <td>-47.45</td>\n",
       "      <td>1994-11-04</td>\n",
       "      <td>23.0</td>\n",
       "      <td>25.00</td>\n",
       "      <td>27.0</td>\n",
       "      <td>0.0</td>\n",
       "      <td>NaN</td>\n",
       "      <td>NaN</td>\n",
       "      <td>NaN</td>\n",
       "    </tr>\n",
       "    <tr>\n",
       "      <th>4</th>\n",
       "      <td>1</td>\n",
       "      <td>-23.5</td>\n",
       "      <td>-47.45</td>\n",
       "      <td>1994-11-05</td>\n",
       "      <td>23.7</td>\n",
       "      <td>24.35</td>\n",
       "      <td>25.0</td>\n",
       "      <td>0.0</td>\n",
       "      <td>NaN</td>\n",
       "      <td>NaN</td>\n",
       "      <td>NaN</td>\n",
       "    </tr>\n",
       "  </tbody>\n",
       "</table>\n",
       "</div>"
      ],
      "text/plain": [
       "   id_estacao   lat    lon          data  tmin   tmed  tmax  prec  urmin  \\\n",
       "0           1 -23.5 -47.45   1994-11-01   21.0  24.10  27.2   0.0    NaN   \n",
       "1           1 -23.5 -47.45   1994-11-02   24.0  26.50  29.0   0.0    NaN   \n",
       "2           1 -23.5 -47.45   1994-11-03   26.0  28.50  31.0   0.0    NaN   \n",
       "3           1 -23.5 -47.45   1994-11-04   23.0  25.00  27.0   0.0    NaN   \n",
       "4           1 -23.5 -47.45   1994-11-05   23.7  24.35  25.0   0.0    NaN   \n",
       "\n",
       "   urmed  urmax  \n",
       "0    NaN    NaN  \n",
       "1    NaN    NaN  \n",
       "2    NaN    NaN  \n",
       "3    NaN    NaN  \n",
       "4    NaN    NaN  "
      ]
     },
     "execution_count": 13,
     "metadata": {},
     "output_type": "execute_result"
    }
   ],
   "source": [
    "iac = pd.read_csv(os.path.join(bronze_path,'iac.csv'))\n",
    "iac.head()"
   ]
  },
  {
   "cell_type": "code",
   "execution_count": null,
   "metadata": {},
   "outputs": [
    {
     "name": "stdout",
     "output_type": "stream",
     "text": [
      "Os dados do IAC não possuem dados de umidade\n",
      "\n",
      "~~~~~~~~ DATAS MÍNIMAS DE MEDIÇÃO POR ESTAÇÃO ~~~~~~~~\n",
      "count    1970-01-01\n",
      "mean     1994-09-19\n",
      "min      1890-01-01\n",
      "25%      1992-09-01\n",
      "50%      1994-11-01\n",
      "75%      1999-02-01\n",
      "max      2002-05-10\n",
      "Name: data, dtype: object\n",
      "\n",
      "~~~~~~~~ PRECIPITAÇÃO ~~~~~~~~\n",
      "Porcentagem de dados faltantes: 2.18%\n",
      "count    764710.00\n",
      "mean          3.47\n",
      "std          16.58\n",
      "min           0.00\n",
      "25%           0.00\n",
      "50%           0.00\n",
      "75%           1.38\n",
      "max        7029.00\n",
      "Name: prec, dtype: float64\n",
      "\n",
      "~~~~~~~~ TEMPERATURA ~~~~~~~~\n",
      "Porcentagem de dados faltantes: ~ 7%\n",
      "\n"
     ]
    }
   ],
   "source": [
    "print(\"Os dados do IAC não possuem dados de umidade\")\n",
    "print()\n",
    "print(\"~~~~~~~~ DATAS MÍNIMAS DE MEDIÇÃO POR ESTAÇÃO ~~~~~~~~\")\n",
    "print(pd.to_datetime(pd.to_datetime(iac.groupby('id_estacao')['data'].min()).describe()).dt.date)\n",
    "print()\n",
    "\n",
    "print(\"~~~~~~~~ PRECIPITAÇÃO ~~~~~~~~\")\n",
    "print(f\"Porcentagem de dados faltantes: {round(len(iac.loc[iac['prec'].isna()])*100/len(iac),2)}%\")\n",
    "print(cemig['prec'].describe().round(2))\n",
    "print()\n",
    "\n",
    "print(\"~~~~~~~~ TEMPERATURA ~~~~~~~~\")\n",
    "print(f\"Porcentagem de dados faltantes: ~ {round(len(iac.loc[iac['tmin'].isna()])*100/len(iac))}%\")\n",
    "print()"
   ]
  },
  {
   "cell_type": "markdown",
   "metadata": {},
   "source": [
    "## 2.5. INMET_AGRI - Instituto Nacional de Meteorologia: Agricultura"
   ]
  },
  {
   "cell_type": "code",
   "execution_count": null,
   "metadata": {},
   "outputs": [
    {
     "data": {
      "text/html": [
       "<div>\n",
       "<style scoped>\n",
       "    .dataframe tbody tr th:only-of-type {\n",
       "        vertical-align: middle;\n",
       "    }\n",
       "\n",
       "    .dataframe tbody tr th {\n",
       "        vertical-align: top;\n",
       "    }\n",
       "\n",
       "    .dataframe thead th {\n",
       "        text-align: right;\n",
       "    }\n",
       "</style>\n",
       "<table border=\"1\" class=\"dataframe\">\n",
       "  <thead>\n",
       "    <tr style=\"text-align: right;\">\n",
       "      <th></th>\n",
       "      <th>id_estacao</th>\n",
       "      <th>lat</th>\n",
       "      <th>lon</th>\n",
       "      <th>data</th>\n",
       "      <th>tmin</th>\n",
       "      <th>tmed</th>\n",
       "      <th>tmax</th>\n",
       "      <th>prec</th>\n",
       "      <th>urmin</th>\n",
       "      <th>urmed</th>\n",
       "      <th>urmax</th>\n",
       "    </tr>\n",
       "  </thead>\n",
       "  <tbody>\n",
       "    <tr>\n",
       "      <th>0</th>\n",
       "      <td>386</td>\n",
       "      <td>-23.4256</td>\n",
       "      <td>-47.5852</td>\n",
       "      <td>2006-01-01</td>\n",
       "      <td>19.0</td>\n",
       "      <td>23.0</td>\n",
       "      <td>27.0</td>\n",
       "      <td>29.85</td>\n",
       "      <td>NaN</td>\n",
       "      <td>NaN</td>\n",
       "      <td>NaN</td>\n",
       "    </tr>\n",
       "    <tr>\n",
       "      <th>1</th>\n",
       "      <td>386</td>\n",
       "      <td>-23.4256</td>\n",
       "      <td>-47.5852</td>\n",
       "      <td>2006-01-02</td>\n",
       "      <td>19.0</td>\n",
       "      <td>22.0</td>\n",
       "      <td>25.0</td>\n",
       "      <td>9.69</td>\n",
       "      <td>NaN</td>\n",
       "      <td>NaN</td>\n",
       "      <td>NaN</td>\n",
       "    </tr>\n",
       "    <tr>\n",
       "      <th>2</th>\n",
       "      <td>386</td>\n",
       "      <td>-23.4256</td>\n",
       "      <td>-47.5852</td>\n",
       "      <td>2006-01-03</td>\n",
       "      <td>19.0</td>\n",
       "      <td>21.0</td>\n",
       "      <td>23.0</td>\n",
       "      <td>40.71</td>\n",
       "      <td>NaN</td>\n",
       "      <td>NaN</td>\n",
       "      <td>NaN</td>\n",
       "    </tr>\n",
       "    <tr>\n",
       "      <th>3</th>\n",
       "      <td>386</td>\n",
       "      <td>-23.4256</td>\n",
       "      <td>-47.5852</td>\n",
       "      <td>2006-01-04</td>\n",
       "      <td>19.0</td>\n",
       "      <td>21.0</td>\n",
       "      <td>23.0</td>\n",
       "      <td>13.53</td>\n",
       "      <td>NaN</td>\n",
       "      <td>NaN</td>\n",
       "      <td>NaN</td>\n",
       "    </tr>\n",
       "    <tr>\n",
       "      <th>4</th>\n",
       "      <td>386</td>\n",
       "      <td>-23.4256</td>\n",
       "      <td>-47.5852</td>\n",
       "      <td>2006-01-05</td>\n",
       "      <td>19.0</td>\n",
       "      <td>23.0</td>\n",
       "      <td>27.0</td>\n",
       "      <td>2.85</td>\n",
       "      <td>NaN</td>\n",
       "      <td>NaN</td>\n",
       "      <td>NaN</td>\n",
       "    </tr>\n",
       "  </tbody>\n",
       "</table>\n",
       "</div>"
      ],
      "text/plain": [
       "   id_estacao      lat      lon          data  tmin  tmed  tmax   prec  urmin  \\\n",
       "0         386 -23.4256 -47.5852   2006-01-01   19.0  23.0  27.0  29.85    NaN   \n",
       "1         386 -23.4256 -47.5852   2006-01-02   19.0  22.0  25.0   9.69    NaN   \n",
       "2         386 -23.4256 -47.5852   2006-01-03   19.0  21.0  23.0  40.71    NaN   \n",
       "3         386 -23.4256 -47.5852   2006-01-04   19.0  21.0  23.0  13.53    NaN   \n",
       "4         386 -23.4256 -47.5852   2006-01-05   19.0  23.0  27.0   2.85    NaN   \n",
       "\n",
       "   urmed  urmax  \n",
       "0    NaN    NaN  \n",
       "1    NaN    NaN  \n",
       "2    NaN    NaN  \n",
       "3    NaN    NaN  \n",
       "4    NaN    NaN  "
      ]
     },
     "execution_count": 15,
     "metadata": {},
     "output_type": "execute_result"
    }
   ],
   "source": [
    "inmet_agri = pd.read_csv(os.path.join(bronze_path,'inmet_agri.csv'))\n",
    "inmet_agri.head()"
   ]
  },
  {
   "cell_type": "code",
   "execution_count": null,
   "metadata": {},
   "outputs": [
    {
     "name": "stdout",
     "output_type": "stream",
     "text": [
      "Os dados do INMET_AGRI só não possuem a coluna urmed (Umidade Relativa Média)\n",
      "\n",
      "~~~~~~~~ DATAS MÍNIMAS DE MEDIÇÃO POR ESTAÇÃO ~~~~~~~~\n",
      "count    1970-01-01\n",
      "mean     1985-05-23\n",
      "min      1918-01-01\n",
      "25%      1961-01-01\n",
      "50%      1999-04-27\n",
      "75%      2006-01-01\n",
      "max      2011-04-04\n",
      "Name: data, dtype: object\n",
      "\n",
      "~~~~~~~~ PRECIPITAÇÃO ~~~~~~~~\n",
      "Porcentagem de dados faltantes: 35.31%\n",
      "count    1798882.00\n",
      "mean           4.15\n",
      "std           42.58\n",
      "min            0.00\n",
      "25%            0.00\n",
      "50%            0.00\n",
      "75%            1.78\n",
      "max         9249.60\n",
      "Name: prec, dtype: float64\n",
      "\n",
      "~~~~~~~~ TEMPERATURA ~~~~~~~~\n",
      "Porcentagem de dados faltantes: ~ 27%\n",
      "\n",
      "~~~~~~~~ UMIDADE ~~~~~~~~\n",
      "Porcentagem de dados faltantes: ~ 69%\n",
      "\n"
     ]
    }
   ],
   "source": [
    "print(\"Os dados do INMET_AGRI só não possuem a coluna urmed (Umidade Relativa Média)\")\n",
    "print()\n",
    "print(\"~~~~~~~~ DATAS MÍNIMAS DE MEDIÇÃO POR ESTAÇÃO ~~~~~~~~\")\n",
    "print(pd.to_datetime(pd.to_datetime(inmet_agri.groupby('id_estacao')['data'].min()).describe()).dt.date)\n",
    "print()\n",
    "\n",
    "print(\"~~~~~~~~ PRECIPITAÇÃO ~~~~~~~~\")\n",
    "print(f\"Porcentagem de dados faltantes: {round(len(inmet_agri.loc[inmet_agri['prec'].isna()])*100/len(inmet_agri),2)}%\")\n",
    "print(inmet_agri['prec'].describe().round(2))\n",
    "print()\n",
    "\n",
    "print(\"~~~~~~~~ TEMPERATURA ~~~~~~~~\")\n",
    "print(f\"Porcentagem de dados faltantes: ~ {round(len(inmet_agri.loc[inmet_agri['tmin'].isna()])*100/len(inmet_agri))}%\")\n",
    "print()\n",
    "\n",
    "print(\"~~~~~~~~ UMIDADE ~~~~~~~~\")\n",
    "print(f\"Porcentagem de dados faltantes: ~ {round(len(inmet_agri.loc[inmet_agri['urmin'].isna()])*100/len(inmet_agri))}%\")\n",
    "print()"
   ]
  },
  {
   "cell_type": "markdown",
   "metadata": {},
   "source": [
    "## 2.6. INMET- Instituto Nacional de Meteorologia"
   ]
  },
  {
   "cell_type": "code",
   "execution_count": null,
   "metadata": {},
   "outputs": [
    {
     "data": {
      "text/html": [
       "<div>\n",
       "<style scoped>\n",
       "    .dataframe tbody tr th:only-of-type {\n",
       "        vertical-align: middle;\n",
       "    }\n",
       "\n",
       "    .dataframe tbody tr th {\n",
       "        vertical-align: top;\n",
       "    }\n",
       "\n",
       "    .dataframe thead th {\n",
       "        text-align: right;\n",
       "    }\n",
       "</style>\n",
       "<table border=\"1\" class=\"dataframe\">\n",
       "  <thead>\n",
       "    <tr style=\"text-align: right;\">\n",
       "      <th></th>\n",
       "      <th>id_estacao</th>\n",
       "      <th>lat</th>\n",
       "      <th>lon</th>\n",
       "      <th>data</th>\n",
       "      <th>tmin</th>\n",
       "      <th>tmed</th>\n",
       "      <th>tmax</th>\n",
       "      <th>prec</th>\n",
       "      <th>urmin</th>\n",
       "      <th>urmed</th>\n",
       "      <th>urmax</th>\n",
       "    </tr>\n",
       "  </thead>\n",
       "  <tbody>\n",
       "    <tr>\n",
       "      <th>0</th>\n",
       "      <td>30670</td>\n",
       "      <td>-22.9658</td>\n",
       "      <td>-43.2792</td>\n",
       "      <td>1966-06-01</td>\n",
       "      <td>14.8</td>\n",
       "      <td>18.30</td>\n",
       "      <td>22.7</td>\n",
       "      <td>NaN</td>\n",
       "      <td>NaN</td>\n",
       "      <td>89.75</td>\n",
       "      <td>NaN</td>\n",
       "    </tr>\n",
       "    <tr>\n",
       "      <th>1</th>\n",
       "      <td>30670</td>\n",
       "      <td>-22.9658</td>\n",
       "      <td>-43.2792</td>\n",
       "      <td>1966-06-02</td>\n",
       "      <td>16.0</td>\n",
       "      <td>20.52</td>\n",
       "      <td>24.6</td>\n",
       "      <td>0.0</td>\n",
       "      <td>NaN</td>\n",
       "      <td>75.50</td>\n",
       "      <td>NaN</td>\n",
       "    </tr>\n",
       "    <tr>\n",
       "      <th>2</th>\n",
       "      <td>30670</td>\n",
       "      <td>-22.9658</td>\n",
       "      <td>-43.2792</td>\n",
       "      <td>1966-06-03</td>\n",
       "      <td>15.7</td>\n",
       "      <td>17.70</td>\n",
       "      <td>21.2</td>\n",
       "      <td>0.0</td>\n",
       "      <td>NaN</td>\n",
       "      <td>86.25</td>\n",
       "      <td>NaN</td>\n",
       "    </tr>\n",
       "    <tr>\n",
       "      <th>3</th>\n",
       "      <td>30670</td>\n",
       "      <td>-22.9658</td>\n",
       "      <td>-43.2792</td>\n",
       "      <td>1966-06-04</td>\n",
       "      <td>15.0</td>\n",
       "      <td>16.72</td>\n",
       "      <td>20.2</td>\n",
       "      <td>11.9</td>\n",
       "      <td>NaN</td>\n",
       "      <td>87.00</td>\n",
       "      <td>NaN</td>\n",
       "    </tr>\n",
       "    <tr>\n",
       "      <th>4</th>\n",
       "      <td>30670</td>\n",
       "      <td>-22.9658</td>\n",
       "      <td>-43.2792</td>\n",
       "      <td>1966-06-05</td>\n",
       "      <td>14.4</td>\n",
       "      <td>17.64</td>\n",
       "      <td>21.8</td>\n",
       "      <td>0.0</td>\n",
       "      <td>NaN</td>\n",
       "      <td>86.50</td>\n",
       "      <td>NaN</td>\n",
       "    </tr>\n",
       "  </tbody>\n",
       "</table>\n",
       "</div>"
      ],
      "text/plain": [
       "   id_estacao      lat      lon        data  tmin   tmed  tmax  prec  urmin  \\\n",
       "0       30670 -22.9658 -43.2792  1966-06-01  14.8  18.30  22.7   NaN    NaN   \n",
       "1       30670 -22.9658 -43.2792  1966-06-02  16.0  20.52  24.6   0.0    NaN   \n",
       "2       30670 -22.9658 -43.2792  1966-06-03  15.7  17.70  21.2   0.0    NaN   \n",
       "3       30670 -22.9658 -43.2792  1966-06-04  15.0  16.72  20.2  11.9    NaN   \n",
       "4       30670 -22.9658 -43.2792  1966-06-05  14.4  17.64  21.8   0.0    NaN   \n",
       "\n",
       "   urmed  urmax  \n",
       "0  89.75    NaN  \n",
       "1  75.50    NaN  \n",
       "2  86.25    NaN  \n",
       "3  87.00    NaN  \n",
       "4  86.50    NaN  "
      ]
     },
     "execution_count": 17,
     "metadata": {},
     "output_type": "execute_result"
    }
   ],
   "source": [
    "inmet = pd.read_csv(os.path.join(bronze_path,'inmet.csv'))\n",
    "inmet.head()"
   ]
  },
  {
   "cell_type": "code",
   "execution_count": null,
   "metadata": {},
   "outputs": [
    {
     "name": "stdout",
     "output_type": "stream",
     "text": [
      "Os dados do INMET possuem todas as colunas\n",
      "\n",
      "~~~~~~~~ DATAS MÍNIMAS DE MEDIÇÃO POR ESTAÇÃO ~~~~~~~~\n",
      "count    1970-01-01\n",
      "mean     1985-06-26\n",
      "min      1961-01-01\n",
      "25%      1961-01-01\n",
      "50%      1978-06-16\n",
      "75%      2007-06-02\n",
      "max      2022-11-11\n",
      "Name: data, dtype: object\n",
      "\n",
      "~~~~~~~~ PRECIPITAÇÃO ~~~~~~~~\n",
      "Porcentagem de dados faltantes: 24.47%\n",
      "count    1798882.00\n",
      "mean           4.15\n",
      "std           42.58\n",
      "min            0.00\n",
      "25%            0.00\n",
      "50%            0.00\n",
      "75%            1.78\n",
      "max         9249.60\n",
      "Name: prec, dtype: float64\n",
      "\n",
      "~~~~~~~~ TEMPERATURA ~~~~~~~~\n",
      "Porcentagem de dados faltantes: ~ 23%\n",
      "\n",
      "~~~~~~~~ UMIDADE ~~~~~~~~\n",
      "Porcentagem de dados faltantes: ~ 79%\n",
      "\n"
     ]
    }
   ],
   "source": [
    "print(\"Os dados do INMET possuem todas as colunas\")\n",
    "print()\n",
    "print(\"~~~~~~~~ DATAS MÍNIMAS DE MEDIÇÃO POR ESTAÇÃO ~~~~~~~~\")\n",
    "print(pd.to_datetime(pd.to_datetime(inmet.groupby('id_estacao')['data'].min()).describe()).dt.date)\n",
    "print()\n",
    "\n",
    "print(\"~~~~~~~~ PRECIPITAÇÃO ~~~~~~~~\")\n",
    "print(f\"Porcentagem de dados faltantes: {round(len(inmet.loc[inmet['prec'].isna()])*100/len(inmet),2)}%\")\n",
    "print(inmet_agri['prec'].describe().round(2))\n",
    "print()\n",
    "\n",
    "print(\"~~~~~~~~ TEMPERATURA ~~~~~~~~\")\n",
    "print(f\"Porcentagem de dados faltantes: ~ {round(len(inmet.loc[inmet['tmin'].isna()])*100/len(inmet))}%\")\n",
    "print()\n",
    "\n",
    "print(\"~~~~~~~~ UMIDADE ~~~~~~~~\")\n",
    "print(f\"Porcentagem de dados faltantes: ~ {round(len(inmet.loc[inmet['urmin'].isna()])*100/len(inmet))}%\")\n",
    "print()"
   ]
  },
  {
   "cell_type": "markdown",
   "metadata": {},
   "source": [
    "## 2.7. UNESP"
   ]
  },
  {
   "cell_type": "code",
   "execution_count": null,
   "metadata": {},
   "outputs": [
    {
     "data": {
      "text/html": [
       "<div>\n",
       "<style scoped>\n",
       "    .dataframe tbody tr th:only-of-type {\n",
       "        vertical-align: middle;\n",
       "    }\n",
       "\n",
       "    .dataframe tbody tr th {\n",
       "        vertical-align: top;\n",
       "    }\n",
       "\n",
       "    .dataframe thead th {\n",
       "        text-align: right;\n",
       "    }\n",
       "</style>\n",
       "<table border=\"1\" class=\"dataframe\">\n",
       "  <thead>\n",
       "    <tr style=\"text-align: right;\">\n",
       "      <th></th>\n",
       "      <th>id_estacao</th>\n",
       "      <th>lat</th>\n",
       "      <th>lon</th>\n",
       "      <th>data</th>\n",
       "      <th>tmin</th>\n",
       "      <th>tmed</th>\n",
       "      <th>tmax</th>\n",
       "      <th>prec</th>\n",
       "      <th>urmin</th>\n",
       "      <th>urmed</th>\n",
       "      <th>urmax</th>\n",
       "    </tr>\n",
       "  </thead>\n",
       "  <tbody>\n",
       "    <tr>\n",
       "      <th>0</th>\n",
       "      <td>1362</td>\n",
       "      <td>-20.43</td>\n",
       "      <td>-50.8</td>\n",
       "      <td>1998-01-01</td>\n",
       "      <td>23.0</td>\n",
       "      <td>29.5</td>\n",
       "      <td>36.0</td>\n",
       "      <td>0.0</td>\n",
       "      <td>NaN</td>\n",
       "      <td>NaN</td>\n",
       "      <td>NaN</td>\n",
       "    </tr>\n",
       "    <tr>\n",
       "      <th>1</th>\n",
       "      <td>1362</td>\n",
       "      <td>-20.43</td>\n",
       "      <td>-50.8</td>\n",
       "      <td>1998-01-02</td>\n",
       "      <td>23.0</td>\n",
       "      <td>29.5</td>\n",
       "      <td>36.0</td>\n",
       "      <td>0.0</td>\n",
       "      <td>NaN</td>\n",
       "      <td>NaN</td>\n",
       "      <td>NaN</td>\n",
       "    </tr>\n",
       "    <tr>\n",
       "      <th>2</th>\n",
       "      <td>1362</td>\n",
       "      <td>-20.43</td>\n",
       "      <td>-50.8</td>\n",
       "      <td>1998-01-03</td>\n",
       "      <td>22.0</td>\n",
       "      <td>29.5</td>\n",
       "      <td>37.0</td>\n",
       "      <td>0.0</td>\n",
       "      <td>NaN</td>\n",
       "      <td>NaN</td>\n",
       "      <td>NaN</td>\n",
       "    </tr>\n",
       "    <tr>\n",
       "      <th>3</th>\n",
       "      <td>1362</td>\n",
       "      <td>-20.43</td>\n",
       "      <td>-50.8</td>\n",
       "      <td>1998-01-04</td>\n",
       "      <td>21.0</td>\n",
       "      <td>28.5</td>\n",
       "      <td>36.0</td>\n",
       "      <td>24.0</td>\n",
       "      <td>NaN</td>\n",
       "      <td>NaN</td>\n",
       "      <td>NaN</td>\n",
       "    </tr>\n",
       "    <tr>\n",
       "      <th>4</th>\n",
       "      <td>1362</td>\n",
       "      <td>-20.43</td>\n",
       "      <td>-50.8</td>\n",
       "      <td>1998-01-05</td>\n",
       "      <td>22.0</td>\n",
       "      <td>28.0</td>\n",
       "      <td>34.0</td>\n",
       "      <td>0.0</td>\n",
       "      <td>NaN</td>\n",
       "      <td>NaN</td>\n",
       "      <td>NaN</td>\n",
       "    </tr>\n",
       "  </tbody>\n",
       "</table>\n",
       "</div>"
      ],
      "text/plain": [
       "   id_estacao    lat   lon          data  tmin  tmed  tmax  prec  urmin  \\\n",
       "0        1362 -20.43 -50.8   1998-01-01   23.0  29.5  36.0   0.0    NaN   \n",
       "1        1362 -20.43 -50.8   1998-01-02   23.0  29.5  36.0   0.0    NaN   \n",
       "2        1362 -20.43 -50.8   1998-01-03   22.0  29.5  37.0   0.0    NaN   \n",
       "3        1362 -20.43 -50.8   1998-01-04   21.0  28.5  36.0  24.0    NaN   \n",
       "4        1362 -20.43 -50.8   1998-01-05   22.0  28.0  34.0   0.0    NaN   \n",
       "\n",
       "   urmed  urmax  \n",
       "0    NaN    NaN  \n",
       "1    NaN    NaN  \n",
       "2    NaN    NaN  \n",
       "3    NaN    NaN  \n",
       "4    NaN    NaN  "
      ]
     },
     "execution_count": 19,
     "metadata": {},
     "output_type": "execute_result"
    }
   ],
   "source": [
    "unesp = pd.read_csv(os.path.join(bronze_path,'unesp.csv'))\n",
    "unesp.head()"
   ]
  },
  {
   "cell_type": "code",
   "execution_count": null,
   "metadata": {},
   "outputs": [
    {
     "name": "stdout",
     "output_type": "stream",
     "text": [
      "Os dados da UNESP só não possuem a coluna urmed (Umidade Relativa Média)\n",
      "\n",
      "~~~~~~~~ DATAS MÍNIMAS DE MEDIÇÃO POR ESTAÇÃO ~~~~~~~~\n",
      "count    1970-01-01\n",
      "mean     1985-05-26\n",
      "min      1961-01-01\n",
      "25%      1976-01-01\n",
      "50%      1991-08-20\n",
      "75%      1996-06-01\n",
      "max      2000-05-01\n",
      "Name: data, dtype: object\n",
      "\n",
      "~~~~~~~~ PRECIPITAÇÃO ~~~~~~~~\n",
      "Porcentagem de dados faltantes: 29.14%\n",
      "count    1798882.00\n",
      "mean           4.15\n",
      "std           42.58\n",
      "min            0.00\n",
      "25%            0.00\n",
      "50%            0.00\n",
      "75%            1.78\n",
      "max         9249.60\n",
      "Name: prec, dtype: float64\n",
      "\n",
      "~~~~~~~~ TEMPERATURA ~~~~~~~~\n",
      "Porcentagem de dados faltantes: ~ 7%\n",
      "\n",
      "~~~~~~~~ UMIDADE ~~~~~~~~\n",
      "Porcentagem de dados faltantes: ~ 88%\n",
      "\n"
     ]
    }
   ],
   "source": [
    "print(\"Os dados da UNESP só não possuem a coluna urmed (Umidade Relativa Média)\")\n",
    "print()\n",
    "print(\"~~~~~~~~ DATAS MÍNIMAS DE MEDIÇÃO POR ESTAÇÃO ~~~~~~~~\")\n",
    "print(pd.to_datetime(pd.to_datetime(unesp.groupby('id_estacao')['data'].min()).describe()).dt.date)\n",
    "print()\n",
    "\n",
    "print(\"~~~~~~~~ PRECIPITAÇÃO ~~~~~~~~\")\n",
    "print(f\"Porcentagem de dados faltantes: {round(len(unesp.loc[unesp['prec'].isna()])*100/len(unesp),2)}%\")\n",
    "print(inmet_agri['prec'].describe().round(2))\n",
    "print()\n",
    "\n",
    "print(\"~~~~~~~~ TEMPERATURA ~~~~~~~~\")\n",
    "print(f\"Porcentagem de dados faltantes: ~ {round(len(unesp.loc[unesp['tmin'].isna()])*100/len(unesp))}%\")\n",
    "print()\n",
    "\n",
    "print(\"~~~~~~~~ UMIDADE ~~~~~~~~\")\n",
    "print(f\"Porcentagem de dados faltantes: ~ {round(len(unesp.loc[unesp['urmin'].isna()])*100/len(unesp))}%\")\n",
    "print()"
   ]
  },
  {
   "cell_type": "code",
   "execution_count": null,
   "metadata": {},
   "outputs": [
    {
     "name": "stdout",
     "output_type": "stream",
     "text": [
      "Quantidade de linhas divergentes nas estações que aparecem 'duplicadas': 0\n"
     ]
    }
   ],
   "source": [
    "estacoes_dict = {\n",
    "    'ANA':ana,\n",
    "    'CEMADEN':cemaden,\n",
    "    'CEMIG':cemig,\n",
    "    'IAC':iac,\n",
    "    'INMET_AGRI':inmet_agri,\n",
    "    'INMET':inmet,\n",
    "    'UNESP':unesp\n",
    "}\n",
    "\n",
    "for estacao,df in estacoes_dict.items():\n",
    "    df['fonte_estacao'] = estacao\n",
    "\n",
    "estacoes = pd.concat([estacao for estacao in estacoes_dict.values()])\n",
    "\n",
    "# Analisando os poucos 3 casos onde aparecem estações com duas fontes diferentes (ANA e CEMADEN)\n",
    "repeated_estacoes = estacoes.groupby('id_estacao',as_index=False)['fonte_estacao'].nunique().query('fonte_estacao>1')['id_estacao'].to_list()\n",
    "\n",
    "pivot_df = estacoes \\\n",
    "    .loc[estacoes['id_estacao'].isin(repeated_estacoes)] \\\n",
    "    .pivot(\n",
    "        index=['id_estacao','data'],\n",
    "        columns='fonte_estacao',\n",
    "        values=['tmin','tmed','tmax','prec','urmin','urmed','urmax']\n",
    "    ).reset_index()\n",
    "\n",
    "pivot_df.columns = ['_'.join(col).strip() for col in pivot_df.columns.values]\n",
    "pivot_df = pivot_df.rename(columns={'id_estacao_':'id_estacao','data_':'data'})\n",
    "\n",
    "# Não há nenhuma divergência de dados nesses casos, isso é, numa fonte a mesma estação dá valores diferentes para o mesmo dia de alguma das medições\n",
    "print(f\"\"\"Quantidade de linhas divergentes nas estações que aparecem 'duplicadas': {len(pivot_df.loc[\n",
    "    ((~pivot_df['prec_ANA'].isna()) &\n",
    "    (~pivot_df['prec_CEMADEN'].isna()) &\n",
    "    (pivot_df['prec_ANA'].fillna(-1)!=pivot_df['prec_CEMADEN'].fillna(-1))) |\n",
    "    ((~pivot_df['tmin_ANA'].isna()) &\n",
    "    (~pivot_df['tmin_CEMADEN'].isna()) &\n",
    "    (pivot_df['tmin_ANA'].fillna(-1)!=pivot_df['prec_CEMADEN'].fillna(-1))) |\n",
    "    ((~pivot_df['tmed_ANA'].isna()) &\n",
    "    (~pivot_df['tmed_CEMADEN'].isna()) &\n",
    "    (pivot_df['tmed_ANA'].fillna(-1)!=pivot_df['prec_CEMADEN'].fillna(-1))) |\n",
    "    ((~pivot_df['tmax_ANA'].isna()) &\n",
    "    (~pivot_df['tmax_CEMADEN'].isna()) &\n",
    "    (pivot_df['tmax_ANA'].fillna(-1)!=pivot_df['prec_CEMADEN'].fillna(-1))) |\n",
    "    ((~pivot_df['urmin_ANA'].isna()) &\n",
    "    (~pivot_df['urmin_CEMADEN'].isna()) &\n",
    "    (pivot_df['urmin_ANA'].fillna(-1)!=pivot_df['prec_CEMADEN'].fillna(-1))) |\n",
    "    ((~pivot_df['urmed_ANA'].isna()) &\n",
    "    (~pivot_df['urmed_CEMADEN'].isna()) &\n",
    "    (pivot_df['urmed_ANA'].fillna(-1)!=pivot_df['prec_CEMADEN'].fillna(-1))) |\n",
    "    ((~pivot_df['urmax_ANA'].isna()) &\n",
    "    (~pivot_df['urmax_CEMADEN'].isna()) &\n",
    "    (pivot_df['urmax_ANA'].fillna(-1)!=pivot_df['prec_CEMADEN'].fillna(-1)))\n",
    "])}\"\"\")"
   ]
  },
  {
   "cell_type": "markdown",
   "metadata": {},
   "source": [
    "# 3. Satélites"
   ]
  },
  {
   "cell_type": "code",
   "execution_count": null,
   "metadata": {},
   "outputs": [],
   "source": [
    "medidas = {\n",
    "    'AgCFSR':['prate','rhstmax','srad','tavg','tmax','tmin','wndspd'],\n",
    "    'AgMERRA':['prate','rhstmax','srad','tavg','tmax','tmin','wndspd'],\n",
    "    'CHIRPS':['precipitation'],\n",
    "    'CPC':['precipitation','tmax','tmin'],\n",
    "    'GL':['irradiancia'],\n",
    "    'GPM Final Run':['precipitation'],\n",
    "    'GPM Late Run':['precipitation'],\n",
    "    'PERSIANN-CDR':['precipitation'],\n",
    "    'POWER':['allsky_sfc_sw_dwn','prectotcorr','ps','rh2m','t2m_max','t2m_min','t2m','t2mdew','wd2m','wd10m','ws2m_max','ws2m','ws10m_max','ws10m'],\n",
    "    'TRMM':['precipitation']\n",
    "}"
   ]
  },
  {
   "cell_type": "markdown",
   "metadata": {},
   "source": [
    "## 3.1. AgCFSR - NASA"
   ]
  },
  {
   "cell_type": "code",
   "execution_count": null,
   "metadata": {},
   "outputs": [
    {
     "name": "stdout",
     "output_type": "stream",
     "text": [
      "+----------+------+------+--------+----------+-------+-------+-------+-------+---------+\n",
      "|      data|   lat|   lon|vl_prate|vl_rhstmax|vl_srad|vl_tavg|vl_tmax|vl_tmin|vl_wndspd|\n",
      "+----------+------+------+--------+----------+-------+-------+-------+-------+---------+\n",
      "|1980-01-01| -24.0|-47.75|     6.0|      69.0|    5.0|   18.0|   21.0|   17.0|      1.0|\n",
      "|1980-01-01| -24.0|-45.75|    21.0|      68.0|    4.0|   21.0|   25.0|   18.0|      4.0|\n",
      "|1980-01-01|-23.75| -40.0|    15.0|      73.0|    3.0|   25.0|   29.0|   21.0|      8.0|\n",
      "|1980-01-01|-23.75| -39.5|     0.0|      69.0|   25.0|   27.0|   31.0|   24.0|      9.0|\n",
      "|1980-01-01| -23.5| -51.0|     0.0|      48.0|   28.0|   19.0|   26.0|   13.0|      3.0|\n",
      "+----------+------+------+--------+----------+-------+-------+-------+-------+---------+\n",
      "only showing top 5 rows\n",
      "\n"
     ]
    }
   ],
   "source": [
    "agcfsr = spark.read.csv(os.path.join(bronze_path,f'full_AgCFSR.csv'),header=True,inferSchema=True)\n",
    "agcfsr.show(5)"
   ]
  },
  {
   "cell_type": "code",
   "execution_count": null,
   "metadata": {},
   "outputs": [
    {
     "name": "stdout",
     "output_type": "stream",
     "text": [
      "Descrição estatística das colunas\n",
      "Número de linhas: 20030387\n",
      "Datas: De 1980-01-01 até 2010-12-31\n",
      "+-------+--------+----------+-------+-------+-------+-------+---------+\n",
      "|summary|vl_prate|vl_rhstmax|vl_srad|vl_tavg|vl_tmax|vl_tmin|vl_wndspd|\n",
      "+-------+--------+----------+-------+-------+-------+-------+---------+\n",
      "|   mean|    3.78|     54.14|  17.97|  22.77|  28.88|  18.49|     1.93|\n",
      "| stddev|    8.07|     19.34|   5.76|   3.36|   3.85|   3.81|     1.53|\n",
      "|    min|     0.0|       3.0|    0.0|    2.0|    6.0|   -6.0|      0.0|\n",
      "|    max|   362.0|      95.0|   34.0|   37.0|   49.0|   32.0|     14.0|\n",
      "+-------+--------+----------+-------+-------+-------+-------+---------+\n",
      "\n",
      "Quantidade de valores nulos por coluna:\n",
      "Coluna vl_prate: 0\n",
      "Coluna vl_rhstmax: 0\n",
      "Coluna vl_srad: 0\n",
      "Coluna vl_tavg: 0\n",
      "Coluna vl_tmax: 0\n",
      "Coluna vl_tmin: 0\n",
      "Coluna vl_wndspd: 0\n"
     ]
    }
   ],
   "source": [
    "statistical_description(agcfsr)"
   ]
  },
  {
   "cell_type": "markdown",
   "metadata": {},
   "source": [
    "## 3.2. AgMERRA - NASA"
   ]
  },
  {
   "cell_type": "code",
   "execution_count": null,
   "metadata": {},
   "outputs": [
    {
     "name": "stdout",
     "output_type": "stream",
     "text": [
      "+----------+------+------+--------+----------+-------+-------+-------+-------+---------+\n",
      "|      data|   lat|   lon|vl_prate|vl_rhstmax|vl_srad|vl_tavg|vl_tmax|vl_tmin|vl_wndspd|\n",
      "+----------+------+------+--------+----------+-------+-------+-------+-------+---------+\n",
      "|1980-01-01| -24.0|-47.75|     5.0|      41.0|   28.0|   22.0|   28.0|   18.0|      1.0|\n",
      "|1980-01-01| -24.0|-45.75|    31.0|      55.0|   21.0|   22.0|   25.0|   19.0|      3.0|\n",
      "|1980-01-01|-23.75| -40.0|    12.0|      69.0|   17.0|   25.0|   30.0|   21.0|      4.0|\n",
      "|1980-01-01|-23.75| -39.5|    14.0|      86.0|   11.0|   26.0|   29.0|   23.0|      5.0|\n",
      "|1980-01-01| -23.5| -51.0|     0.0|      30.0|   32.0|   19.0|   27.0|   11.0|      2.0|\n",
      "+----------+------+------+--------+----------+-------+-------+-------+-------+---------+\n",
      "only showing top 5 rows\n",
      "\n"
     ]
    }
   ],
   "source": [
    "agmerra = spark.read.csv(os.path.join(bronze_path,f'full_AgMERRA.csv'),header=True,inferSchema=True)\n",
    "agmerra.show(5)"
   ]
  },
  {
   "cell_type": "code",
   "execution_count": null,
   "metadata": {},
   "outputs": [
    {
     "name": "stdout",
     "output_type": "stream",
     "text": [
      "Descrição estatística das colunas\n",
      "Número de linhas: 20030387\n",
      "Datas: De 1980-01-01 até 2010-12-31\n",
      "+-------+--------+----------+-------+-------+-------+-------+---------+\n",
      "|summary|vl_prate|vl_rhstmax|vl_srad|vl_tavg|vl_tmax|vl_tmin|vl_wndspd|\n",
      "+-------+--------+----------+-------+-------+-------+-------+---------+\n",
      "|   mean|    3.79|     47.08|  17.81|  22.69|  28.47|  18.11|     2.08|\n",
      "| stddev|    7.13|     20.29|    5.7|   3.31|   3.61|   3.81|     1.15|\n",
      "|    min|     0.0|       1.0|    0.0|    3.0|    6.0|   -3.0|      0.0|\n",
      "|    max|   225.0|      96.0|   34.0|   34.0|   44.0|   29.0|     10.0|\n",
      "+-------+--------+----------+-------+-------+-------+-------+---------+\n",
      "\n",
      "Quantidade de valores nulos por coluna:\n",
      "Coluna vl_prate: 0\n",
      "Coluna vl_rhstmax: 0\n",
      "Coluna vl_srad: 0\n",
      "Coluna vl_tavg: 0\n",
      "Coluna vl_tmax: 0\n",
      "Coluna vl_tmin: 0\n",
      "Coluna vl_wndspd: 0\n"
     ]
    }
   ],
   "source": [
    "statistical_description(agmerra)"
   ]
  },
  {
   "cell_type": "markdown",
   "metadata": {},
   "source": [
    "## 3.3. CHIRPS"
   ]
  },
  {
   "cell_type": "code",
   "execution_count": null,
   "metadata": {},
   "outputs": [
    {
     "name": "stdout",
     "output_type": "stream",
     "text": [
      "+----------+----------------+-----+-----+\n",
      "|      data|vl_precipitation|  lat|  lon|\n",
      "+----------+----------------+-----+-----+\n",
      "|1981-01-01|             0.0|-24.0|-53.0|\n",
      "|1981-01-02|             0.0|-24.0|-53.0|\n",
      "|1981-01-03|             0.0|-24.0|-53.0|\n",
      "|1981-01-04|            2.65|-24.0|-53.0|\n",
      "|1981-01-05|             3.1|-24.0|-53.0|\n",
      "+----------+----------------+-----+-----+\n",
      "only showing top 5 rows\n",
      "\n"
     ]
    }
   ],
   "source": [
    "chirps = spark.read.csv(os.path.join(bronze_path,f'full_CHIRPS.csv'),header=True,inferSchema=True)\n",
    "chirps.show(5)"
   ]
  },
  {
   "cell_type": "code",
   "execution_count": null,
   "metadata": {},
   "outputs": [
    {
     "name": "stdout",
     "output_type": "stream",
     "text": [
      "Descrição estatística das colunas\n",
      "Número de linhas: 674260167\n",
      "Datas: De 1981-01-01 até 2024-06-30\n",
      "+-------+----------------+\n",
      "|summary|vl_precipitation|\n",
      "+-------+----------------+\n",
      "|   mean|        -1943.28|\n",
      "| stddev|         3960.37|\n",
      "|    min|         -9999.0|\n",
      "|    max|          703.06|\n",
      "+-------+----------------+\n",
      "\n",
      "Quantidade de valores nulos por coluna:\n",
      "Coluna vl_precipitation: 0\n"
     ]
    }
   ],
   "source": [
    "statistical_description(chirps)"
   ]
  },
  {
   "cell_type": "markdown",
   "metadata": {},
   "source": [
    "## CPC"
   ]
  },
  {
   "cell_type": "code",
   "execution_count": null,
   "metadata": {},
   "outputs": [
    {
     "name": "stdout",
     "output_type": "stream",
     "text": [
      "+----------+------+------+----------------+-------+-------+\n",
      "|      data|   lat|   lon|vl_precipitation|vl_tmax|vl_tmin|\n",
      "+----------+------+------+----------------+-------+-------+\n",
      "|1979-01-01| -24.0|-50.85|            8.75|  28.82|  18.03|\n",
      "|1979-01-01| -24.0| -44.5|            3.24|  31.27|  22.15|\n",
      "|1979-01-01| -24.0| -41.6|            1.82|  30.58|  25.27|\n",
      "|1979-01-01|-23.95|-47.75|            9.33|  30.14|  19.85|\n",
      "|1979-01-01|-23.95|-42.85|             1.7|  33.57|   25.8|\n",
      "+----------+------+------+----------------+-------+-------+\n",
      "only showing top 5 rows\n",
      "\n"
     ]
    }
   ],
   "source": [
    "cpc = spark.read.csv(os.path.join(bronze_path,f'full_CPC.csv'),header=True,inferSchema=True)\n",
    "cpc.show(5)"
   ]
  },
  {
   "cell_type": "code",
   "execution_count": null,
   "metadata": {},
   "outputs": [
    {
     "name": "stdout",
     "output_type": "stream",
     "text": [
      "Descrição estatística das colunas\n",
      "Número de linhas: 706600209\n",
      "Datas: De 1979-01-01 até 2024-07-31\n",
      "+-------+----------------+-------+-------+\n",
      "|summary|vl_precipitation|vl_tmax|vl_tmin|\n",
      "+-------+----------------+-------+-------+\n",
      "|   mean|            3.51|  28.36|  18.36|\n",
      "| stddev|            7.89|   3.81|   3.75|\n",
      "|    min|             0.0|  -0.97| -44.24|\n",
      "|    max|          412.11|  49.36|  35.49|\n",
      "+-------+----------------+-------+-------+\n",
      "\n",
      "Quantidade de valores nulos por coluna:\n",
      "Coluna vl_precipitation: 42441\n",
      "Coluna vl_tmax: 1018584\n",
      "Coluna vl_tmin: 1018584\n"
     ]
    }
   ],
   "source": [
    "statistical_description(cpc)"
   ]
  },
  {
   "cell_type": "markdown",
   "metadata": {},
   "source": [
    "## GL"
   ]
  },
  {
   "cell_type": "code",
   "execution_count": null,
   "metadata": {},
   "outputs": [
    {
     "name": "stdout",
     "output_type": "stream",
     "text": [
      "+----------+--------------+-----+-----+\n",
      "|      data|vl_irradiancia|  lat|  lon|\n",
      "+----------+--------------+-----+-----+\n",
      "|1998-01-01|         18.97|-24.0|-53.0|\n",
      "|1998-01-02|         25.06|-24.0|-53.0|\n",
      "|1998-01-03|         15.31|-24.0|-53.0|\n",
      "|1998-01-04|         28.92|-24.0|-53.0|\n",
      "|1998-01-05|         27.65|-24.0|-53.0|\n",
      "+----------+--------------+-----+-----+\n",
      "only showing top 5 rows\n",
      "\n"
     ]
    }
   ],
   "source": [
    "gl = spark.read.csv(os.path.join(bronze_path,f'full_GL.csv'),header=True,inferSchema=True)\n",
    "gl.show(5)"
   ]
  },
  {
   "cell_type": "code",
   "execution_count": null,
   "metadata": {},
   "outputs": [
    {
     "name": "stdout",
     "output_type": "stream",
     "text": [
      "Descrição estatística das colunas\n",
      "Número de linhas: 64085910\n",
      "Datas: De 1998-01-01 até 2015-12-31\n",
      "+-------+--------------+\n",
      "|summary|vl_irradiancia|\n",
      "+-------+--------------+\n",
      "|   mean|         18.68|\n",
      "| stddev|         10.04|\n",
      "|    min|          0.02|\n",
      "|    max|        564.11|\n",
      "+-------+--------------+\n",
      "\n",
      "Quantidade de valores nulos por coluna:\n",
      "Coluna vl_irradiancia: 765270\n"
     ]
    }
   ],
   "source": [
    "statistical_description(gl)"
   ]
  },
  {
   "cell_type": "markdown",
   "metadata": {},
   "source": [
    "## GPM Final Run"
   ]
  },
  {
   "cell_type": "code",
   "execution_count": null,
   "metadata": {},
   "outputs": [
    {
     "name": "stdout",
     "output_type": "stream",
     "text": [
      "+----------+----------------+-----+-----+\n",
      "|      data|vl_precipitation|  lat|  lon|\n",
      "+----------+----------------+-----+-----+\n",
      "|2000-06-01|             3.9|-24.0|-53.0|\n",
      "|2000-06-02|             2.9|-24.0|-53.0|\n",
      "|2000-06-03|             3.2|-24.0|-53.0|\n",
      "|2000-06-04|            11.0|-24.0|-53.0|\n",
      "|2000-06-05|             1.4|-24.0|-53.0|\n",
      "+----------+----------------+-----+-----+\n",
      "only showing top 5 rows\n",
      "\n"
     ]
    }
   ],
   "source": [
    "gpm_final_run = spark.read.csv(os.path.join(bronze_path,f'full_GPM Final Run.csv'),header=True,inferSchema=True)\n",
    "gpm_final_run.show(5)"
   ]
  },
  {
   "cell_type": "code",
   "execution_count": null,
   "metadata": {},
   "outputs": [
    {
     "name": "stdout",
     "output_type": "stream",
     "text": [
      "Descrição estatística das colunas\n",
      "Número de linhas: 92011850\n",
      "Datas: De 2000-06-01 até 2024-03-31\n",
      "+-------+----------------+\n",
      "|summary|vl_precipitation|\n",
      "+-------+----------------+\n",
      "|   mean|            3.61|\n",
      "| stddev|            8.97|\n",
      "|    min|             0.0|\n",
      "|    max|           613.4|\n",
      "+-------+----------------+\n",
      "\n",
      "Quantidade de valores nulos por coluna:\n",
      "Coluna vl_precipitation: 0\n"
     ]
    }
   ],
   "source": [
    "statistical_description(gpm_final_run)"
   ]
  },
  {
   "cell_type": "markdown",
   "metadata": {},
   "source": [
    "## GPM Late Run"
   ]
  },
  {
   "cell_type": "code",
   "execution_count": null,
   "metadata": {},
   "outputs": [
    {
     "name": "stdout",
     "output_type": "stream",
     "text": [
      "+----------+----------------+-----+-----+\n",
      "|      data|vl_precipitation|  lat|  lon|\n",
      "+----------+----------------+-----+-----+\n",
      "|2000-06-07|             0.0|-24.0|-53.0|\n",
      "|2000-06-08|             0.3|-24.0|-53.0|\n",
      "|2000-06-09|             0.0|-24.0|-53.0|\n",
      "|2000-06-10|             3.6|-24.0|-53.0|\n",
      "|2000-06-11|             0.0|-24.0|-53.0|\n",
      "+----------+----------------+-----+-----+\n",
      "only showing top 5 rows\n",
      "\n"
     ]
    }
   ],
   "source": [
    "gpm_late_run = spark.read.csv(os.path.join(bronze_path,f'full_GPM Late Run.csv'),header=True,inferSchema=True)\n",
    "gpm_late_run.show(5)"
   ]
  },
  {
   "cell_type": "code",
   "execution_count": null,
   "metadata": {},
   "outputs": [
    {
     "name": "stdout",
     "output_type": "stream",
     "text": [
      "Descrição estatística das colunas\n",
      "Número de linhas: 93248540\n",
      "Datas: De 2000-06-07 até 2024-08-01\n",
      "+-------+----------------+\n",
      "|summary|vl_precipitation|\n",
      "+-------+----------------+\n",
      "|   mean|            3.77|\n",
      "| stddev|           11.01|\n",
      "|    min|             0.0|\n",
      "|    max|          1099.3|\n",
      "+-------+----------------+\n",
      "\n",
      "Quantidade de valores nulos por coluna:\n",
      "Coluna vl_precipitation: 0\n"
     ]
    }
   ],
   "source": [
    "statistical_description(gpm_late_run)"
   ]
  },
  {
   "cell_type": "markdown",
   "metadata": {},
   "source": [
    "## PERSIANN - CDR"
   ]
  },
  {
   "cell_type": "code",
   "execution_count": null,
   "metadata": {},
   "outputs": [
    {
     "name": "stdout",
     "output_type": "stream",
     "text": [
      "+----------+----------------+------+-----+\n",
      "|      data|vl_precipitation|   lat|  lon|\n",
      "+----------+----------------+------+-----+\n",
      "|2016-02-13|            7.99|-17.75|-45.5|\n",
      "|2016-02-14|             0.0|-17.75|-45.5|\n",
      "|2016-02-15|             1.7|-17.75|-45.5|\n",
      "|2016-02-16|            0.61|-17.75|-45.5|\n",
      "|2016-02-17|            1.14|-17.75|-45.5|\n",
      "+----------+----------------+------+-----+\n",
      "only showing top 5 rows\n",
      "\n"
     ]
    }
   ],
   "source": [
    "persiann = spark.read.csv(os.path.join(bronze_path,f'full_PERSIANN-CDR.csv'),header=True,inferSchema=True)\n",
    "persiann.show(5)"
   ]
  },
  {
   "cell_type": "code",
   "execution_count": null,
   "metadata": {},
   "outputs": [
    {
     "name": "stdout",
     "output_type": "stream",
     "text": [
      "Descrição estatística das colunas\n",
      "Número de linhas: 26490775\n",
      "Datas: De 1983-01-01 até 2023-12-31\n",
      "+-------+----------------+\n",
      "|summary|vl_precipitation|\n",
      "+-------+----------------+\n",
      "|   mean|             3.8|\n",
      "| stddev|            7.71|\n",
      "|    min|             0.0|\n",
      "|    max|          206.45|\n",
      "+-------+----------------+\n",
      "\n",
      "Quantidade de valores nulos por coluna:\n",
      "Coluna vl_precipitation: 222011\n"
     ]
    }
   ],
   "source": [
    "statistical_description(persiann)"
   ]
  },
  {
   "cell_type": "markdown",
   "metadata": {},
   "source": [
    "## POWER"
   ]
  },
  {
   "cell_type": "code",
   "execution_count": null,
   "metadata": {},
   "outputs": [
    {
     "name": "stdout",
     "output_type": "stream",
     "text": [
      "+----------+-----+-----+--------------------+--------------+------+-------+----------+----------+------+---------+-------+--------+-----------+-------+------------+--------+\n",
      "|      data|  lat|  lon|vl_allsky_sfc_sw_dwn|vl_prectotcorr| vl_ps|vl_rh2m|vl_t2m_max|vl_t2m_min|vl_t2m|vl_t2mdew|vl_wd2m|vl_wd10m|vl_ws2m_max|vl_ws2m|vl_ws10m_max|vl_ws10m|\n",
      "+----------+-----+-----+--------------------+--------------+------+-------+----------+----------+------+---------+-------+--------+-----------+-------+------------+--------+\n",
      "|1981-01-01|-24.0|-50.0|                NULL|          0.11| 92.71|   70.5|     29.98|     17.65| 23.67|    17.26| 154.25|   137.0|        0.2|   0.03|         1.3|    0.75|\n",
      "|1981-01-01|-24.0|-49.5|                NULL|          0.05| 93.03|   70.4|     31.32|      16.6|  23.2|    16.38|  126.3|  127.05|       0.05|   0.01|        1.55|    1.11|\n",
      "|1981-01-01|-24.0|-43.5|                NULL|          0.41|101.03|  78.95|     26.01|     25.06| 25.61|    21.71| 220.06|  220.06|        4.4|   3.13|        4.96|     3.5|\n",
      "|1981-01-01|-24.0|-38.5|                NULL|         14.09|101.17|  88.08|     25.14|      24.7| 24.99|     22.9| 222.38|  222.38|       8.31|   7.22|        9.88|    8.51|\n",
      "|1981-01-01|-23.0|-42.5|                NULL|          2.33|100.64|  80.81|     27.65|     23.12|  25.1|    21.45|  189.5|  179.81|       2.72|   1.71|        3.52|    2.25|\n",
      "+----------+-----+-----+--------------------+--------------+------+-------+----------+----------+------+---------+-------+--------+-----------+-------+------------+--------+\n",
      "only showing top 5 rows\n",
      "\n"
     ]
    }
   ],
   "source": [
    "power = spark.read.csv(os.path.join(bronze_path,f'full_POWER.csv'),header=True,inferSchema=True)\n",
    "power.show(5)"
   ]
  },
  {
   "cell_type": "code",
   "execution_count": null,
   "metadata": {},
   "outputs": [
    {
     "name": "stdout",
     "output_type": "stream",
     "text": [
      "Descrição estatística das colunas\n"
     ]
    },
    {
     "name": "stdout",
     "output_type": "stream",
     "text": [
      "Número de linhas: 7401870\n",
      "Datas: De 1981-01-01 até 2024-07-31\n",
      "+-------+--------------------+--------------+------+-------+----------+----------+------+---------+-------+--------+-----------+-------+------------+--------+\n",
      "|summary|vl_allsky_sfc_sw_dwn|vl_prectotcorr| vl_ps|vl_rh2m|vl_t2m_max|vl_t2m_min|vl_t2m|vl_t2mdew|vl_wd2m|vl_wd10m|vl_ws2m_max|vl_ws2m|vl_ws10m_max|vl_ws10m|\n",
      "+-------+--------------------+--------------+------+-------+----------+----------+------+---------+-------+--------+-----------+-------+------------+--------+\n",
      "|   mean|               18.63|          3.48|  96.0|  75.16|     27.65|      18.7| 22.76|    17.46| 128.91|  129.09|       3.79|   2.55|        5.24|    3.63|\n",
      "| stddev|                5.62|          6.67|  3.63|  12.17|       3.7|      4.26|   3.2|     4.15|  69.98|   70.07|       2.02|   1.78|        2.14|    1.85|\n",
      "|    min|                0.34|           0.0| 88.45|  16.28|      8.33|     -3.38|  4.09|   -11.07|   3.16|    3.16|        0.0|    0.0|         0.7|    0.38|\n",
      "|    max|               35.81|         277.2|103.49|   99.0|     44.61|     30.63| 36.51|    26.73| 355.69|  356.81|      16.23|  12.84|       20.11|   15.66|\n",
      "+-------+--------------------+--------------+------+-------+----------+----------+------+---------+-------+--------+-----------+-------+------------+--------+\n",
      "\n",
      "Quantidade de valores nulos por coluna:\n",
      "Coluna vl_allsky_sfc_sw_dwn: 510105\n",
      "Coluna vl_prectotcorr: 0\n",
      "Coluna vl_ps: 1395\n",
      "Coluna vl_rh2m: 1395\n",
      "Coluna vl_t2m_max: 1395\n",
      "Coluna vl_t2m_min: 1395\n",
      "Coluna vl_t2m: 1395\n",
      "Coluna vl_t2mdew: 1395\n",
      "Coluna vl_wd2m: 1395\n",
      "Coluna vl_wd10m: 1395\n",
      "Coluna vl_ws2m_max: 1395\n",
      "Coluna vl_ws2m: 1395\n",
      "Coluna vl_ws10m_max: 1395\n",
      "Coluna vl_ws10m: 1395\n"
     ]
    }
   ],
   "source": [
    "statistical_description(power)"
   ]
  },
  {
   "cell_type": "markdown",
   "metadata": {},
   "source": [
    "## TRMM"
   ]
  },
  {
   "cell_type": "code",
   "execution_count": null,
   "metadata": {},
   "outputs": [
    {
     "name": "stdout",
     "output_type": "stream",
     "text": [
      "+----------+----------------+------+-----+\n",
      "|      data|vl_precipitation|   lat|  lon|\n",
      "+----------+----------------+------+-----+\n",
      "|2001-12-24|            1.38|-17.75|-43.5|\n",
      "|2001-12-25|             0.0|-17.75|-43.5|\n",
      "|2001-12-26|             5.8|-17.75|-43.5|\n",
      "|2001-12-27|           15.93|-17.75|-43.5|\n",
      "|2001-12-28|           27.76|-17.75|-43.5|\n",
      "+----------+----------------+------+-----+\n",
      "only showing top 5 rows\n",
      "\n"
     ]
    }
   ],
   "source": [
    "trmm = spark.read.csv(os.path.join(bronze_path,f'full_TRMM.csv'),header=True,inferSchema=True)\n",
    "trmm.show(5)"
   ]
  },
  {
   "cell_type": "code",
   "execution_count": null,
   "metadata": {},
   "outputs": [
    {
     "name": "stdout",
     "output_type": "stream",
     "text": [
      "Descrição estatística das colunas\n",
      "Número de linhas: 14212146\n",
      "Datas: De 1998-01-01 até 2019-12-30\n",
      "+-------+----------------+\n",
      "|summary|vl_precipitation|\n",
      "+-------+----------------+\n",
      "|   mean|            3.64|\n",
      "| stddev|            9.79|\n",
      "|    min|             0.0|\n",
      "|    max|          416.85|\n",
      "+-------+----------------+\n",
      "\n",
      "Quantidade de valores nulos por coluna:\n",
      "Coluna vl_precipitation: 0\n"
     ]
    }
   ],
   "source": [
    "statistical_description(trmm)"
   ]
  },
  {
   "cell_type": "markdown",
   "metadata": {},
   "source": [
    "# 4. Análise entre satélites"
   ]
  },
  {
   "cell_type": "code",
   "execution_count": null,
   "metadata": {},
   "outputs": [
    {
     "name": "stdout",
     "output_type": "stream",
     "text": [
      "Testando valores de diferentes satélites para a mesma data e coordenadas\n",
      "Data: 2000-01-01\n",
      "Coordenadas: Lat -23, Lon -40\n",
      "\n",
      "AgCFSR\n",
      "+----------+-----+-----+--------+----------+-------+-------+-------+-------+---------+\n",
      "|      data|  lat|  lon|vl_prate|vl_rhstmax|vl_srad|vl_tavg|vl_tmax|vl_tmin|vl_wndspd|\n",
      "+----------+-----+-----+--------+----------+-------+-------+-------+-------+---------+\n",
      "|2000-01-01|-23.0|-40.0|     1.0|      76.0|    5.0|   26.0|   30.0|   23.0|      8.0|\n",
      "+----------+-----+-----+--------+----------+-------+-------+-------+-------+---------+\n",
      "\n",
      "\n",
      "AgMERRA\n",
      "+----------+-----+-----+--------+----------+-------+-------+-------+-------+---------+\n",
      "|      data|  lat|  lon|vl_prate|vl_rhstmax|vl_srad|vl_tavg|vl_tmax|vl_tmin|vl_wndspd|\n",
      "+----------+-----+-----+--------+----------+-------+-------+-------+-------+---------+\n",
      "|2000-01-01|-23.0|-40.0|    11.0|      82.0|    5.0|   25.0|   28.0|   23.0|      7.0|\n",
      "+----------+-----+-----+--------+----------+-------+-------+-------+-------+---------+\n",
      "\n",
      "\n",
      "CHIRPS\n",
      "+----------+----------------+-----+-----+\n",
      "|      data|vl_precipitation|  lat|  lon|\n",
      "+----------+----------------+-----+-----+\n",
      "|2000-01-01|         -9999.0|-23.0|-40.0|\n",
      "+----------+----------------+-----+-----+\n",
      "\n",
      "\n",
      "CPC\n",
      "+----------+-----+-----+----------------+-------+-------+\n",
      "|      data|  lat|  lon|vl_precipitation|vl_tmax|vl_tmin|\n",
      "+----------+-----+-----+----------------+-------+-------+\n",
      "|2000-01-01|-23.0|-40.0|           16.27|  28.63|  24.69|\n",
      "+----------+-----+-----+----------------+-------+-------+\n",
      "\n",
      "\n",
      "GPM Final Run\n",
      "+----+----------------+---+---+\n",
      "|data|vl_precipitation|lat|lon|\n",
      "+----+----------------+---+---+\n",
      "+----+----------------+---+---+\n",
      "\n",
      "\n",
      "GPM Late Run\n",
      "+----+----------------+---+---+\n",
      "|data|vl_precipitation|lat|lon|\n",
      "+----+----------------+---+---+\n",
      "+----+----------------+---+---+\n",
      "\n",
      "\n",
      "PERSIANN\n",
      "+----------+----------------+-----+-----+\n",
      "|      data|vl_precipitation|  lat|  lon|\n",
      "+----------+----------------+-----+-----+\n",
      "|2000-01-01|           17.15|-23.0|-40.0|\n",
      "+----------+----------------+-----+-----+\n",
      "\n",
      "\n",
      "POWER\n",
      "+----------+-----+-----+--------------------+--------------+-----+-------+----------+----------+------+---------+-------+--------+-----------+-------+------------+--------+\n",
      "|      data|  lat|  lon|vl_allsky_sfc_sw_dwn|vl_prectotcorr|vl_ps|vl_rh2m|vl_t2m_max|vl_t2m_min|vl_t2m|vl_t2mdew|vl_wd2m|vl_wd10m|vl_ws2m_max|vl_ws2m|vl_ws10m_max|vl_ws10m|\n",
      "+----------+-----+-----+--------------------+--------------+-----+-------+----------+----------+------+---------+-------+--------+-----------+-------+------------+--------+\n",
      "|2000-01-01|-23.0|-40.0|               12.91|         12.46|100.8|  86.13|     26.55|     25.73| 26.13|    23.65|  23.13|   23.13|      10.91|   9.73|       13.19|   11.69|\n",
      "+----------+-----+-----+--------------------+--------------+-----+-------+----------+----------+------+---------+-------+--------+-----------+-------+------------+--------+\n",
      "\n",
      "\n",
      "TRMM\n",
      "+----------+----------------+-----+-----+\n",
      "|      data|vl_precipitation|  lat|  lon|\n",
      "+----------+----------------+-----+-----+\n",
      "|2000-01-01|            1.59|-23.0|-40.0|\n",
      "+----------+----------------+-----+-----+\n",
      "\n"
     ]
    }
   ],
   "source": [
    "lat = -23\n",
    "lon = -40\n",
    "data = '2000-01-01'\n",
    "\n",
    "print(\"Testando valores de diferentes satélites para a mesma data e coordenadas\")\n",
    "print(f\"Data: {data}\")\n",
    "print(f\"Coordenadas: Lat {lat}, Lon {lon}\")\n",
    "print()\n",
    "print(\"AgCFSR\")\n",
    "agcfsr.filter(\n",
    "    (F.col('lat')==lat) & \n",
    "    (F.col('lon')==lon) &\n",
    "    (F.col('data')==data)).show(5)\n",
    "\n",
    "print()\n",
    "print(\"AgMERRA\")\n",
    "agmerra.filter(\n",
    "    (F.col('lat')==lat) & \n",
    "    (F.col('lon')==lon) &\n",
    "    (F.col('data')==data)).show(5)\n",
    "\n",
    "print()\n",
    "print(\"CHIRPS\")\n",
    "chirps.filter(\n",
    "    (F.col('lat')==lat) & \n",
    "    (F.col('lon')==lon) &\n",
    "    (F.col('data')==data)).show(5)\n",
    "\n",
    "print()\n",
    "print(\"CPC\")\n",
    "cpc.filter(\n",
    "    (F.col('lat')==lat) & \n",
    "    (F.col('lon')==lon) &\n",
    "    (F.col('data')==data)).show(5)\n",
    "\n",
    "print()\n",
    "print(\"GPM Final Run\")\n",
    "gpm_final_run.filter(\n",
    "    (F.col('lat')==lat) & \n",
    "    (F.col('lon')==lon) &\n",
    "    (F.col('data')==data)).show(5)\n",
    "\n",
    "print()\n",
    "print(\"GPM Late Run\")\n",
    "gpm_late_run.filter(\n",
    "    (F.col('lat')==lat) & \n",
    "    (F.col('lon')==lon) &\n",
    "    (F.col('data')==data)).show(5)\n",
    "\n",
    "print()\n",
    "print(\"PERSIANN\")\n",
    "persiann.filter(\n",
    "    (F.col('lat')==lat) & \n",
    "    (F.col('lon')==lon) &\n",
    "    (F.col('data')==data)).show(5)\n",
    "\n",
    "print()\n",
    "print(\"POWER\")\n",
    "power.filter(\n",
    "    (F.col('lat')==lat) & \n",
    "    (F.col('lon')==lon) &\n",
    "    (F.col('data')==data)).show(5)\n",
    "\n",
    "print()\n",
    "print(\"TRMM\")\n",
    "trmm.filter(\n",
    "    (F.col('lat')==lat) & \n",
    "    (F.col('lon')==lon) &\n",
    "    (F.col('data')==data)).show(5)\n",
    "    "
   ]
  },
  {
   "cell_type": "markdown",
   "metadata": {},
   "source": [
    "# QUALIFICAÇÃO"
   ]
  },
  {
   "cell_type": "code",
   "execution_count": 1,
   "metadata": {},
   "outputs": [],
   "source": [
    "import duckdb\n",
    "import pandas as pd\n",
    "import numpy as np\n",
    "import matplotlib.pyplot as plt\n",
    "import seaborn as sns\n",
    "from pyspark.sql import SparkSession,Window\n",
    "import pyspark.sql.functions as F\n",
    "\n",
    "spark = SparkSession.builder.appName(\"Mateus\") \\\n",
    "    .config(\"spark.sql.shuffle.partitions\", \"100\") \\\n",
    "    .config(\"spark.sql.files.maxPartitionBytes\", \"128MB\") \\\n",
    "    .config(\"spark.sql.files.openCostInBytes\", \"4MB\")  \\\n",
    "    .config(\"spark.driver.maxResultSize\", \"4g\") \\\n",
    "    .config(\"spark.driver.memory\", \"16g\")  \\\n",
    "    .config(\"spark.executor.cores\", \"4\") \\\n",
    "    .config(\"spark.executor.memory\", \"8g\") \\\n",
    "    .config(\"spark.sql.execution.arrow.enabled\", \"true\") \\\n",
    "    .config(\"spark.sql.execution.arrow.pyspark.enabled\", \"true\") \\\n",
    "    .config(\"spark.dynamicAllocation.enabled\", \"true\") \\\n",
    "    .config(\"spark.dynamicAllocation.minExecutors\", \"1\") \\\n",
    "    .config(\"spark.dynamicAllocation.maxExecutors\", \"4\")  \\\n",
    "    .getOrCreate()\n",
    "\n",
    "conn = duckdb.connect('r2_prata.duckdb')\n",
    "conn.execute(\"ATTACH 'r2_ouro.duckdb' AS r2_ouro\")\n",
    "\n",
    "\n",
    "def sql(query,conn=conn):\n",
    "    return conn.execute(query).fetch_df()\n",
    "\n",
    "show_tables_prata_query = \"\"\" SELECT DISTINCT table_name FROM information_schema.tables WHERE table_catalog = 'r2_prata' \"\"\"\n",
    "\n",
    "\n",
    "show_tables_ouro_query = \"\"\" SELECT DISTINCT table_name FROM information_schema.tables WHERE table_catalog = 'r2_ouro' \"\"\""
   ]
  },
  {
   "cell_type": "markdown",
   "metadata": {},
   "source": [
    "## Análise: Precipitação de Satélites"
   ]
  },
  {
   "cell_type": "code",
   "execution_count": 2,
   "metadata": {},
   "outputs": [],
   "source": [
    "fato_estacoes_precipitacao = sql(\"SELECT * FROM r2_ouro.fato_estacoes_precipitacao WHERE vl_precipitacao>=0 AND vl_precipitacao<=51\")"
   ]
  },
  {
   "cell_type": "code",
   "execution_count": 3,
   "metadata": {},
   "outputs": [],
   "source": [
    "fato_estacoes_precipitacao['dt_medicao'] = pd.to_datetime(\n",
    "    fato_estacoes_precipitacao['dt_medicao'].astype(str).str.replace(' ',''))\n",
    "\n",
    "fato_estacoes_precipitacao['month'] = fato_estacoes_precipitacao['dt_medicao'].dt.month\n",
    "fato_estacoes_precipitacao['year'] = fato_estacoes_precipitacao['dt_medicao'].dt.year\n",
    "fato_estacoes_precipitacao = fato_estacoes_precipitacao.loc[fato_estacoes_precipitacao['year']>=1961]"
   ]
  },
  {
   "cell_type": "code",
   "execution_count": 4,
   "metadata": {},
   "outputs": [
    {
     "data": {
      "image/png": "[encoded data removed]",
      "text/plain": [
       "<Figure size 800x400 with 1 Axes>"
      ]
     },
     "metadata": {},
     "output_type": "display_data"
    }
   ],
   "source": [
    "plt.figure(figsize=(8,4))\n",
    "plt.title('Quantidade de estações com alguma medição de precipitação por ano')\n",
    "plt.grid()\n",
    "plt.ylabel('Número de estações')\n",
    "plt.xlabel('Ano de medição')\n",
    "plt.ylim((0,600))\n",
    "g = sns.lineplot(data=fato_estacoes_precipitacao.groupby('year')['id_estacao'].nunique(),color='b')\n",
    "g.set_axisbelow(True)"
   ]
  },
  {
   "cell_type": "code",
   "execution_count": 6,
   "metadata": {},
   "outputs": [
    {
     "data": {
      "image/png": "[encoded data removed]",
      "text/plain": [
       "<Figure size 800x400 with 1 Axes>"
      ]
     },
     "metadata": {},
     "output_type": "display_data"
    }
   ],
   "source": [
    "plt.figure(figsize=(8,4))\n",
    "plt.title('Média de precipitação mensal por estação meteorológica')\n",
    "plt.grid()\n",
    "plt.xlabel('Mês do ano')\n",
    "plt.ylabel('Precipitação Mensal (mm)')\n",
    "plt.ylim((0,200))\n",
    "g = sns.lineplot(data=fato_estacoes_precipitacao.loc[fato_estacoes_precipitacao['dt_medicao'].dt.year>=2010].groupby(['id_estacao','year','month'],as_index=False)['vl_precipitacao'].sum(),\n",
    "    x='month',y='vl_precipitacao',color='b')\n",
    "\n",
    "g.set_axisbelow(True)"
   ]
  },
  {
   "cell_type": "code",
   "execution_count": 45,
   "metadata": {},
   "outputs": [
    {
     "data": {
      "text/plain": [
       "0.04"
      ]
     },
     "execution_count": 45,
     "metadata": {},
     "output_type": "execute_result"
    }
   ],
   "source": [
    "fato_estacoes_precipitacao['vl_precipitacao'].quantile(0.66)"
   ]
  },
  {
   "cell_type": "code",
   "execution_count": 17,
   "metadata": {},
   "outputs": [
    {
     "data": {
      "image/png": "[encoded data removed]",
      "text/plain": [
       "<Figure size 1600x800 with 1 Axes>"
      ]
     },
     "metadata": {},
     "output_type": "display_data"
    }
   ],
   "source": [
    "plt.figure(figsize=(16,8))\n",
    "g = sns.boxplot(data=fato_estacoes_precipitacao.loc[fato_estacoes_precipitacao['year'].isin(range(2010,2024))],y='vl_precipitacao',x='year',showfliers=False,color='b')\n",
    "plt.grid()\n",
    "plt.xlabel('Ano',fontsize=22)\n",
    "plt.ylabel('Valor diário de precipitação',fontsize=22)\n",
    "plt.xticks(fontsize=18)\n",
    "plt.yticks(fontsize=18)\n",
    "g.set_axisbelow(True)"
   ]
  },
  {
   "cell_type": "code",
   "execution_count": 55,
   "metadata": {},
   "outputs": [],
   "source": [
    "abt = sql(\"SELECT * FROM r2_ouro.ABT_satelite_all WHERE vl_precipitacao>0 AND vl_precipitacao<=51 AND YEAR(CAST(dt_medicao AS DATE))>=2010\")"
   ]
  },
  {
   "cell_type": "code",
   "execution_count": 64,
   "metadata": {},
   "outputs": [
    {
     "data": {
      "text/plain": [
       "<Axes: xlabel='vl_temperatura_maxima', ylabel='vl_precipitacao'>"
      ]
     },
     "execution_count": 64,
     "metadata": {},
     "output_type": "execute_result"
    },
    {
     "data": {
      "image/png": "[encoded data removed]",
      "text/plain": [
       "<Figure size 640x480 with 1 Axes>"
      ]
     },
     "metadata": {},
     "output_type": "display_data"
    }
   ],
   "source": [
    "sns.scatterplot(data=abt,y='vl_precipitacao',x='vl_temperatura_maxima')"
   ]
  },
  {
   "cell_type": "code",
   "execution_count": null,
   "metadata": {},
   "outputs": [],
   "source": []
  },
  {
   "cell_type": "markdown",
   "metadata": {},
   "source": [
    "## Análise: Estações Vizinhas"
   ]
  },
  {
   "cell_type": "code",
   "execution_count": 2,
   "metadata": {},
   "outputs": [
    {
     "data": {
      "text/html": [
       "<div>\n",
       "<style scoped>\n",
       "    .dataframe tbody tr th:only-of-type {\n",
       "        vertical-align: middle;\n",
       "    }\n",
       "\n",
       "    .dataframe tbody tr th {\n",
       "        vertical-align: top;\n",
       "    }\n",
       "\n",
       "    .dataframe thead th {\n",
       "        text-align: right;\n",
       "    }\n",
       "</style>\n",
       "<table border=\"1\" class=\"dataframe\">\n",
       "  <thead>\n",
       "    <tr style=\"text-align: right;\">\n",
       "      <th></th>\n",
       "      <th>table_name</th>\n",
       "    </tr>\n",
       "  </thead>\n",
       "  <tbody>\n",
       "    <tr>\n",
       "      <th>0</th>\n",
       "      <td>abt_bruto</td>\n",
       "    </tr>\n",
       "    <tr>\n",
       "      <th>1</th>\n",
       "      <td>ABT_satelite_AgCFSR</td>\n",
       "    </tr>\n",
       "    <tr>\n",
       "      <th>2</th>\n",
       "      <td>ABT_satelite_AgMERRA</td>\n",
       "    </tr>\n",
       "    <tr>\n",
       "      <th>3</th>\n",
       "      <td>ABT_satelite_GL</td>\n",
       "    </tr>\n",
       "    <tr>\n",
       "      <th>4</th>\n",
       "      <td>ABT_satelite_PERSIANN_CDR</td>\n",
       "    </tr>\n",
       "    <tr>\n",
       "      <th>5</th>\n",
       "      <td>fato_estacoes_temperatura_minima</td>\n",
       "    </tr>\n",
       "    <tr>\n",
       "      <th>6</th>\n",
       "      <td>fato_estacoes_umidade_relativa_minima</td>\n",
       "    </tr>\n",
       "    <tr>\n",
       "      <th>7</th>\n",
       "      <td>ABT_satelite_all</td>\n",
       "    </tr>\n",
       "    <tr>\n",
       "      <th>8</th>\n",
       "      <td>ABT_satelite_GPM_Late_Run</td>\n",
       "    </tr>\n",
       "    <tr>\n",
       "      <th>9</th>\n",
       "      <td>ABT_satelite_POWER</td>\n",
       "    </tr>\n",
       "    <tr>\n",
       "      <th>10</th>\n",
       "      <td>fato_estacoes_temperatura_media</td>\n",
       "    </tr>\n",
       "    <tr>\n",
       "      <th>11</th>\n",
       "      <td>ABT_satelite_CHIRPS</td>\n",
       "    </tr>\n",
       "    <tr>\n",
       "      <th>12</th>\n",
       "      <td>estacoes_distancias</td>\n",
       "    </tr>\n",
       "    <tr>\n",
       "      <th>13</th>\n",
       "      <td>fato_estacoes_precipitacao</td>\n",
       "    </tr>\n",
       "    <tr>\n",
       "      <th>14</th>\n",
       "      <td>fato_estacoes_temperatura_maxima</td>\n",
       "    </tr>\n",
       "    <tr>\n",
       "      <th>15</th>\n",
       "      <td>fato_estacoes_umidade_relativa_maxima</td>\n",
       "    </tr>\n",
       "    <tr>\n",
       "      <th>16</th>\n",
       "      <td>fato_estacoes_umidade_relativa_media</td>\n",
       "    </tr>\n",
       "    <tr>\n",
       "      <th>17</th>\n",
       "      <td>ABT_satelite_CPC</td>\n",
       "    </tr>\n",
       "    <tr>\n",
       "      <th>18</th>\n",
       "      <td>ABT_satelite_TRMM</td>\n",
       "    </tr>\n",
       "    <tr>\n",
       "      <th>19</th>\n",
       "      <td>ABT_satelite_GPM_Final_Run</td>\n",
       "    </tr>\n",
       "    <tr>\n",
       "      <th>20</th>\n",
       "      <td>dim_estacoes_escolha_vizinha</td>\n",
       "    </tr>\n",
       "  </tbody>\n",
       "</table>\n",
       "</div>"
      ],
      "text/plain": [
       "                               table_name\n",
       "0                               abt_bruto\n",
       "1                     ABT_satelite_AgCFSR\n",
       "2                    ABT_satelite_AgMERRA\n",
       "3                         ABT_satelite_GL\n",
       "4               ABT_satelite_PERSIANN_CDR\n",
       "5        fato_estacoes_temperatura_minima\n",
       "6   fato_estacoes_umidade_relativa_minima\n",
       "7                        ABT_satelite_all\n",
       "8               ABT_satelite_GPM_Late_Run\n",
       "9                      ABT_satelite_POWER\n",
       "10        fato_estacoes_temperatura_media\n",
       "11                    ABT_satelite_CHIRPS\n",
       "12                    estacoes_distancias\n",
       "13             fato_estacoes_precipitacao\n",
       "14       fato_estacoes_temperatura_maxima\n",
       "15  fato_estacoes_umidade_relativa_maxima\n",
       "16   fato_estacoes_umidade_relativa_media\n",
       "17                       ABT_satelite_CPC\n",
       "18                      ABT_satelite_TRMM\n",
       "19             ABT_satelite_GPM_Final_Run\n",
       "20           dim_estacoes_escolha_vizinha"
      ]
     },
     "execution_count": 2,
     "metadata": {},
     "output_type": "execute_result"
    }
   ],
   "source": [
    "sql(show_tables_ouro_query)"
   ]
  },
  {
   "cell_type": "code",
   "execution_count": 3,
   "metadata": {},
   "outputs": [
    {
     "data": {
      "text/html": [
       "<div>\n",
       "<style scoped>\n",
       "    .dataframe tbody tr th:only-of-type {\n",
       "        vertical-align: middle;\n",
       "    }\n",
       "\n",
       "    .dataframe tbody tr th {\n",
       "        vertical-align: top;\n",
       "    }\n",
       "\n",
       "    .dataframe thead th {\n",
       "        text-align: right;\n",
       "    }\n",
       "</style>\n",
       "<table border=\"1\" class=\"dataframe\">\n",
       "  <thead>\n",
       "    <tr style=\"text-align: right;\">\n",
       "      <th></th>\n",
       "      <th>id_estacao_base</th>\n",
       "      <th>id_estacao_vizinha</th>\n",
       "      <th>pct_dados_faltantes_intersecao</th>\n",
       "      <th>distancia_km</th>\n",
       "    </tr>\n",
       "  </thead>\n",
       "  <tbody>\n",
       "    <tr>\n",
       "      <th>0</th>\n",
       "      <td>32816</td>\n",
       "      <td>1307</td>\n",
       "      <td>0.140468</td>\n",
       "      <td>391.715175</td>\n",
       "    </tr>\n",
       "    <tr>\n",
       "      <th>1</th>\n",
       "      <td>32817</td>\n",
       "      <td>1244</td>\n",
       "      <td>0.000795</td>\n",
       "      <td>545.205167</td>\n",
       "    </tr>\n",
       "    <tr>\n",
       "      <th>2</th>\n",
       "      <td>32817</td>\n",
       "      <td>1311</td>\n",
       "      <td>0.000000</td>\n",
       "      <td>1035.338445</td>\n",
       "    </tr>\n",
       "    <tr>\n",
       "      <th>3</th>\n",
       "      <td>32818</td>\n",
       "      <td>1228</td>\n",
       "      <td>0.000000</td>\n",
       "      <td>578.887202</td>\n",
       "    </tr>\n",
       "    <tr>\n",
       "      <th>4</th>\n",
       "      <td>32818</td>\n",
       "      <td>1305</td>\n",
       "      <td>0.000000</td>\n",
       "      <td>228.409822</td>\n",
       "    </tr>\n",
       "    <tr>\n",
       "      <th>...</th>\n",
       "      <td>...</td>\n",
       "      <td>...</td>\n",
       "      <td>...</td>\n",
       "      <td>...</td>\n",
       "    </tr>\n",
       "    <tr>\n",
       "      <th>288840</th>\n",
       "      <td>17</td>\n",
       "      <td>436</td>\n",
       "      <td>0.000000</td>\n",
       "      <td>514.861670</td>\n",
       "    </tr>\n",
       "    <tr>\n",
       "      <th>288841</th>\n",
       "      <td>1203</td>\n",
       "      <td>37235</td>\n",
       "      <td>0.125000</td>\n",
       "      <td>446.891219</td>\n",
       "    </tr>\n",
       "    <tr>\n",
       "      <th>288842</th>\n",
       "      <td>1272</td>\n",
       "      <td>37241</td>\n",
       "      <td>0.000000</td>\n",
       "      <td>208.489758</td>\n",
       "    </tr>\n",
       "    <tr>\n",
       "      <th>288843</th>\n",
       "      <td>30824</td>\n",
       "      <td>183612</td>\n",
       "      <td>0.000000</td>\n",
       "      <td>189.866058</td>\n",
       "    </tr>\n",
       "    <tr>\n",
       "      <th>288844</th>\n",
       "      <td>30824</td>\n",
       "      <td>37261</td>\n",
       "      <td>0.000000</td>\n",
       "      <td>743.474726</td>\n",
       "    </tr>\n",
       "  </tbody>\n",
       "</table>\n",
       "<p>288845 rows × 4 columns</p>\n",
       "</div>"
      ],
      "text/plain": [
       "        id_estacao_base  id_estacao_vizinha  pct_dados_faltantes_intersecao  \\\n",
       "0                 32816                1307                        0.140468   \n",
       "1                 32817                1244                        0.000795   \n",
       "2                 32817                1311                        0.000000   \n",
       "3                 32818                1228                        0.000000   \n",
       "4                 32818                1305                        0.000000   \n",
       "...                 ...                 ...                             ...   \n",
       "288840               17                 436                        0.000000   \n",
       "288841             1203               37235                        0.125000   \n",
       "288842             1272               37241                        0.000000   \n",
       "288843            30824              183612                        0.000000   \n",
       "288844            30824               37261                        0.000000   \n",
       "\n",
       "        distancia_km  \n",
       "0         391.715175  \n",
       "1         545.205167  \n",
       "2        1035.338445  \n",
       "3         578.887202  \n",
       "4         228.409822  \n",
       "...              ...  \n",
       "288840    514.861670  \n",
       "288841    446.891219  \n",
       "288842    208.489758  \n",
       "288843    189.866058  \n",
       "288844    743.474726  \n",
       "\n",
       "[288845 rows x 4 columns]"
      ]
     },
     "execution_count": 3,
     "metadata": {},
     "output_type": "execute_result"
    }
   ],
   "source": [
    "sql(\n",
    "\"\"\"\n",
    "SELECT \n",
    "    dim.id_estacao_base\n",
    "    ,base.vl_precipitacao AS vl_precipitacao_base\n",
    "    ,dim.id_estacao_vizinha\n",
    "FROM r2_ouro.dim_estacoes_escolha_vizinha AS dim\n",
    "JOIN r2_ouro.fato_estacoes_precipitacao AS base\n",
    "    ON dim.id_estacao_base = base.id_estacao\n",
    "JOIN r2_ouro.fato_estacoes_precipitacao AS vizinha\n",
    "    ON dim.id_estacao_vizinha\n",
    "\n",
    "\"\"\")"
   ]
  },
  {
   "cell_type": "code",
   "execution_count": 40,
   "metadata": {},
   "outputs": [
    {
     "data": {
      "text/plain": [
       "Text(0, 0.5, 'Correlação de Pearson')"
      ]
     },
     "execution_count": 40,
     "metadata": {},
     "output_type": "execute_result"
    },
    {
     "data": {
      "image/png": "[encoded data removed]",
      "text/plain": [
       "<Figure size 640x480 with 1 Axes>"
      ]
     },
     "metadata": {},
     "output_type": "display_data"
    }
   ],
   "source": [
    "abt_bruto = sql(\n",
    "\"\"\"\n",
    "SELECT \n",
    "    * \n",
    "FROM r2_ouro.abt_bruto \n",
    "WHERE 1=1\n",
    "    AND vl_precipitacao >=0 AND vl_precipitacao <= 51\n",
    "    AND vl_precipitacao_vizinha_1 >= 0 AND vl_precipitacao_vizinha_1 <= 51\n",
    "    AND vl_precipitacao_vizinha_2 >= 0 AND vl_precipitacao_vizinha_2 <= 51\n",
    "    AND vl_precipitacao_vizinha_3 >= 0 AND vl_precipitacao_vizinha_3 <= 51\n",
    "    AND vl_precipitacao_vizinha_4 >= 0 AND vl_precipitacao_vizinha_4 <= 51\n",
    "    AND vl_precipitacao_vizinha_5 >= 0 AND vl_precipitacao_vizinha_5 <= 51\n",
    "    AND vl_precipitacao_vizinha_6 >= 0 AND vl_precipitacao_vizinha_6 <= 51\n",
    "    AND vl_precipitacao_vizinha_7 >= 0 AND vl_precipitacao_vizinha_7 <= 51\n",
    "    AND vl_precipitacao_vizinha_8 >= 0 AND vl_precipitacao_vizinha_8 <= 51\n",
    "    AND vl_precipitacao_vizinha_9 >= 0 AND vl_precipitacao_vizinha_9 <= 51\n",
    "    AND vl_precipitacao_vizinha_10 >= 0 AND vl_precipitacao_vizinha_10 <= 51\n",
    "    AND vl_precipitacao_vizinha_11 >= 0 AND vl_precipitacao_vizinha_11 <= 51\n",
    "    AND vl_precipitacao_vizinha_12 >= 0 AND vl_precipitacao_vizinha_12 <= 51\n",
    "    \"\"\")\n",
    "\n",
    "g = abt_bruto[[c for c in abt_bruto.columns if 'precipitacao' in c]].corr()['vl_precipitacao'].drop('vl_precipitacao').plot.bar(color='b')\n",
    "plt.grid()\n",
    "plt.title(\"Correlação de Pearson: Medições de precipitação entre estações vizinhas\")\n",
    "g.set_axisbelow(True)\n",
    "g.set_xticklabels([f'Precipitação: Vizinha {i}' for i in range(1,13)])\n",
    "plt.xticks(rotation=45,ha='right')\n",
    "g.set_ylabel('Correlação de Pearson')"
   ]
  },
  {
   "cell_type": "code",
   "execution_count": 56,
   "metadata": {},
   "outputs": [
    {
     "data": {
      "text/plain": [
       "Text(0, 0.5, 'Correlação de Pearson')"
      ]
     },
     "execution_count": 56,
     "metadata": {},
     "output_type": "execute_result"
    },
    {
     "data": {
      "image/png": "[encoded data removed]",
      "text/plain": [
       "<Figure size 640x480 with 1 Axes>"
      ]
     },
     "metadata": {},
     "output_type": "display_data"
    }
   ],
   "source": [
    "medicao = 'Umidade Relativa Média'\n",
    "medicao_column = medicao.lower().replace(' ','_').replace('é','e').replace('í','i').replace('á','a')\n",
    "# abt_bruto = sql(\n",
    "# \"\"\"\n",
    "# SELECT \n",
    "#     * \n",
    "# FROM r2_ouro.abt_bruto \n",
    "# WHERE 1=1\n",
    "#     \"\"\")\n",
    "\n",
    "g = abt_bruto[[c for c in abt_bruto.columns if medicao_column in c]].corr()[f'vl_{medicao_column}'].drop(f'vl_{medicao_column}').plot.bar(color='b')\n",
    "plt.grid()\n",
    "plt.title(f\"Correlação de Pearson: Medições de {medicao} entre estações vizinhas\")\n",
    "g.set_axisbelow(True)\n",
    "g.set_xticklabels([f'{medicao}: Vizinha {i}' for i in range(1,13)])\n",
    "plt.xticks(rotation=45,ha='right')\n",
    "g.set_ylabel('Correlação de Pearson')"
   ]
  },
  {
   "cell_type": "markdown",
   "metadata": {},
   "source": [
    "## Previsão só com satélites"
   ]
  },
  {
   "cell_type": "code",
   "execution_count": 2,
   "metadata": {},
   "outputs": [],
   "source": [
    "from metrics import MAE,RMSE,R2_DET,PSC,PSC_A,PCC_A,PMC_A"
   ]
  },
  {
   "cell_type": "code",
   "execution_count": 3,
   "metadata": {},
   "outputs": [],
   "source": [
    "satelites = ['AgCFSR','CHIRPS','CPC','GL','GPM_Final_Run','GPM_Late_Run','PERSIANN_CDR','POWER','TRMM']\n",
    "max_prec = 51\n",
    "abt_satelites = {}\n",
    "abt_satelites['CHIRPS'] = sql(f\"SELECT vl_precipitacao,vl_precipitacao_CHIRPS FROM r2_ouro.ABT_satelite_CHIRPS WHERE vl_precipitacao IS NOT NULL AND vl_precipitacao_CHIRPS IS NOT NULL AND YEAR(CAST(dt_medicao AS DATE))>=2016 AND vl_precipitacao>=0 AND vl_precipitacao<={max_prec}\")\n",
    "abt_satelites['CPC'] = sql(f\"SELECT vl_precipitacao,vl_precipitacao_CPC FROM r2_ouro.ABT_satelite_CPC WHERE vl_precipitacao IS NOT NULL AND vl_precipitacao_CPC IS NOT NULL AND YEAR(CAST(dt_medicao AS DATE))>=2016 AND vl_precipitacao>=0 AND vl_precipitacao<={max_prec}\")\n",
    "abt_satelites['GPM_Final_Run'] = sql(f\"SELECT vl_precipitacao,vl_precipitacao_GPM_Final_Run FROM r2_ouro.ABT_satelite_GPM_Final_Run WHERE vl_precipitacao IS NOT NULL AND vl_precipitacao_GPM_Final_Run IS NOT NULL AND YEAR(CAST(dt_medicao AS DATE))>=2016 AND vl_precipitacao>=0 AND vl_precipitacao<={max_prec}\")\n",
    "abt_satelites['GPM_Late_Run'] = sql(f\"SELECT vl_precipitacao,vl_precipitacao_GPM_Late_Run FROM r2_ouro.ABT_satelite_GPM_Late_Run WHERE vl_precipitacao IS NOT NULL AND vl_precipitacao_GPM_Late_Run IS NOT NULL AND YEAR(CAST(dt_medicao AS DATE))>=2016 AND vl_precipitacao>=0 AND vl_precipitacao<={max_prec}\")\n",
    "abt_satelites['PERSIANN_CDR'] = sql(f\"SELECT vl_precipitacao,vl_precipitacao_PERSIANN_CDR FROM r2_ouro.ABT_satelite_PERSIANN_CDR WHERE vl_precipitacao IS NOT NULL AND vl_precipitacao_PERSIANN_CDR IS NOT NULL AND YEAR(CAST(dt_medicao AS DATE))>=2016 AND vl_precipitacao>=0 AND vl_precipitacao<={max_prec}\")\n",
    "abt_satelites['POWER'] = sql(f\"SELECT vl_precipitacao,vl_precipitacao_total_corrigido_POWER FROM r2_ouro.ABT_satelite_POWER WHERE vl_precipitacao IS NOT NULL AND vl_precipitacao_total_corrigido_POWER IS NOT NULL AND YEAR(CAST(dt_medicao AS DATE))>=2016 AND vl_precipitacao>=0 AND vl_precipitacao<={max_prec}\")\n",
    "abt_satelites['TRMM'] = sql(f\"SELECT vl_precipitacao,vl_precipitacao_TRMM FROM r2_ouro.ABT_satelite_TRMM WHERE vl_precipitacao IS NOT NULL AND vl_precipitacao_TRMM IS NOT NULL AND YEAR(CAST(dt_medicao AS DATE))>=2016 AND vl_precipitacao>=0 AND vl_precipitacao<={max_prec}\")"
   ]
  },
  {
   "cell_type": "code",
   "execution_count": 4,
   "metadata": {},
   "outputs": [
    {
     "name": "stdout",
     "output_type": "stream",
     "text": [
      "CHIRPS\n",
      "MAE: 41.042\n",
      "RMSE: 610.902\n",
      "R2_DET: -0.003\n",
      "PSC: 71.76%\n",
      "PSC_A(0.5): 80.79%\n",
      "PCC_A(0.5): 4.06%\n",
      "PMC_A(5,20): 10.45%\n",
      "\n",
      "CPC\n",
      "MAE: 2.726\n",
      "RMSE: 6.678\n",
      "R2_DET: 0.009\n",
      "PSC: 89.96%\n",
      "PSC_A(0.5): 94.09%\n",
      "PCC_A(0.5): 34.99%\n",
      "PMC_A(5,20): 18.97%\n",
      "\n",
      "GPM_Final_Run\n",
      "MAE: 2.969\n",
      "RMSE: 7.077\n",
      "R2_DET: 0.209\n",
      "PSC: 81.96%\n",
      "PSC_A(0.5): 90.51%\n",
      "PCC_A(0.5): 20.91%\n",
      "PMC_A(5,20): 14.71%\n",
      "\n",
      "GPM_Late_Run\n",
      "MAE: 3.502\n",
      "RMSE: 8.810\n",
      "R2_DET: 0.056\n",
      "PSC: 79.93%\n",
      "PSC_A(0.5): 88.62%\n",
      "PCC_A(0.5): 23.34%\n",
      "PMC_A(5,20): 10.94%\n",
      "\n",
      "PERSIANN_CDR\n",
      "MAE: 3.576\n",
      "RMSE: 7.594\n",
      "R2_DET: -0.112\n",
      "PSC: 79.34%\n",
      "PSC_A(0.5): 87.83%\n",
      "PCC_A(0.5): 6.51%\n",
      "PMC_A(5,20): 11.71%\n",
      "\n",
      "POWER\n",
      "MAE: 3.399\n",
      "RMSE: 7.974\n",
      "R2_DET: -0.096\n",
      "PSC: 95.74%\n",
      "PSC_A(0.5): 99.01%\n",
      "PCC_A(0.5): 40.98%\n",
      "PMC_A(5,20): 11.78%\n",
      "\n",
      "TRMM\n",
      "MAE: 3.477\n",
      "RMSE: 8.615\n",
      "R2_DET: 0.036\n",
      "PSC: 76.09%\n",
      "PSC_A(0.5): 84.54%\n",
      "PCC_A(0.5): 8.30%\n",
      "PMC_A(5,20): 10.18%\n",
      "\n"
     ]
    }
   ],
   "source": [
    "for satelite,df in abt_satelites.items():\n",
    "    print(satelite)\n",
    "    y_pred = df.iloc[:,1]\n",
    "    y_true = df.iloc[:,0]\n",
    "    print(f'MAE: {MAE(y_pred,y_true):.3f}')\n",
    "    print(f'RMSE: {RMSE(y_pred,y_true):.3f}')\n",
    "    print(f'R2_DET: {R2_DET(y_pred,y_true):.3f}')\n",
    "    print(f'PSC: {PSC(y_pred,y_true):.2f}%')\n",
    "    print(f'PSC_A(0.5): {PSC_A(y_pred,y_true,0.5):.2f}%')\n",
    "    print(f'PCC_A(0.5): {PCC_A(y_pred,y_true,0.5):.2f}%')\n",
    "    print(f'PMC_A(5,20): {PMC_A(y_pred,y_true,5,20):.2f}%')\n",
    "    print()"
   ]
  },
  {
   "cell_type": "code",
   "execution_count": 5,
   "metadata": {},
   "outputs": [],
   "source": [
    "conn.close()"
   ]
  },
  {
   "cell_type": "code",
   "execution_count": null,
   "metadata": {},
   "outputs": [],
   "source": []
  },
  {
   "cell_type": "code",
   "execution_count": null,
   "metadata": {},
   "outputs": [],
   "source": []
  },
  {
   "cell_type": "code",
   "execution_count": null,
   "metadata": {},
   "outputs": [],
   "source": []
  },
  {
   "cell_type": "code",
   "execution_count": 58,
   "metadata": {},
   "outputs": [
    {
     "name": "stdout",
     "output_type": "stream",
     "text": [
      "id_estacao\n",
      "dt_medicao\n",
      "vl_temperatura_minima\n",
      "nm_grupo_estacao\n",
      "id_estacao_vizinha_1\n",
      "vl_temperatura_minima_vizinha_1\n",
      "id_estacao_vizinha_2\n",
      "vl_temperatura_minima_vizinha_2\n",
      "id_estacao_vizinha_3\n",
      "vl_temperatura_minima_vizinha_3\n",
      "id_estacao_vizinha_4\n",
      "vl_temperatura_minima_vizinha_4\n",
      "id_estacao_vizinha_5\n",
      "vl_temperatura_minima_vizinha_5\n",
      "id_estacao_vizinha_6\n",
      "vl_temperatura_minima_vizinha_6\n",
      "id_estacao_vizinha_7\n",
      "vl_temperatura_minima_vizinha_7\n",
      "id_estacao_vizinha_8\n",
      "vl_temperatura_minima_vizinha_8\n",
      "id_estacao_vizinha_9\n",
      "vl_temperatura_minima_vizinha_9\n",
      "id_estacao_vizinha_10\n",
      "vl_temperatura_minima_vizinha_10\n",
      "id_estacao_vizinha_11\n",
      "vl_temperatura_minima_vizinha_11\n",
      "id_estacao_vizinha_12\n",
      "vl_temperatura_minima_vizinha_12\n",
      "vl_temperatura_media\n",
      "vl_temperatura_media_vizinha_1\n",
      "vl_temperatura_media_vizinha_2\n",
      "vl_temperatura_media_vizinha_3\n",
      "vl_temperatura_media_vizinha_4\n",
      "vl_temperatura_media_vizinha_5\n",
      "vl_temperatura_media_vizinha_6\n",
      "vl_temperatura_media_vizinha_7\n",
      "vl_temperatura_media_vizinha_8\n",
      "vl_temperatura_media_vizinha_9\n",
      "vl_temperatura_media_vizinha_10\n",
      "vl_temperatura_media_vizinha_11\n",
      "vl_temperatura_media_vizinha_12\n",
      "vl_temperatura_maxima\n",
      "vl_temperatura_maxima_vizinha_1\n",
      "vl_temperatura_maxima_vizinha_2\n",
      "vl_temperatura_maxima_vizinha_3\n",
      "vl_temperatura_maxima_vizinha_4\n",
      "vl_temperatura_maxima_vizinha_5\n",
      "vl_temperatura_maxima_vizinha_6\n",
      "vl_temperatura_maxima_vizinha_7\n",
      "vl_temperatura_maxima_vizinha_8\n",
      "vl_temperatura_maxima_vizinha_9\n",
      "vl_temperatura_maxima_vizinha_10\n",
      "vl_temperatura_maxima_vizinha_11\n",
      "vl_temperatura_maxima_vizinha_12\n",
      "vl_umidade_relativa_minima\n",
      "vl_umidade_relativa_minima_vizinha_1\n",
      "vl_umidade_relativa_minima_vizinha_2\n",
      "vl_umidade_relativa_minima_vizinha_3\n",
      "vl_umidade_relativa_minima_vizinha_4\n",
      "vl_umidade_relativa_minima_vizinha_5\n",
      "vl_umidade_relativa_minima_vizinha_6\n",
      "vl_umidade_relativa_minima_vizinha_7\n",
      "vl_umidade_relativa_minima_vizinha_8\n",
      "vl_umidade_relativa_minima_vizinha_9\n",
      "vl_umidade_relativa_minima_vizinha_10\n",
      "vl_umidade_relativa_minima_vizinha_11\n",
      "vl_umidade_relativa_minima_vizinha_12\n",
      "vl_umidade_relativa_media\n",
      "vl_umidade_relativa_media_vizinha_1\n",
      "vl_umidade_relativa_media_vizinha_2\n",
      "vl_umidade_relativa_media_vizinha_3\n",
      "vl_umidade_relativa_media_vizinha_4\n",
      "vl_umidade_relativa_media_vizinha_5\n",
      "vl_umidade_relativa_media_vizinha_6\n",
      "vl_umidade_relativa_media_vizinha_7\n",
      "vl_umidade_relativa_media_vizinha_8\n",
      "vl_umidade_relativa_media_vizinha_9\n",
      "vl_umidade_relativa_media_vizinha_10\n",
      "vl_umidade_relativa_media_vizinha_11\n",
      "vl_umidade_relativa_media_vizinha_12\n",
      "vl_umidade_relativa_maxima\n",
      "vl_umidade_relativa_maxima_vizinha_1\n",
      "vl_umidade_relativa_maxima_vizinha_2\n",
      "vl_umidade_relativa_maxima_vizinha_3\n",
      "vl_umidade_relativa_maxima_vizinha_4\n",
      "vl_umidade_relativa_maxima_vizinha_5\n",
      "vl_umidade_relativa_maxima_vizinha_6\n",
      "vl_umidade_relativa_maxima_vizinha_7\n",
      "vl_umidade_relativa_maxima_vizinha_8\n",
      "vl_umidade_relativa_maxima_vizinha_9\n",
      "vl_umidade_relativa_maxima_vizinha_10\n",
      "vl_umidade_relativa_maxima_vizinha_11\n",
      "vl_umidade_relativa_maxima_vizinha_12\n",
      "vl_precipitacao\n",
      "vl_precipitacao_vizinha_1\n",
      "vl_precipitacao_vizinha_2\n",
      "vl_precipitacao_vizinha_3\n",
      "vl_precipitacao_vizinha_4\n",
      "vl_precipitacao_vizinha_5\n",
      "vl_precipitacao_vizinha_6\n",
      "vl_precipitacao_vizinha_7\n",
      "vl_precipitacao_vizinha_8\n",
      "vl_precipitacao_vizinha_9\n",
      "vl_precipitacao_vizinha_10\n",
      "vl_precipitacao_vizinha_11\n",
      "vl_precipitacao_vizinha_12\n"
     ]
    }
   ],
   "source": [
    "for c in (sql(\"SELECT * FROM r2_ouro.abt_bruto LIMIT 100\").columns):\n",
    "    print(c)"
   ]
  },
  {
   "cell_type": "code",
   "execution_count": 48,
   "metadata": {},
   "outputs": [
    {
     "name": "stdout",
     "output_type": "stream",
     "text": [
      "UNESP\n"
     ]
    },
    {
     "data": {
      "text/html": [
       "<div>\n",
       "<style scoped>\n",
       "    .dataframe tbody tr th:only-of-type {\n",
       "        vertical-align: middle;\n",
       "    }\n",
       "\n",
       "    .dataframe tbody tr th {\n",
       "        vertical-align: top;\n",
       "    }\n",
       "\n",
       "    .dataframe thead th {\n",
       "        text-align: right;\n",
       "    }\n",
       "</style>\n",
       "<table border=\"1\" class=\"dataframe\">\n",
       "  <thead>\n",
       "    <tr style=\"text-align: right;\">\n",
       "      <th></th>\n",
       "      <th>min</th>\n",
       "      <th>max</th>\n",
       "    </tr>\n",
       "  </thead>\n",
       "  <tbody>\n",
       "    <tr>\n",
       "      <th>0</th>\n",
       "      <td>01/01/1961</td>\n",
       "      <td>21/03/2018</td>\n",
       "    </tr>\n",
       "  </tbody>\n",
       "</table>\n",
       "</div>"
      ],
      "text/plain": [
       "          min         max\n",
       "0  01/01/1961  21/03/2018"
      ]
     },
     "execution_count": 48,
     "metadata": {},
     "output_type": "execute_result"
    }
   ],
   "source": [
    "grupo_estacao = 'UNESP'\n",
    "print(grupo_estacao)\n",
    "sql(\n",
    "f\"\"\"\n",
    "SELECT \n",
    "    STRFTIME('%d/%m/%Y', MIN(dt_medicao)::DATE) AS min\n",
    "    ,STRFTIME('%d/%m/%Y', MAX(dt_medicao)::DATE) AS max \n",
    "FROM r2_prata.fato_estacao_{grupo_estacao}\"\"\")"
   ]
  },
  {
   "cell_type": "code",
   "execution_count": 45,
   "metadata": {},
   "outputs": [
    {
     "name": "stdout",
     "output_type": "stream",
     "text": [
      "     count_star()  \"year\"(CAST(dt_medicao AS DATE))\n",
      "0             365                              1890\n",
      "1             365                              1891\n",
      "2             366                              1892\n",
      "3             365                              1893\n",
      "4             365                              1894\n",
      "5             365                              1895\n",
      "6             366                              1896\n",
      "7             365                              1897\n",
      "8             365                              1898\n",
      "9             365                              1899\n",
      "10            365                              1900\n",
      "11            365                              1901\n",
      "12            365                              1902\n",
      "13            365                              1903\n",
      "14            366                              1904\n",
      "15            365                              1905\n",
      "16            365                              1906\n",
      "17            365                              1907\n",
      "18            366                              1908\n",
      "19            365                              1909\n",
      "20            365                              1910\n",
      "21            365                              1911\n",
      "22            366                              1912\n",
      "23            365                              1913\n",
      "24            365                              1914\n",
      "25            365                              1915\n",
      "26            366                              1916\n",
      "27            365                              1917\n",
      "28            365                              1918\n",
      "29            365                              1919\n",
      "30            366                              1920\n",
      "31            365                              1921\n",
      "32            365                              1922\n",
      "33            365                              1923\n",
      "34            366                              1924\n",
      "35            365                              1925\n",
      "36            365                              1926\n",
      "37            365                              1927\n",
      "38            366                              1928\n",
      "39            365                              1929\n",
      "40            365                              1930\n",
      "41            365                              1931\n",
      "42            366                              1932\n",
      "43            365                              1933\n",
      "44            365                              1934\n",
      "45            365                              1935\n",
      "46            366                              1936\n",
      "47            365                              1937\n",
      "48            365                              1938\n",
      "49            365                              1939\n",
      "50            366                              1940\n",
      "51            365                              1941\n",
      "52            365                              1942\n",
      "53            365                              1943\n",
      "54            366                              1944\n",
      "55            365                              1945\n",
      "56            365                              1946\n",
      "57            365                              1947\n",
      "58            366                              1948\n",
      "59            365                              1949\n",
      "60            365                              1950\n",
      "61            365                              1951\n",
      "62            366                              1952\n",
      "63            365                              1953\n",
      "64            365                              1954\n",
      "65            365                              1955\n",
      "66            366                              1956\n",
      "67            365                              1957\n",
      "68            365                              1958\n",
      "69            365                              1959\n",
      "70            366                              1960\n",
      "71            365                              1961\n",
      "72            365                              1962\n",
      "73            365                              1963\n",
      "74            366                              1964\n",
      "75            365                              1965\n",
      "76            365                              1966\n",
      "77            365                              1967\n",
      "78            366                              1968\n",
      "79            365                              1969\n",
      "80            365                              1970\n",
      "81            365                              1971\n",
      "82            366                              1972\n",
      "83            365                              1973\n",
      "84            365                              1974\n",
      "85            365                              1975\n",
      "86            366                              1976\n",
      "87            365                              1977\n",
      "88            365                              1978\n",
      "89            365                              1979\n",
      "90            366                              1980\n",
      "91            365                              1981\n",
      "92            453                              1982\n",
      "93            730                              1983\n",
      "94            732                              1984\n",
      "95            730                              1985\n",
      "96            730                              1986\n",
      "97            730                              1987\n",
      "98            732                              1988\n",
      "99            730                              1989\n",
      "100           730                              1990\n",
      "101          2555                              1991\n",
      "102          5210                              1992\n",
      "103         11578                              1993\n",
      "104         14480                              1994\n",
      "105         18032                              1995\n",
      "106         21021                              1996\n",
      "107         22630                              1997\n",
      "108         22848                              1998\n",
      "109         26131                              1999\n",
      "110         30765                              2000\n",
      "111         32609                              2001\n",
      "112         33658                              2002\n",
      "113         33945                              2003\n",
      "114         34038                              2004\n",
      "115         33945                              2005\n",
      "116         31341                              2006\n"
     ]
    }
   ],
   "source": [
    "with pd.option_context('display.max_rows',None):    \n",
    "    print(sql(f\"SELECT COUNT(*),YEAR(CAST(dt_medicao AS DATE)) FROM r2_prata.fato_estacao_{grupo_estacao} GROUP BY YEAR(CAST(dt_medicao AS DATE)) ORDER BY YEAR(CAST(dt_medicao AS DATE))\"))"
   ]
  },
  {
   "cell_type": "code",
   "execution_count": null,
   "metadata": {},
   "outputs": [],
   "source": []
  },
  {
   "cell_type": "code",
   "execution_count": 2,
   "metadata": {},
   "outputs": [
    {
     "data": {
      "text/html": [
       "<div>\n",
       "<style scoped>\n",
       "    .dataframe tbody tr th:only-of-type {\n",
       "        vertical-align: middle;\n",
       "    }\n",
       "\n",
       "    .dataframe tbody tr th {\n",
       "        vertical-align: top;\n",
       "    }\n",
       "\n",
       "    .dataframe thead th {\n",
       "        text-align: right;\n",
       "    }\n",
       "</style>\n",
       "<table border=\"1\" class=\"dataframe\">\n",
       "  <thead>\n",
       "    <tr style=\"text-align: right;\">\n",
       "      <th></th>\n",
       "      <th>table_name</th>\n",
       "    </tr>\n",
       "  </thead>\n",
       "  <tbody>\n",
       "    <tr>\n",
       "      <th>0</th>\n",
       "      <td>fato_satelite_AgMERRA</td>\n",
       "    </tr>\n",
       "    <tr>\n",
       "      <th>1</th>\n",
       "      <td>fato_satelite_CPC</td>\n",
       "    </tr>\n",
       "    <tr>\n",
       "      <th>2</th>\n",
       "      <td>fato_estacao_CEMADEN</td>\n",
       "    </tr>\n",
       "    <tr>\n",
       "      <th>3</th>\n",
       "      <td>fato_estacao_UNESP</td>\n",
       "    </tr>\n",
       "    <tr>\n",
       "      <th>4</th>\n",
       "      <td>fato_estacao_ANA</td>\n",
       "    </tr>\n",
       "    <tr>\n",
       "      <th>5</th>\n",
       "      <td>fato_satelite_GPM_Late_Run</td>\n",
       "    </tr>\n",
       "    <tr>\n",
       "      <th>6</th>\n",
       "      <td>fato_satelite_POWER</td>\n",
       "    </tr>\n",
       "    <tr>\n",
       "      <th>7</th>\n",
       "      <td>fato_estacao_CEMIG</td>\n",
       "    </tr>\n",
       "    <tr>\n",
       "      <th>8</th>\n",
       "      <td>fato_estacao_IAC</td>\n",
       "    </tr>\n",
       "    <tr>\n",
       "      <th>9</th>\n",
       "      <td>fato_estacao_INMET_AGRI</td>\n",
       "    </tr>\n",
       "    <tr>\n",
       "      <th>10</th>\n",
       "      <td>fato_satelite_AgCFSR</td>\n",
       "    </tr>\n",
       "    <tr>\n",
       "      <th>11</th>\n",
       "      <td>fato_satelite_GL</td>\n",
       "    </tr>\n",
       "    <tr>\n",
       "      <th>12</th>\n",
       "      <td>fato_satelite_TRMM</td>\n",
       "    </tr>\n",
       "    <tr>\n",
       "      <th>13</th>\n",
       "      <td>dim_estacoes</td>\n",
       "    </tr>\n",
       "    <tr>\n",
       "      <th>14</th>\n",
       "      <td>fato_satelite_PERSIANN_CDR</td>\n",
       "    </tr>\n",
       "    <tr>\n",
       "      <th>15</th>\n",
       "      <td>dim_satelites</td>\n",
       "    </tr>\n",
       "    <tr>\n",
       "      <th>16</th>\n",
       "      <td>fato_estacao_INMET</td>\n",
       "    </tr>\n",
       "    <tr>\n",
       "      <th>17</th>\n",
       "      <td>fato_estacoes_precipitacao</td>\n",
       "    </tr>\n",
       "    <tr>\n",
       "      <th>18</th>\n",
       "      <td>fato_satelite_CHIRPS</td>\n",
       "    </tr>\n",
       "    <tr>\n",
       "      <th>19</th>\n",
       "      <td>fato_satelite_GPM_Final_Run</td>\n",
       "    </tr>\n",
       "  </tbody>\n",
       "</table>\n",
       "</div>"
      ],
      "text/plain": [
       "                     table_name\n",
       "0         fato_satelite_AgMERRA\n",
       "1             fato_satelite_CPC\n",
       "2          fato_estacao_CEMADEN\n",
       "3            fato_estacao_UNESP\n",
       "4              fato_estacao_ANA\n",
       "5    fato_satelite_GPM_Late_Run\n",
       "6           fato_satelite_POWER\n",
       "7            fato_estacao_CEMIG\n",
       "8              fato_estacao_IAC\n",
       "9       fato_estacao_INMET_AGRI\n",
       "10         fato_satelite_AgCFSR\n",
       "11             fato_satelite_GL\n",
       "12           fato_satelite_TRMM\n",
       "13                 dim_estacoes\n",
       "14   fato_satelite_PERSIANN_CDR\n",
       "15                dim_satelites\n",
       "16           fato_estacao_INMET\n",
       "17   fato_estacoes_precipitacao\n",
       "18         fato_satelite_CHIRPS\n",
       "19  fato_satelite_GPM_Final_Run"
      ]
     },
     "execution_count": 2,
     "metadata": {},
     "output_type": "execute_result"
    }
   ],
   "source": [
    "sql(show_tables_prata_query)"
   ]
  }
 ],
 "metadata": {
  "kernelspec": {
   "display_name": "Python 3",
   "language": "python",
   "name": "python3"
  },
  "language_info": {
   "codemirror_mode": {
    "name": "ipython",
    "version": 3
   },
   "file_extension": ".py",
   "mimetype": "text/x-python",
   "name": "python",
   "nbconvert_exporter": "python",
   "pygments_lexer": "ipython3",
   "version": "3.11.9"
  }
 },
 "nbformat": 4,
 "nbformat_minor": 2
}
