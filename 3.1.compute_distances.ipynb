{
 "cells": [
  {
   "cell_type": "code",
   "execution_count": 1,
   "metadata": {},
   "outputs": [],
   "source": [
    "import duckdb\n",
    "from choose_estacoes.pickers import haversine\n",
    "import pandas as pd\n",
    "\n",
    "\n",
    "conn_prata = duckdb.connect('r2_prata.duckdb')\n",
    "def sql(query):\n",
    "    return conn_prata.execute(query).fetch_df()"
   ]
  },
  {
   "cell_type": "code",
   "execution_count": 2,
   "metadata": {},
   "outputs": [],
   "source": [
    "conn_ouro = duckdb.connect('r2_ouro.duckdb')"
   ]
  },
  {
   "cell_type": "code",
   "execution_count": 4,
   "metadata": {},
   "outputs": [],
   "source": [
    "dim_estacoes = sql(\"SELECT DISTINCT id_estacao,lat,lon FROM dim_estacoes\")"
   ]
  },
  {
   "cell_type": "code",
   "execution_count": 5,
   "metadata": {},
   "outputs": [],
   "source": [
    "combinacoes = pd.merge(dim_estacoes, dim_estacoes, how='cross', suffixes=('_1', '_2'))\n",
    "combinacoes = combinacoes.loc[combinacoes['id_estacao_1'] != combinacoes['id_estacao_2']]\n",
    "combinacoes['distancia_km'] = haversine(\n",
    "    combinacoes['lat_1'], combinacoes['lon_1'],\n",
    "    combinacoes['lat_2'], combinacoes['lon_2']\n",
    ")"
   ]
  },
  {
   "cell_type": "code",
   "execution_count": 6,
   "metadata": {},
   "outputs": [],
   "source": [
    "conn_ouro = duckdb.connect('r2_ouro.duckdb')"
   ]
  },
  {
   "cell_type": "code",
   "execution_count": 7,
   "metadata": {},
   "outputs": [
    {
     "data": {
      "text/plain": [
       "<duckdb.duckdb.DuckDBPyConnection at 0x24498114f30>"
      ]
     },
     "execution_count": 7,
     "metadata": {},
     "output_type": "execute_result"
    }
   ],
   "source": [
    "conn_ouro.execute(\"CREATE TABLE IF NOT EXISTS 'estacoes_distancias' AS SELECT * FROM combinacoes\")"
   ]
  }
 ],
 "metadata": {
  "kernelspec": {
   "display_name": "Python 3",
   "language": "python",
   "name": "python3"
  },
  "language_info": {
   "codemirror_mode": {
    "name": "ipython",
    "version": 3
   },
   "file_extension": ".py",
   "mimetype": "text/x-python",
   "name": "python",
   "nbconvert_exporter": "python",
   "pygments_lexer": "ipython3",
   "version": "3.11.9"
  }
 },
 "nbformat": 4,
 "nbformat_minor": 2
}
